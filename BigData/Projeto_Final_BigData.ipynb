{
 "cells": [
  {
   "cell_type": "markdown",
   "metadata": {
    "id": "s5JWGDg1Tt6s"
   },
   "source": [
    "INSPER - Big Data e Computação em Nuvem\n",
    "\n",
    "# Big Data e Computação em Nuvem - Projeto Final: Análise de Atraso de Voos\n",
    "\n",
    "**Integrantes**:\n",
    "- Flávio\n",
    "- Hélio\n",
    "- Michel"
   ]
  },
  {
   "cell_type": "code",
   "execution_count": 44,
   "metadata": {},
   "outputs": [],
   "source": [
    "#Importando as bibliotecas necessárias\n",
    "import seaborn as sns\n",
    "import pyspark.sql.functions as f\n",
    "from pyspark.sql.types import StringType\n",
    "from matplotlib import pyplot as plt\n",
    "import pandas as pd\n",
    "import numpy as np\n",
    "import matplotlib.pyplot as plt\n",
    "from pyspark.sql import SparkSession, Row\n",
    "from pyspark.sql.functions import col, sum, when, stddev, mean, count, isnan\n",
    "from pyspark.ml.feature import VectorAssembler\n",
    "from pyspark.ml import Pipeline\n",
    "from pyspark.ml.feature import OneHotEncoder, StringIndexer\n",
    "from pyspark.ml.evaluation import RegressionEvaluator\n",
    "from pyspark.ml.stat import Correlation"
   ]
  },
  {
   "cell_type": "code",
   "execution_count": 45,
   "metadata": {
    "ExecuteTime": {
     "end_time": "2021-12-04T17:04:04.026505Z",
     "start_time": "2021-12-04T17:03:59.683551Z"
    },
    "id": "kN0zM7uDTt6y"
   },
   "outputs": [],
   "source": [
    "# Criar a sessao do Spark\n",
    "\n",
    "spark = SparkSession \\\n",
    "            .builder \\\n",
    "            .master(\"local[4]\") \\\n",
    "            .appName(\"nyc_<mudar-nome>\") \\\n",
    "            .config(\"spark.jars.packages\", \"org.apache.hadoop:hadoop-azure:3.3.4,com.microsoft.azure:azure-storage:8.6.6\") \\\n",
    "            .getOrCreate()"
   ]
  },
  {
   "cell_type": "code",
   "execution_count": 46,
   "metadata": {
    "id": "BtlPQBMUev9f"
   },
   "outputs": [],
   "source": [
    "STORAGE_ACCOUNT = 'dlspadseastusprod'\n",
    "CONTAINER = 'big-data-comp-nuvem'\n",
    "FOLDER = 'airline-delay'\n",
    "TOKEN = 'lSuH4ZI9BhOFEhCF/7ZQbrpPBIhgtLcPDfXjJ8lMxQZjaADW4p6tcmiZGDX9u05o7FqSE2t9d2RD+ASt0YFG8g=='\n",
    "\n",
    "spark.conf.set(\"fs.azure.account.key.\" + STORAGE_ACCOUNT + \".blob.core.windows.net\", TOKEN)"
   ]
  },
  {
   "cell_type": "code",
   "execution_count": 47,
   "metadata": {
    "id": "pfBLgWVPk1Xe",
    "outputId": "ea7abda6-e0df-4f07-fe30-6cef0b26e389"
   },
   "outputs": [],
   "source": [
    "# Vamos usar os dados de 2012\n",
    "df = spark.read.csv(\"wasbs://{}@{}.blob.core.windows.net/{}/2012.csv\".format(CONTAINER, STORAGE_ACCOUNT, FOLDER), header=True, inferSchema=True)"
   ]
  },
  {
   "cell_type": "markdown",
   "metadata": {
    "id": "-c1LJu6vllsO"
   },
   "source": [
    "- Definir o escopo do negócio: qùal será a definição do atraso?\n",
    "- A análise toda é do ponto do vista da empresa, consumidor ou governo (regulador)?\n",
    "- Criar variavel resposta\n",
    "- Tratamento de missing values\n",
    "- Verificar a qualidade das informações (estao no tipo certo?)\n",
    "- Criar colunas novas? Vamos manter todas as colunas para a etapa de modelagem?\n",
    "- Vamos usar outras variaveis (preço de petroleo, pois QAV representa 41% do custo em 2022, segundo a ANAC)? Como era o desempenho economico em cada ano?\n",
    "- Faremos filtros para retirar anos outliers?\n",
    "- Vamos retirar outliers? Verificar anos atípicos\n",
    "- verificar a influência de variáveis externa (desempenho economico, preço do petróleo, tempo)\n",
    "- Matriz de correlação\n",
    "- Analise bivariada: % atrasos por aeroporto, por regiao\n"
   ]
  },
  {
   "cell_type": "markdown",
   "metadata": {},
   "source": [
    "### Definir o escopo do negócio: qùal será a definição do atraso?\n",
    "\n",
    "O atraso será definido a partir da soma das coluna DEP_DELAY e ARR_DELAY. Sem tolerência de atraso (DEP_DELAY + ARR_DELAY > 0)."
   ]
  },
  {
   "cell_type": "code",
   "execution_count": 48,
   "metadata": {},
   "outputs": [
    {
     "name": "stdout",
     "output_type": "stream",
     "text": [
      "root\n",
      " |-- FL_DATE: timestamp (nullable = true)\n",
      " |-- OP_CARRIER: string (nullable = true)\n",
      " |-- OP_CARRIER_FL_NUM: integer (nullable = true)\n",
      " |-- ORIGIN: string (nullable = true)\n",
      " |-- DEST: string (nullable = true)\n",
      " |-- CRS_DEP_TIME: double (nullable = true)\n",
      " |-- DEP_TIME: double (nullable = true)\n",
      " |-- DEP_DELAY: double (nullable = true)\n",
      " |-- TAXI_OUT: double (nullable = true)\n",
      " |-- WHEELS_OFF: double (nullable = true)\n",
      " |-- WHEELS_ON: double (nullable = true)\n",
      " |-- TAXI_IN: double (nullable = true)\n",
      " |-- CRS_ARR_TIME: double (nullable = true)\n",
      " |-- ARR_TIME: double (nullable = true)\n",
      " |-- ARR_DELAY: double (nullable = true)\n",
      " |-- CANCELLED: double (nullable = true)\n",
      " |-- CANCELLATION_CODE: string (nullable = true)\n",
      " |-- DIVERTED: double (nullable = true)\n",
      " |-- CRS_ELAPSED_TIME: double (nullable = true)\n",
      " |-- ACTUAL_ELAPSED_TIME: double (nullable = true)\n",
      " |-- AIR_TIME: double (nullable = true)\n",
      " |-- DISTANCE: double (nullable = true)\n",
      " |-- CARRIER_DELAY: double (nullable = true)\n",
      " |-- WEATHER_DELAY: double (nullable = true)\n",
      " |-- NAS_DELAY: double (nullable = true)\n",
      " |-- SECURITY_DELAY: double (nullable = true)\n",
      " |-- LATE_AIRCRAFT_DELAY: double (nullable = true)\n",
      " |-- Unnamed: 27: string (nullable = true)\n",
      "\n"
     ]
    }
   ],
   "source": [
    "df.printSchema()"
   ]
  },
  {
   "cell_type": "code",
   "execution_count": 49,
   "metadata": {},
   "outputs": [
    {
     "name": "stderr",
     "output_type": "stream",
     "text": [
      "/opt/conda/lib/python3.10/site-packages/pyspark/sql/pandas/conversion.py:248: FutureWarning: Passing unit-less datetime64 dtype to .astype is deprecated and will raise in a future version. Pass 'datetime64[ns]' instead\n",
      "  series = series.astype(t, copy=False)\n"
     ]
    },
    {
     "data": {
      "text/html": [
       "<div>\n",
       "<style scoped>\n",
       "    .dataframe tbody tr th:only-of-type {\n",
       "        vertical-align: middle;\n",
       "    }\n",
       "\n",
       "    .dataframe tbody tr th {\n",
       "        vertical-align: top;\n",
       "    }\n",
       "\n",
       "    .dataframe thead th {\n",
       "        text-align: right;\n",
       "    }\n",
       "</style>\n",
       "<table border=\"1\" class=\"dataframe\">\n",
       "  <thead>\n",
       "    <tr style=\"text-align: right;\">\n",
       "      <th></th>\n",
       "      <th>FL_DATE</th>\n",
       "      <th>OP_CARRIER</th>\n",
       "      <th>OP_CARRIER_FL_NUM</th>\n",
       "      <th>ORIGIN</th>\n",
       "      <th>DEST</th>\n",
       "      <th>CRS_DEP_TIME</th>\n",
       "      <th>DEP_TIME</th>\n",
       "      <th>DEP_DELAY</th>\n",
       "      <th>TAXI_OUT</th>\n",
       "      <th>WHEELS_OFF</th>\n",
       "      <th>...</th>\n",
       "      <th>CRS_ELAPSED_TIME</th>\n",
       "      <th>ACTUAL_ELAPSED_TIME</th>\n",
       "      <th>AIR_TIME</th>\n",
       "      <th>DISTANCE</th>\n",
       "      <th>CARRIER_DELAY</th>\n",
       "      <th>WEATHER_DELAY</th>\n",
       "      <th>NAS_DELAY</th>\n",
       "      <th>SECURITY_DELAY</th>\n",
       "      <th>LATE_AIRCRAFT_DELAY</th>\n",
       "      <th>Unnamed: 27</th>\n",
       "    </tr>\n",
       "  </thead>\n",
       "  <tbody>\n",
       "    <tr>\n",
       "      <th>0</th>\n",
       "      <td>2012-01-01</td>\n",
       "      <td>MQ</td>\n",
       "      <td>4041</td>\n",
       "      <td>BMI</td>\n",
       "      <td>ORD</td>\n",
       "      <td>1715.0</td>\n",
       "      <td>1702.0</td>\n",
       "      <td>-13.0</td>\n",
       "      <td>9.0</td>\n",
       "      <td>1711.0</td>\n",
       "      <td>...</td>\n",
       "      <td>55.0</td>\n",
       "      <td>55.0</td>\n",
       "      <td>37.0</td>\n",
       "      <td>116.0</td>\n",
       "      <td>NaN</td>\n",
       "      <td>NaN</td>\n",
       "      <td>NaN</td>\n",
       "      <td>NaN</td>\n",
       "      <td>NaN</td>\n",
       "      <td>None</td>\n",
       "    </tr>\n",
       "    <tr>\n",
       "      <th>1</th>\n",
       "      <td>2012-01-01</td>\n",
       "      <td>MQ</td>\n",
       "      <td>4041</td>\n",
       "      <td>ORD</td>\n",
       "      <td>BMI</td>\n",
       "      <td>1545.0</td>\n",
       "      <td>1540.0</td>\n",
       "      <td>-5.0</td>\n",
       "      <td>11.0</td>\n",
       "      <td>1551.0</td>\n",
       "      <td>...</td>\n",
       "      <td>50.0</td>\n",
       "      <td>39.0</td>\n",
       "      <td>23.0</td>\n",
       "      <td>116.0</td>\n",
       "      <td>NaN</td>\n",
       "      <td>NaN</td>\n",
       "      <td>NaN</td>\n",
       "      <td>NaN</td>\n",
       "      <td>NaN</td>\n",
       "      <td>None</td>\n",
       "    </tr>\n",
       "    <tr>\n",
       "      <th>2</th>\n",
       "      <td>2012-01-01</td>\n",
       "      <td>MQ</td>\n",
       "      <td>4042</td>\n",
       "      <td>SGF</td>\n",
       "      <td>ORD</td>\n",
       "      <td>715.0</td>\n",
       "      <td>705.0</td>\n",
       "      <td>-10.0</td>\n",
       "      <td>12.0</td>\n",
       "      <td>717.0</td>\n",
       "      <td>...</td>\n",
       "      <td>115.0</td>\n",
       "      <td>105.0</td>\n",
       "      <td>75.0</td>\n",
       "      <td>438.0</td>\n",
       "      <td>NaN</td>\n",
       "      <td>NaN</td>\n",
       "      <td>NaN</td>\n",
       "      <td>NaN</td>\n",
       "      <td>NaN</td>\n",
       "      <td>None</td>\n",
       "    </tr>\n",
       "    <tr>\n",
       "      <th>3</th>\n",
       "      <td>2012-01-01</td>\n",
       "      <td>MQ</td>\n",
       "      <td>4045</td>\n",
       "      <td>ORD</td>\n",
       "      <td>DBQ</td>\n",
       "      <td>1535.0</td>\n",
       "      <td>1529.0</td>\n",
       "      <td>-6.0</td>\n",
       "      <td>13.0</td>\n",
       "      <td>1542.0</td>\n",
       "      <td>...</td>\n",
       "      <td>55.0</td>\n",
       "      <td>46.0</td>\n",
       "      <td>31.0</td>\n",
       "      <td>147.0</td>\n",
       "      <td>NaN</td>\n",
       "      <td>NaN</td>\n",
       "      <td>NaN</td>\n",
       "      <td>NaN</td>\n",
       "      <td>NaN</td>\n",
       "      <td>None</td>\n",
       "    </tr>\n",
       "    <tr>\n",
       "      <th>4</th>\n",
       "      <td>2012-01-01</td>\n",
       "      <td>MQ</td>\n",
       "      <td>4047</td>\n",
       "      <td>ORD</td>\n",
       "      <td>RIC</td>\n",
       "      <td>1600.0</td>\n",
       "      <td>1615.0</td>\n",
       "      <td>15.0</td>\n",
       "      <td>12.0</td>\n",
       "      <td>1627.0</td>\n",
       "      <td>...</td>\n",
       "      <td>115.0</td>\n",
       "      <td>109.0</td>\n",
       "      <td>86.0</td>\n",
       "      <td>642.0</td>\n",
       "      <td>NaN</td>\n",
       "      <td>NaN</td>\n",
       "      <td>NaN</td>\n",
       "      <td>NaN</td>\n",
       "      <td>NaN</td>\n",
       "      <td>None</td>\n",
       "    </tr>\n",
       "  </tbody>\n",
       "</table>\n",
       "<p>5 rows × 28 columns</p>\n",
       "</div>"
      ],
      "text/plain": [
       "     FL_DATE OP_CARRIER  OP_CARRIER_FL_NUM ORIGIN DEST  CRS_DEP_TIME  \\\n",
       "0 2012-01-01         MQ               4041    BMI  ORD        1715.0   \n",
       "1 2012-01-01         MQ               4041    ORD  BMI        1545.0   \n",
       "2 2012-01-01         MQ               4042    SGF  ORD         715.0   \n",
       "3 2012-01-01         MQ               4045    ORD  DBQ        1535.0   \n",
       "4 2012-01-01         MQ               4047    ORD  RIC        1600.0   \n",
       "\n",
       "   DEP_TIME  DEP_DELAY  TAXI_OUT  WHEELS_OFF  ...  CRS_ELAPSED_TIME  \\\n",
       "0    1702.0      -13.0       9.0      1711.0  ...              55.0   \n",
       "1    1540.0       -5.0      11.0      1551.0  ...              50.0   \n",
       "2     705.0      -10.0      12.0       717.0  ...             115.0   \n",
       "3    1529.0       -6.0      13.0      1542.0  ...              55.0   \n",
       "4    1615.0       15.0      12.0      1627.0  ...             115.0   \n",
       "\n",
       "   ACTUAL_ELAPSED_TIME  AIR_TIME  DISTANCE  CARRIER_DELAY  WEATHER_DELAY  \\\n",
       "0                 55.0      37.0     116.0            NaN            NaN   \n",
       "1                 39.0      23.0     116.0            NaN            NaN   \n",
       "2                105.0      75.0     438.0            NaN            NaN   \n",
       "3                 46.0      31.0     147.0            NaN            NaN   \n",
       "4                109.0      86.0     642.0            NaN            NaN   \n",
       "\n",
       "  NAS_DELAY  SECURITY_DELAY  LATE_AIRCRAFT_DELAY  Unnamed: 27  \n",
       "0       NaN             NaN                  NaN         None  \n",
       "1       NaN             NaN                  NaN         None  \n",
       "2       NaN             NaN                  NaN         None  \n",
       "3       NaN             NaN                  NaN         None  \n",
       "4       NaN             NaN                  NaN         None  \n",
       "\n",
       "[5 rows x 28 columns]"
      ]
     },
     "execution_count": 49,
     "metadata": {},
     "output_type": "execute_result"
    }
   ],
   "source": [
    "df.limit(5).toPandas()"
   ]
  },
  {
   "cell_type": "code",
   "execution_count": 50,
   "metadata": {},
   "outputs": [
    {
     "name": "stderr",
     "output_type": "stream",
     "text": [
      "/opt/conda/lib/python3.10/site-packages/pyspark/sql/pandas/conversion.py:248: FutureWarning: Passing unit-less datetime64 dtype to .astype is deprecated and will raise in a future version. Pass 'datetime64[ns]' instead\n",
      "  series = series.astype(t, copy=False)\n"
     ]
    },
    {
     "data": {
      "text/html": [
       "<div>\n",
       "<style scoped>\n",
       "    .dataframe tbody tr th:only-of-type {\n",
       "        vertical-align: middle;\n",
       "    }\n",
       "\n",
       "    .dataframe tbody tr th {\n",
       "        vertical-align: top;\n",
       "    }\n",
       "\n",
       "    .dataframe thead th {\n",
       "        text-align: right;\n",
       "    }\n",
       "</style>\n",
       "<table border=\"1\" class=\"dataframe\">\n",
       "  <thead>\n",
       "    <tr style=\"text-align: right;\">\n",
       "      <th></th>\n",
       "      <th>FL_DATE</th>\n",
       "      <th>OP_CARRIER</th>\n",
       "      <th>OP_CARRIER_FL_NUM</th>\n",
       "      <th>ORIGIN</th>\n",
       "      <th>DEST</th>\n",
       "      <th>CRS_DEP_TIME</th>\n",
       "      <th>DEP_TIME</th>\n",
       "      <th>DEP_DELAY</th>\n",
       "      <th>TAXI_OUT</th>\n",
       "      <th>WHEELS_OFF</th>\n",
       "      <th>...</th>\n",
       "      <th>DIVERTED</th>\n",
       "      <th>CRS_ELAPSED_TIME</th>\n",
       "      <th>ACTUAL_ELAPSED_TIME</th>\n",
       "      <th>AIR_TIME</th>\n",
       "      <th>DISTANCE</th>\n",
       "      <th>CARRIER_DELAY</th>\n",
       "      <th>WEATHER_DELAY</th>\n",
       "      <th>NAS_DELAY</th>\n",
       "      <th>SECURITY_DELAY</th>\n",
       "      <th>LATE_AIRCRAFT_DELAY</th>\n",
       "    </tr>\n",
       "  </thead>\n",
       "  <tbody>\n",
       "    <tr>\n",
       "      <th>0</th>\n",
       "      <td>2012-01-01</td>\n",
       "      <td>MQ</td>\n",
       "      <td>4041</td>\n",
       "      <td>BMI</td>\n",
       "      <td>ORD</td>\n",
       "      <td>1715.0</td>\n",
       "      <td>1702.0</td>\n",
       "      <td>-13.0</td>\n",
       "      <td>9.0</td>\n",
       "      <td>1711.0</td>\n",
       "      <td>...</td>\n",
       "      <td>0.0</td>\n",
       "      <td>55.0</td>\n",
       "      <td>55.0</td>\n",
       "      <td>37.0</td>\n",
       "      <td>116.0</td>\n",
       "      <td>NaN</td>\n",
       "      <td>NaN</td>\n",
       "      <td>NaN</td>\n",
       "      <td>NaN</td>\n",
       "      <td>NaN</td>\n",
       "    </tr>\n",
       "    <tr>\n",
       "      <th>1</th>\n",
       "      <td>2012-01-01</td>\n",
       "      <td>MQ</td>\n",
       "      <td>4041</td>\n",
       "      <td>ORD</td>\n",
       "      <td>BMI</td>\n",
       "      <td>1545.0</td>\n",
       "      <td>1540.0</td>\n",
       "      <td>-5.0</td>\n",
       "      <td>11.0</td>\n",
       "      <td>1551.0</td>\n",
       "      <td>...</td>\n",
       "      <td>0.0</td>\n",
       "      <td>50.0</td>\n",
       "      <td>39.0</td>\n",
       "      <td>23.0</td>\n",
       "      <td>116.0</td>\n",
       "      <td>NaN</td>\n",
       "      <td>NaN</td>\n",
       "      <td>NaN</td>\n",
       "      <td>NaN</td>\n",
       "      <td>NaN</td>\n",
       "    </tr>\n",
       "    <tr>\n",
       "      <th>2</th>\n",
       "      <td>2012-01-01</td>\n",
       "      <td>MQ</td>\n",
       "      <td>4042</td>\n",
       "      <td>SGF</td>\n",
       "      <td>ORD</td>\n",
       "      <td>715.0</td>\n",
       "      <td>705.0</td>\n",
       "      <td>-10.0</td>\n",
       "      <td>12.0</td>\n",
       "      <td>717.0</td>\n",
       "      <td>...</td>\n",
       "      <td>0.0</td>\n",
       "      <td>115.0</td>\n",
       "      <td>105.0</td>\n",
       "      <td>75.0</td>\n",
       "      <td>438.0</td>\n",
       "      <td>NaN</td>\n",
       "      <td>NaN</td>\n",
       "      <td>NaN</td>\n",
       "      <td>NaN</td>\n",
       "      <td>NaN</td>\n",
       "    </tr>\n",
       "    <tr>\n",
       "      <th>3</th>\n",
       "      <td>2012-01-01</td>\n",
       "      <td>MQ</td>\n",
       "      <td>4045</td>\n",
       "      <td>ORD</td>\n",
       "      <td>DBQ</td>\n",
       "      <td>1535.0</td>\n",
       "      <td>1529.0</td>\n",
       "      <td>-6.0</td>\n",
       "      <td>13.0</td>\n",
       "      <td>1542.0</td>\n",
       "      <td>...</td>\n",
       "      <td>0.0</td>\n",
       "      <td>55.0</td>\n",
       "      <td>46.0</td>\n",
       "      <td>31.0</td>\n",
       "      <td>147.0</td>\n",
       "      <td>NaN</td>\n",
       "      <td>NaN</td>\n",
       "      <td>NaN</td>\n",
       "      <td>NaN</td>\n",
       "      <td>NaN</td>\n",
       "    </tr>\n",
       "    <tr>\n",
       "      <th>4</th>\n",
       "      <td>2012-01-01</td>\n",
       "      <td>MQ</td>\n",
       "      <td>4047</td>\n",
       "      <td>ORD</td>\n",
       "      <td>RIC</td>\n",
       "      <td>1600.0</td>\n",
       "      <td>1615.0</td>\n",
       "      <td>15.0</td>\n",
       "      <td>12.0</td>\n",
       "      <td>1627.0</td>\n",
       "      <td>...</td>\n",
       "      <td>0.0</td>\n",
       "      <td>115.0</td>\n",
       "      <td>109.0</td>\n",
       "      <td>86.0</td>\n",
       "      <td>642.0</td>\n",
       "      <td>NaN</td>\n",
       "      <td>NaN</td>\n",
       "      <td>NaN</td>\n",
       "      <td>NaN</td>\n",
       "      <td>NaN</td>\n",
       "    </tr>\n",
       "  </tbody>\n",
       "</table>\n",
       "<p>5 rows × 27 columns</p>\n",
       "</div>"
      ],
      "text/plain": [
       "     FL_DATE OP_CARRIER  OP_CARRIER_FL_NUM ORIGIN DEST  CRS_DEP_TIME  \\\n",
       "0 2012-01-01         MQ               4041    BMI  ORD        1715.0   \n",
       "1 2012-01-01         MQ               4041    ORD  BMI        1545.0   \n",
       "2 2012-01-01         MQ               4042    SGF  ORD         715.0   \n",
       "3 2012-01-01         MQ               4045    ORD  DBQ        1535.0   \n",
       "4 2012-01-01         MQ               4047    ORD  RIC        1600.0   \n",
       "\n",
       "   DEP_TIME  DEP_DELAY  TAXI_OUT  WHEELS_OFF  ...  DIVERTED  CRS_ELAPSED_TIME  \\\n",
       "0    1702.0      -13.0       9.0      1711.0  ...       0.0              55.0   \n",
       "1    1540.0       -5.0      11.0      1551.0  ...       0.0              50.0   \n",
       "2     705.0      -10.0      12.0       717.0  ...       0.0             115.0   \n",
       "3    1529.0       -6.0      13.0      1542.0  ...       0.0              55.0   \n",
       "4    1615.0       15.0      12.0      1627.0  ...       0.0             115.0   \n",
       "\n",
       "   ACTUAL_ELAPSED_TIME  AIR_TIME  DISTANCE  CARRIER_DELAY WEATHER_DELAY  \\\n",
       "0                 55.0      37.0     116.0            NaN           NaN   \n",
       "1                 39.0      23.0     116.0            NaN           NaN   \n",
       "2                105.0      75.0     438.0            NaN           NaN   \n",
       "3                 46.0      31.0     147.0            NaN           NaN   \n",
       "4                109.0      86.0     642.0            NaN           NaN   \n",
       "\n",
       "   NAS_DELAY  SECURITY_DELAY  LATE_AIRCRAFT_DELAY  \n",
       "0        NaN             NaN                  NaN  \n",
       "1        NaN             NaN                  NaN  \n",
       "2        NaN             NaN                  NaN  \n",
       "3        NaN             NaN                  NaN  \n",
       "4        NaN             NaN                  NaN  \n",
       "\n",
       "[5 rows x 27 columns]"
      ]
     },
     "execution_count": 50,
     "metadata": {},
     "output_type": "execute_result"
    }
   ],
   "source": [
    "#Remover a coluna Unnamed\n",
    "df = df.drop(\"Unnamed: 27\")\n",
    "df.limit(5).toPandas()"
   ]
  },
  {
   "cell_type": "code",
   "execution_count": 51,
   "metadata": {},
   "outputs": [
    {
     "data": {
      "text/plain": [
       "6096762"
      ]
     },
     "execution_count": 51,
     "metadata": {},
     "output_type": "execute_result"
    }
   ],
   "source": [
    "# numero de linhas\n",
    "total_rows = df.count()\n",
    "total_rows"
   ]
  },
  {
   "cell_type": "markdown",
   "metadata": {},
   "source": [
    "# Feature Engineering"
   ]
  },
  {
   "cell_type": "markdown",
   "metadata": {},
   "source": [
    "### Criar novas colunas\n"
   ]
  },
  {
   "cell_type": "code",
   "execution_count": 52,
   "metadata": {},
   "outputs": [],
   "source": [
    "#Criar a variável reposta a partir da soma das colunas ARR_DELAY DEP_DELAY\n",
    "df = df.withColumn(\"DELAY\", \n",
    "                   when(df['ARR_DELAY'] +  df['DEP_DELAY'] > 0, 1)\n",
    "                   .otherwise(0))"
   ]
  },
  {
   "cell_type": "code",
   "execution_count": 53,
   "metadata": {},
   "outputs": [],
   "source": [
    "# Criar uma variável com o mês do voo\n",
    "df = df.withColumn('FL_MONTH', f.month(df.FL_DATE))"
   ]
  },
  {
   "cell_type": "code",
   "execution_count": 54,
   "metadata": {},
   "outputs": [],
   "source": [
    "# Criar uma variável o período que o voo saiu (manha, tarde, noite, madrugada)\n",
    "df = df.withColumn(\"DEP_PERIOD\", \n",
    "                   when((df['DEP_TIME'] >= 0) & (df['DEP_TIME'] < 600), \"Madrugada\")\n",
    "                   .when((df['DEP_TIME'] >= 600) & (df['DEP_TIME'] < 1200), \"Manha\")\n",
    "                   .when((df['DEP_TIME'] >= 1200) & (df['DEP_TIME'] < 1800), \"Tarde\")\n",
    "                   .when((df['DEP_TIME'] >= 1800) & (df['DEP_TIME'] <= 2400), \"Noite\")\n",
    "                   .otherwise(\"Nao Identificado\"))"
   ]
  },
  {
   "cell_type": "code",
   "execution_count": 55,
   "metadata": {},
   "outputs": [],
   "source": [
    "# Criar uma variável o período que o voo chegou (manha, tarde, noite, madrugada)\n",
    "df = df.withColumn(\"ARR_PERIOD\", \n",
    "                   when((df['ARR_TIME'] >= 0) & (df['ARR_TIME'] < 600), \"Madrugada\")\n",
    "                   .when((df['ARR_TIME'] >= 600) & (df['ARR_TIME'] < 1200), \"Manha\")\n",
    "                   .when((df['ARR_TIME'] >= 1200) & (df['ARR_TIME'] < 1800), \"Tarde\")\n",
    "                   .when((df['ARR_TIME'] >= 1800) & (df['ARR_TIME'] <= 2400), \"Noite\")\n",
    "                   .otherwise(\"Nao Identificado\"))"
   ]
  },
  {
   "cell_type": "code",
   "execution_count": 56,
   "metadata": {},
   "outputs": [
    {
     "data": {
      "image/png": "[encoded data removed]",
      "text/plain": [
       "<Figure size 640x480 with 1 Axes>"
      ]
     },
     "metadata": {},
     "output_type": "display_data"
    }
   ],
   "source": [
    "# Cria um dataframe com os dados da coluna DISTANCE\n",
    "df_distance = df.select(df['DISTANCE']).toPandas()\n",
    "\n",
    "# Plota histograma das distâncias com 10 bins para verificar a distribuição dos voos\n",
    "df_distance.plot.hist(bins=10, edgecolor='black')\n",
    "plt.title('Histograma')\n",
    "plt.xlabel('Distância')\n",
    "plt.ylabel('Frequência')\n",
    "plt.show()"
   ]
  },
  {
   "cell_type": "markdown",
   "metadata": {},
   "source": [
    "A partir do histograma acima, vamos definir o seguinte critério para classificar as distâncias:\n",
    "\n",
    "- próximo: abaixo de 500 milhas\n",
    "- médio: entre 500 e 1000 milhas\n",
    "- distante: acima de 1000 milhas"
   ]
  },
  {
   "cell_type": "code",
   "execution_count": 57,
   "metadata": {},
   "outputs": [],
   "source": [
    "#Criar coluna \"Tipo de Distância\" com o critério acima\n",
    "df = df.withColumn(\"DISTANCE_TYPE\", \n",
    "                   when(df['DISTANCE'] > 1000, \"distant\")\n",
    "                   .when(df['DISTANCE'] > 500, \"medium\")\n",
    "                   .otherwise(\"near\"))"
   ]
  },
  {
   "cell_type": "markdown",
   "metadata": {},
   "source": [
    "### Filtrar os voos cancelados\n",
    "\n",
    "Filtrar os voos cancelados, uma vez que não há atraso em relação a eles."
   ]
  },
  {
   "cell_type": "code",
   "execution_count": 58,
   "metadata": {},
   "outputs": [],
   "source": [
    "df = df.filter(df['CANCELLED'] == 0)"
   ]
  },
  {
   "cell_type": "markdown",
   "metadata": {},
   "source": [
    "### Análise do Tipo de Dado de algumas colunas\n",
    "\n",
    "Como no dicionário de dados não está claro o tipo de informação contida em algumas colunas, vamos fazer essa análise abaixo:"
   ]
  },
  {
   "cell_type": "code",
   "execution_count": 59,
   "metadata": {},
   "outputs": [
    {
     "data": {
      "text/html": [
       "<div>\n",
       "<style scoped>\n",
       "    .dataframe tbody tr th:only-of-type {\n",
       "        vertical-align: middle;\n",
       "    }\n",
       "\n",
       "    .dataframe tbody tr th {\n",
       "        vertical-align: top;\n",
       "    }\n",
       "\n",
       "    .dataframe thead th {\n",
       "        text-align: right;\n",
       "    }\n",
       "</style>\n",
       "<table border=\"1\" class=\"dataframe\">\n",
       "  <thead>\n",
       "    <tr style=\"text-align: right;\">\n",
       "      <th></th>\n",
       "      <th>summary</th>\n",
       "      <th>DIVERTED</th>\n",
       "    </tr>\n",
       "  </thead>\n",
       "  <tbody>\n",
       "    <tr>\n",
       "      <th>0</th>\n",
       "      <td>count</td>\n",
       "      <td>6017900</td>\n",
       "    </tr>\n",
       "    <tr>\n",
       "      <th>1</th>\n",
       "      <td>mean</td>\n",
       "      <td>0.002080293790192592</td>\n",
       "    </tr>\n",
       "    <tr>\n",
       "      <th>2</th>\n",
       "      <td>stddev</td>\n",
       "      <td>0.045562775518007345</td>\n",
       "    </tr>\n",
       "    <tr>\n",
       "      <th>3</th>\n",
       "      <td>min</td>\n",
       "      <td>0.0</td>\n",
       "    </tr>\n",
       "    <tr>\n",
       "      <th>4</th>\n",
       "      <td>max</td>\n",
       "      <td>1.0</td>\n",
       "    </tr>\n",
       "  </tbody>\n",
       "</table>\n",
       "</div>"
      ],
      "text/plain": [
       "  summary              DIVERTED\n",
       "0   count               6017900\n",
       "1    mean  0.002080293790192592\n",
       "2  stddev  0.045562775518007345\n",
       "3     min                   0.0\n",
       "4     max                   1.0"
      ]
     },
     "execution_count": 59,
     "metadata": {},
     "output_type": "execute_result"
    }
   ],
   "source": [
    "df.select('DIVERTED').describe().toPandas()"
   ]
  },
  {
   "cell_type": "code",
   "execution_count": 60,
   "metadata": {},
   "outputs": [
    {
     "data": {
      "text/html": [
       "<div>\n",
       "<style scoped>\n",
       "    .dataframe tbody tr th:only-of-type {\n",
       "        vertical-align: middle;\n",
       "    }\n",
       "\n",
       "    .dataframe tbody tr th {\n",
       "        vertical-align: top;\n",
       "    }\n",
       "\n",
       "    .dataframe thead th {\n",
       "        text-align: right;\n",
       "    }\n",
       "</style>\n",
       "<table border=\"1\" class=\"dataframe\">\n",
       "  <thead>\n",
       "    <tr style=\"text-align: right;\">\n",
       "      <th></th>\n",
       "      <th>summary</th>\n",
       "      <th>CARRIER_DELAY</th>\n",
       "    </tr>\n",
       "  </thead>\n",
       "  <tbody>\n",
       "    <tr>\n",
       "      <th>0</th>\n",
       "      <td>count</td>\n",
       "      <td>1015158</td>\n",
       "    </tr>\n",
       "    <tr>\n",
       "      <th>1</th>\n",
       "      <td>mean</td>\n",
       "      <td>17.89421548172797</td>\n",
       "    </tr>\n",
       "    <tr>\n",
       "      <th>2</th>\n",
       "      <td>stddev</td>\n",
       "      <td>45.56229030399185</td>\n",
       "    </tr>\n",
       "    <tr>\n",
       "      <th>3</th>\n",
       "      <td>min</td>\n",
       "      <td>0.0</td>\n",
       "    </tr>\n",
       "    <tr>\n",
       "      <th>4</th>\n",
       "      <td>max</td>\n",
       "      <td>1823.0</td>\n",
       "    </tr>\n",
       "  </tbody>\n",
       "</table>\n",
       "</div>"
      ],
      "text/plain": [
       "  summary      CARRIER_DELAY\n",
       "0   count            1015158\n",
       "1    mean  17.89421548172797\n",
       "2  stddev  45.56229030399185\n",
       "3     min                0.0\n",
       "4     max             1823.0"
      ]
     },
     "execution_count": 60,
     "metadata": {},
     "output_type": "execute_result"
    }
   ],
   "source": [
    "df.select('CARRIER_DELAY').describe().toPandas()"
   ]
  },
  {
   "cell_type": "code",
   "execution_count": 61,
   "metadata": {},
   "outputs": [
    {
     "data": {
      "text/html": [
       "<div>\n",
       "<style scoped>\n",
       "    .dataframe tbody tr th:only-of-type {\n",
       "        vertical-align: middle;\n",
       "    }\n",
       "\n",
       "    .dataframe tbody tr th {\n",
       "        vertical-align: top;\n",
       "    }\n",
       "\n",
       "    .dataframe thead th {\n",
       "        text-align: right;\n",
       "    }\n",
       "</style>\n",
       "<table border=\"1\" class=\"dataframe\">\n",
       "  <thead>\n",
       "    <tr style=\"text-align: right;\">\n",
       "      <th></th>\n",
       "      <th>summary</th>\n",
       "      <th>WEATHER_DELAY</th>\n",
       "    </tr>\n",
       "  </thead>\n",
       "  <tbody>\n",
       "    <tr>\n",
       "      <th>0</th>\n",
       "      <td>count</td>\n",
       "      <td>1015158</td>\n",
       "    </tr>\n",
       "    <tr>\n",
       "      <th>1</th>\n",
       "      <td>mean</td>\n",
       "      <td>2.2457686389704854</td>\n",
       "    </tr>\n",
       "    <tr>\n",
       "      <th>2</th>\n",
       "      <td>stddev</td>\n",
       "      <td>17.272722643396154</td>\n",
       "    </tr>\n",
       "    <tr>\n",
       "      <th>3</th>\n",
       "      <td>min</td>\n",
       "      <td>0.0</td>\n",
       "    </tr>\n",
       "    <tr>\n",
       "      <th>4</th>\n",
       "      <td>max</td>\n",
       "      <td>1615.0</td>\n",
       "    </tr>\n",
       "  </tbody>\n",
       "</table>\n",
       "</div>"
      ],
      "text/plain": [
       "  summary       WEATHER_DELAY\n",
       "0   count             1015158\n",
       "1    mean  2.2457686389704854\n",
       "2  stddev  17.272722643396154\n",
       "3     min                 0.0\n",
       "4     max              1615.0"
      ]
     },
     "execution_count": 61,
     "metadata": {},
     "output_type": "execute_result"
    }
   ],
   "source": [
    "df.select('WEATHER_DELAY').describe().toPandas()"
   ]
  },
  {
   "cell_type": "code",
   "execution_count": 62,
   "metadata": {},
   "outputs": [
    {
     "data": {
      "text/html": [
       "<div>\n",
       "<style scoped>\n",
       "    .dataframe tbody tr th:only-of-type {\n",
       "        vertical-align: middle;\n",
       "    }\n",
       "\n",
       "    .dataframe tbody tr th {\n",
       "        vertical-align: top;\n",
       "    }\n",
       "\n",
       "    .dataframe thead th {\n",
       "        text-align: right;\n",
       "    }\n",
       "</style>\n",
       "<table border=\"1\" class=\"dataframe\">\n",
       "  <thead>\n",
       "    <tr style=\"text-align: right;\">\n",
       "      <th></th>\n",
       "      <th>summary</th>\n",
       "      <th>NAS_DELAY</th>\n",
       "    </tr>\n",
       "  </thead>\n",
       "  <tbody>\n",
       "    <tr>\n",
       "      <th>0</th>\n",
       "      <td>count</td>\n",
       "      <td>1015158</td>\n",
       "    </tr>\n",
       "    <tr>\n",
       "      <th>1</th>\n",
       "      <td>mean</td>\n",
       "      <td>12.637266317164421</td>\n",
       "    </tr>\n",
       "    <tr>\n",
       "      <th>2</th>\n",
       "      <td>stddev</td>\n",
       "      <td>25.90985229314727</td>\n",
       "    </tr>\n",
       "    <tr>\n",
       "      <th>3</th>\n",
       "      <td>min</td>\n",
       "      <td>0.0</td>\n",
       "    </tr>\n",
       "    <tr>\n",
       "      <th>4</th>\n",
       "      <td>max</td>\n",
       "      <td>1207.0</td>\n",
       "    </tr>\n",
       "  </tbody>\n",
       "</table>\n",
       "</div>"
      ],
      "text/plain": [
       "  summary           NAS_DELAY\n",
       "0   count             1015158\n",
       "1    mean  12.637266317164421\n",
       "2  stddev   25.90985229314727\n",
       "3     min                 0.0\n",
       "4     max              1207.0"
      ]
     },
     "execution_count": 62,
     "metadata": {},
     "output_type": "execute_result"
    }
   ],
   "source": [
    "df.select('NAS_DELAY').describe().toPandas()"
   ]
  },
  {
   "cell_type": "code",
   "execution_count": 63,
   "metadata": {},
   "outputs": [
    {
     "data": {
      "text/html": [
       "<div>\n",
       "<style scoped>\n",
       "    .dataframe tbody tr th:only-of-type {\n",
       "        vertical-align: middle;\n",
       "    }\n",
       "\n",
       "    .dataframe tbody tr th {\n",
       "        vertical-align: top;\n",
       "    }\n",
       "\n",
       "    .dataframe thead th {\n",
       "        text-align: right;\n",
       "    }\n",
       "</style>\n",
       "<table border=\"1\" class=\"dataframe\">\n",
       "  <thead>\n",
       "    <tr style=\"text-align: right;\">\n",
       "      <th></th>\n",
       "      <th>summary</th>\n",
       "      <th>SECURITY_DELAY</th>\n",
       "    </tr>\n",
       "  </thead>\n",
       "  <tbody>\n",
       "    <tr>\n",
       "      <th>0</th>\n",
       "      <td>count</td>\n",
       "      <td>1015158</td>\n",
       "    </tr>\n",
       "    <tr>\n",
       "      <th>1</th>\n",
       "      <td>mean</td>\n",
       "      <td>0.07196121194927292</td>\n",
       "    </tr>\n",
       "    <tr>\n",
       "      <th>2</th>\n",
       "      <td>stddev</td>\n",
       "      <td>2.110994781167227</td>\n",
       "    </tr>\n",
       "    <tr>\n",
       "      <th>3</th>\n",
       "      <td>min</td>\n",
       "      <td>0.0</td>\n",
       "    </tr>\n",
       "    <tr>\n",
       "      <th>4</th>\n",
       "      <td>max</td>\n",
       "      <td>717.0</td>\n",
       "    </tr>\n",
       "  </tbody>\n",
       "</table>\n",
       "</div>"
      ],
      "text/plain": [
       "  summary       SECURITY_DELAY\n",
       "0   count              1015158\n",
       "1    mean  0.07196121194927292\n",
       "2  stddev    2.110994781167227\n",
       "3     min                  0.0\n",
       "4     max                717.0"
      ]
     },
     "execution_count": 63,
     "metadata": {},
     "output_type": "execute_result"
    }
   ],
   "source": [
    "df.select('SECURITY_DELAY').describe().toPandas()"
   ]
  },
  {
   "cell_type": "code",
   "execution_count": 64,
   "metadata": {},
   "outputs": [
    {
     "data": {
      "text/html": [
       "<div>\n",
       "<style scoped>\n",
       "    .dataframe tbody tr th:only-of-type {\n",
       "        vertical-align: middle;\n",
       "    }\n",
       "\n",
       "    .dataframe tbody tr th {\n",
       "        vertical-align: top;\n",
       "    }\n",
       "\n",
       "    .dataframe thead th {\n",
       "        text-align: right;\n",
       "    }\n",
       "</style>\n",
       "<table border=\"1\" class=\"dataframe\">\n",
       "  <thead>\n",
       "    <tr style=\"text-align: right;\">\n",
       "      <th></th>\n",
       "      <th>summary</th>\n",
       "      <th>LATE_AIRCRAFT_DELAY</th>\n",
       "    </tr>\n",
       "  </thead>\n",
       "  <tbody>\n",
       "    <tr>\n",
       "      <th>0</th>\n",
       "      <td>count</td>\n",
       "      <td>1015158</td>\n",
       "    </tr>\n",
       "    <tr>\n",
       "      <th>1</th>\n",
       "      <td>mean</td>\n",
       "      <td>23.217619326252663</td>\n",
       "    </tr>\n",
       "    <tr>\n",
       "      <th>2</th>\n",
       "      <td>stddev</td>\n",
       "      <td>41.40641306888853</td>\n",
       "    </tr>\n",
       "    <tr>\n",
       "      <th>3</th>\n",
       "      <td>min</td>\n",
       "      <td>0.0</td>\n",
       "    </tr>\n",
       "    <tr>\n",
       "      <th>4</th>\n",
       "      <td>max</td>\n",
       "      <td>1201.0</td>\n",
       "    </tr>\n",
       "  </tbody>\n",
       "</table>\n",
       "</div>"
      ],
      "text/plain": [
       "  summary LATE_AIRCRAFT_DELAY\n",
       "0   count             1015158\n",
       "1    mean  23.217619326252663\n",
       "2  stddev   41.40641306888853\n",
       "3     min                 0.0\n",
       "4     max              1201.0"
      ]
     },
     "execution_count": 64,
     "metadata": {},
     "output_type": "execute_result"
    }
   ],
   "source": [
    "df.select('LATE_AIRCRAFT_DELAY').describe().toPandas()"
   ]
  },
  {
   "cell_type": "code",
   "execution_count": 65,
   "metadata": {},
   "outputs": [
    {
     "data": {
      "text/html": [
       "<div>\n",
       "<style scoped>\n",
       "    .dataframe tbody tr th:only-of-type {\n",
       "        vertical-align: middle;\n",
       "    }\n",
       "\n",
       "    .dataframe tbody tr th {\n",
       "        vertical-align: top;\n",
       "    }\n",
       "\n",
       "    .dataframe thead th {\n",
       "        text-align: right;\n",
       "    }\n",
       "</style>\n",
       "<table border=\"1\" class=\"dataframe\">\n",
       "  <thead>\n",
       "    <tr style=\"text-align: right;\">\n",
       "      <th></th>\n",
       "      <th>summary</th>\n",
       "      <th>CANCELLATION_CODE</th>\n",
       "    </tr>\n",
       "  </thead>\n",
       "  <tbody>\n",
       "    <tr>\n",
       "      <th>0</th>\n",
       "      <td>count</td>\n",
       "      <td>0</td>\n",
       "    </tr>\n",
       "    <tr>\n",
       "      <th>1</th>\n",
       "      <td>mean</td>\n",
       "      <td>None</td>\n",
       "    </tr>\n",
       "    <tr>\n",
       "      <th>2</th>\n",
       "      <td>stddev</td>\n",
       "      <td>None</td>\n",
       "    </tr>\n",
       "    <tr>\n",
       "      <th>3</th>\n",
       "      <td>min</td>\n",
       "      <td>None</td>\n",
       "    </tr>\n",
       "    <tr>\n",
       "      <th>4</th>\n",
       "      <td>max</td>\n",
       "      <td>None</td>\n",
       "    </tr>\n",
       "  </tbody>\n",
       "</table>\n",
       "</div>"
      ],
      "text/plain": [
       "  summary CANCELLATION_CODE\n",
       "0   count                 0\n",
       "1    mean              None\n",
       "2  stddev              None\n",
       "3     min              None\n",
       "4     max              None"
      ]
     },
     "execution_count": 65,
     "metadata": {},
     "output_type": "execute_result"
    }
   ],
   "source": [
    "df.select('CANCELLATION_CODE').describe().toPandas()"
   ]
  },
  {
   "cell_type": "markdown",
   "metadata": {},
   "source": [
    "- DIVERTED é uma variável 0 e 1.\n",
    "- A colunas de cancelamento são em minutos.\n",
    "- A coluna CANCELLATION_CODE não possui valores. Logo, vamos excluí-la."
   ]
  },
  {
   "cell_type": "markdown",
   "metadata": {},
   "source": [
    "### Remover as colunas que não serão utilizadas\n",
    "\n",
    " - FL_DATE: coluna de data. Será excluída, pois vamos usar a coluna MONTH para verificar alguma sazonalidade\n",
    " - OP_CARRIER_FL_NUM: ID do voo\n",
    " - CRS_DEP_TIME, DEP_TIME, DEP_DELAY, WHEELS_OFF, ARR_TIME, ARR_DELAY, WHEELS_ON e CRS_ARR_TIME: informação do horário planejado do voo. Esta informação já está no DELAY\n",
    " - CANCELLED: foram filtrados os valores, restando apenas ZERO nessa coluna\n",
    " - CANCELLATION_CODE: não possui valores"
   ]
  },
  {
   "cell_type": "code",
   "execution_count": 66,
   "metadata": {},
   "outputs": [],
   "source": [
    "#Removendo colunas que não serão utilizadas\n",
    "df = df.drop('FL_DATE', 'CRS_DEP_TIME', 'DEP_TIME', 'WHEELS_OFF', 'WHEELS_ON',\n",
    "                   'CRS_ARR_TIME', 'ARR_TIME', 'OP_CARRIER_FL_NUM', 'ARR_DELAY', \n",
    "                  'DEP_DELAY', 'CANCELLED', 'CANCELLATION_CODE')"
   ]
  },
  {
   "cell_type": "code",
   "execution_count": null,
   "metadata": {},
   "outputs": [],
   "source": []
  },
  {
   "cell_type": "markdown",
   "metadata": {},
   "source": [
    "### Análise dos Missing Values"
   ]
  },
  {
   "cell_type": "code",
   "execution_count": 67,
   "metadata": {},
   "outputs": [
    {
     "data": {
      "text/plain": [
       "DataFrame[OP_CARRIER: string, ORIGIN: string, DEST: string, TAXI_OUT: double, TAXI_IN: double, DIVERTED: double, CRS_ELAPSED_TIME: double, ACTUAL_ELAPSED_TIME: double, AIR_TIME: double, DISTANCE: double, CARRIER_DELAY: double, WEATHER_DELAY: double, NAS_DELAY: double, SECURITY_DELAY: double, LATE_AIRCRAFT_DELAY: double, DELAY: int, FL_MONTH: int, DEP_PERIOD: string, ARR_PERIOD: string, DISTANCE_TYPE: string]"
      ]
     },
     "execution_count": 67,
     "metadata": {},
     "output_type": "execute_result"
    }
   ],
   "source": [
    "# Colocar em cache, pois os códigos de contagem são lentos\n",
    "df.cache()"
   ]
  },
  {
   "cell_type": "code",
   "execution_count": 68,
   "metadata": {},
   "outputs": [
    {
     "data": {
      "text/plain": [
       "{'OP_CARRIER': 0,\n",
       " 'ORIGIN': 0,\n",
       " 'DEST': 0,\n",
       " 'TAXI_OUT': 0,\n",
       " 'TAXI_IN': 2032,\n",
       " 'DIVERTED': 0,\n",
       " 'CRS_ELAPSED_TIME': 1,\n",
       " 'ACTUAL_ELAPSED_TIME': 12519,\n",
       " 'AIR_TIME': 12519,\n",
       " 'DISTANCE': 0,\n",
       " 'CARRIER_DELAY': 5002742,\n",
       " 'WEATHER_DELAY': 5002742,\n",
       " 'NAS_DELAY': 5002742,\n",
       " 'SECURITY_DELAY': 5002742,\n",
       " 'LATE_AIRCRAFT_DELAY': 5002742,\n",
       " 'DELAY': 0,\n",
       " 'FL_MONTH': 0,\n",
       " 'DEP_PERIOD': 0,\n",
       " 'ARR_PERIOD': 0,\n",
       " 'DISTANCE_TYPE': 0}"
      ]
     },
     "execution_count": 68,
     "metadata": {},
     "output_type": "execute_result"
    }
   ],
   "source": [
    "#Verificando os missing values\n",
    "{col:df.filter(df[col].isNull()).count() for col in df.columns}"
   ]
  },
  {
   "cell_type": "markdown",
   "metadata": {},
   "source": [
    "Preencher os missing values das colunas abaixo com ZERO:\n",
    "\n",
    "- CARRIER_DELAY\n",
    "- WEATHER_DELAY\n",
    "- NAS_DELAY\n",
    "- SECURITY_DELAY\n",
    "- LATE_AIRCRAFT_DELAY"
   ]
  },
  {
   "cell_type": "code",
   "execution_count": 69,
   "metadata": {},
   "outputs": [],
   "source": [
    "df = df.na.fill(0, subset=[\"CARRIER_DELAY\", \"WEATHER_DELAY\", \"NAS_DELAY\", \"SECURITY_DELAY\", \"LATE_AIRCRAFT_DELAY\"])"
   ]
  },
  {
   "cell_type": "code",
   "execution_count": 70,
   "metadata": {},
   "outputs": [],
   "source": [
    "#tratar os missing values (inicialmente coloquei para excluir todas as linhas que tem missing values, pois representam menos de 1% )\n",
    "df = df.na.drop(subset=['DELAY', 'CRS_ELAPSED_TIME', 'AIR_TIME', 'ACTUAL_ELAPSED_TIME'])"
   ]
  },
  {
   "cell_type": "code",
   "execution_count": 71,
   "metadata": {},
   "outputs": [
    {
     "data": {
      "text/plain": [
       "{'OP_CARRIER': 0,\n",
       " 'ORIGIN': 0,\n",
       " 'DEST': 0,\n",
       " 'TAXI_OUT': 0,\n",
       " 'TAXI_IN': 0,\n",
       " 'DIVERTED': 0,\n",
       " 'CRS_ELAPSED_TIME': 0,\n",
       " 'ACTUAL_ELAPSED_TIME': 0,\n",
       " 'AIR_TIME': 0,\n",
       " 'DISTANCE': 0,\n",
       " 'CARRIER_DELAY': 0,\n",
       " 'WEATHER_DELAY': 0,\n",
       " 'NAS_DELAY': 0,\n",
       " 'SECURITY_DELAY': 0,\n",
       " 'LATE_AIRCRAFT_DELAY': 0,\n",
       " 'DELAY': 0,\n",
       " 'FL_MONTH': 0,\n",
       " 'DEP_PERIOD': 0,\n",
       " 'ARR_PERIOD': 0,\n",
       " 'DISTANCE_TYPE': 0}"
      ]
     },
     "execution_count": 71,
     "metadata": {},
     "output_type": "execute_result"
    }
   ],
   "source": [
    "#Verificando se as linhas com missing values foram excluiídas\n",
    "{col:df.filter(df[col].isNull()).count() for col in df.columns}"
   ]
  },
  {
   "cell_type": "markdown",
   "metadata": {},
   "source": [
    "### Análise da Qualidade das Informações"
   ]
  },
  {
   "cell_type": "code",
   "execution_count": 73,
   "metadata": {},
   "outputs": [
    {
     "data": {
      "text/plain": [
       "{'OP_CARRIER': 0,\n",
       " 'ORIGIN': 0,\n",
       " 'DEST': 0,\n",
       " 'TAXI_OUT': 0,\n",
       " 'TAXI_IN': 0,\n",
       " 'DIVERTED': 0,\n",
       " 'CRS_ELAPSED_TIME': 0,\n",
       " 'ACTUAL_ELAPSED_TIME': 0,\n",
       " 'AIR_TIME': 0,\n",
       " 'DISTANCE': 0,\n",
       " 'CARRIER_DELAY': 0,\n",
       " 'WEATHER_DELAY': 0,\n",
       " 'NAS_DELAY': 0,\n",
       " 'SECURITY_DELAY': 0,\n",
       " 'LATE_AIRCRAFT_DELAY': 0,\n",
       " 'DELAY': 0,\n",
       " 'FL_MONTH': 0,\n",
       " 'DEP_PERIOD': 0,\n",
       " 'ARR_PERIOD': 0,\n",
       " 'DISTANCE_TYPE': 0}"
      ]
     },
     "execution_count": 73,
     "metadata": {},
     "output_type": "execute_result"
    }
   ],
   "source": [
    "# Verificar se há valores negativos\n",
    "def conta_negativo(coluna):\n",
    "    try: \n",
    "        return df.filter((df[coluna]<0)).count()\n",
    "    except:\n",
    "        return \"Variável não numérica\"\n",
    "\n",
    "{col:conta_negativo(col) for col in df.columns}"
   ]
  },
  {
   "cell_type": "markdown",
   "metadata": {},
   "source": [
    "### Análise Exploratória"
   ]
  },
  {
   "cell_type": "code",
   "execution_count": 72,
   "metadata": {},
   "outputs": [
    {
     "name": "stdout",
     "output_type": "stream",
     "text": [
      "+-------+----------+-------+-------+------------------+-----------------+--------+------------------+-------------------+------------------+-----------------+-----------------+------------------+------------------+-------------------+-------------------+------------------+-----------------+----------+----------+-------------+\n",
      "|summary|OP_CARRIER| ORIGIN|   DEST|          TAXI_OUT|          TAXI_IN|DIVERTED|  CRS_ELAPSED_TIME|ACTUAL_ELAPSED_TIME|          AIR_TIME|         DISTANCE|    CARRIER_DELAY|     WEATHER_DELAY|         NAS_DELAY|     SECURITY_DELAY|LATE_AIRCRAFT_DELAY|             DELAY|         FL_MONTH|DEP_PERIOD|ARR_PERIOD|DISTANCE_TYPE|\n",
      "+-------+----------+-------+-------+------------------+-----------------+--------+------------------+-------------------+------------------+-----------------+-----------------+------------------+------------------+-------------------+-------------------+------------------+-----------------+----------+----------+-------------+\n",
      "|  count|   6005380|6005380|6005380|           6005380|          6005380| 6005380|           6005380|            6005380|           6005380|          6005380|          6005380|           6005380|           6005380|            6005380|            6005380|           6005380|          6005380|   6005380|   6005380|      6005380|\n",
      "|   mean|      null|   null|   null|15.064279862390057|6.751215410182203|     0.0|134.05457423177216|  129.4637098734801|107.64821460090785|772.2031085460037|3.024863705544029|0.3796279336195212|2.1362108642583815|0.01216442589811136|   3.92464823208523|0.3609931428152756|6.515004878958534|      null|      null|         null|\n",
      "| stddev|      null|   null|   null| 8.395755183636656|4.748458336804315|     0.0| 72.80471898349164|  72.17142358003866|  70.0430064638982|589.2101175550227|19.89709397437093| 7.151320960678863|11.658164427030357| 0.8683466530319098| 19.117793392889045|0.4802885924809915|3.399652148703984|      null|      null|         null|\n",
      "|    min|        AA|    ABE|    ABE|               1.0|              1.0|     0.0|              15.0|               14.0|               6.0|             24.0|              0.0|               0.0|               0.0|                0.0|                0.0|                 0|                1| Madrugada| Madrugada|      distant|\n",
      "|    max|        YV|    YUM|    YUM|             205.0|            272.0|     0.0|             685.0|              735.0|             691.0|           4983.0|           1823.0|            1615.0|            1207.0|              717.0|             1201.0|                 1|               12|     Tarde|     Tarde|         near|\n",
      "+-------+----------+-------+-------+------------------+-----------------+--------+------------------+-------------------+------------------+-----------------+-----------------+------------------+------------------+-------------------+-------------------+------------------+-----------------+----------+----------+-------------+\n",
      "\n"
     ]
    }
   ],
   "source": [
    "#exibir as principais estatísticas descritivas do conjunto de dados.\n",
    "df.describe().show()"
   ]
  },
  {
   "cell_type": "code",
   "execution_count": 97,
   "metadata": {},
   "outputs": [
    {
     "name": "stdout",
     "output_type": "stream",
     "text": [
      "root\n",
      " |-- OP_CARRIER: string (nullable = true)\n",
      " |-- ORIGIN: string (nullable = true)\n",
      " |-- DEST: string (nullable = true)\n",
      " |-- TAXI_OUT: double (nullable = true)\n",
      " |-- TAXI_IN: double (nullable = true)\n",
      " |-- DIVERTED: double (nullable = true)\n",
      " |-- CRS_ELAPSED_TIME: double (nullable = true)\n",
      " |-- ACTUAL_ELAPSED_TIME: double (nullable = true)\n",
      " |-- AIR_TIME: double (nullable = true)\n",
      " |-- DISTANCE: double (nullable = true)\n",
      " |-- CARRIER_DELAY: double (nullable = false)\n",
      " |-- WEATHER_DELAY: double (nullable = false)\n",
      " |-- NAS_DELAY: double (nullable = false)\n",
      " |-- SECURITY_DELAY: double (nullable = false)\n",
      " |-- LATE_AIRCRAFT_DELAY: double (nullable = false)\n",
      " |-- DELAY: integer (nullable = false)\n",
      " |-- FL_MONTH: integer (nullable = true)\n",
      " |-- DEP_PERIOD: string (nullable = false)\n",
      " |-- ARR_PERIOD: string (nullable = false)\n",
      " |-- DISTANCE_TYPE: string (nullable = false)\n",
      "\n"
     ]
    }
   ],
   "source": [
    "df.printSchema()"
   ]
  },
  {
   "cell_type": "markdown",
   "metadata": {},
   "source": [
    "# Analise bivariada: % atrasos por aeroporto, por regiao etc."
   ]
  },
  {
   "cell_type": "code",
   "execution_count": null,
   "metadata": {},
   "outputs": [],
   "source": []
  },
  {
   "cell_type": "markdown",
   "metadata": {},
   "source": [
    "### Matriz de Correlação"
   ]
  },
  {
   "cell_type": "code",
   "execution_count": 77,
   "metadata": {},
   "outputs": [
    {
     "name": "stdout",
     "output_type": "stream",
     "text": [
      "root\n",
      " |-- TAXI_OUT: double (nullable = true)\n",
      " |-- TAXI_IN: double (nullable = true)\n",
      " |-- DIVERTED: double (nullable = true)\n",
      " |-- CRS_ELAPSED_TIME: double (nullable = true)\n",
      " |-- ACTUAL_ELAPSED_TIME: double (nullable = true)\n",
      " |-- AIR_TIME: double (nullable = true)\n",
      " |-- DISTANCE: double (nullable = true)\n",
      " |-- CARRIER_DELAY: double (nullable = false)\n",
      " |-- WEATHER_DELAY: double (nullable = false)\n",
      " |-- NAS_DELAY: double (nullable = false)\n",
      " |-- SECURITY_DELAY: double (nullable = false)\n",
      " |-- LATE_AIRCRAFT_DELAY: double (nullable = false)\n",
      " |-- DELAY: integer (nullable = false)\n",
      " |-- FL_MONTH: integer (nullable = true)\n",
      "\n"
     ]
    }
   ],
   "source": [
    "# verificar quais são as colunas numéricas\n",
    "colunas_numericas = [coluna for coluna, tipo in df.dtypes if tipo in ['int', 'double']]\n",
    "# Selecionar apenas colunas numéricas\n",
    "df_numericas = df.select(*colunas_numericas)\n",
    "df_numericas.printSchema()"
   ]
  },
  {
   "cell_type": "code",
   "execution_count": 90,
   "metadata": {},
   "outputs": [
    {
     "data": {
      "text/plain": [
       "<AxesSubplot: >"
      ]
     },
     "execution_count": 90,
     "metadata": {},
     "output_type": "execute_result"
    },
    {
     "data": {
      "image/png": "[encoded data removed]",
      "text/plain": [
       "<Figure size 1600x500 with 2 Axes>"
      ]
     },
     "metadata": {},
     "output_type": "display_data"
    }
   ],
   "source": [
    "# converter para um coluna vetor \n",
    "vector_col = \"corr_features\"\n",
    "assembler = VectorAssembler(inputCols=df_numericas.columns, outputCol=vector_col)\n",
    "df_vector = assembler.transform(df_numericas).select(vector_col)\n",
    "\n",
    "# Obter a matriz de correlação\n",
    "matrix = Correlation.corr(df_vector, vector_col).collect()[0][0].toArray()\n",
    "corr_matrix = matrix.tolist() \n",
    "\n",
    "# Colocar as correlações das variáveis num dataframe em pandas\n",
    "corr_matrix_df = pd.DataFrame(data=corr_matrix, columns = df_numericas.columns, index=df_numericas.columns)\n",
    "\n",
    "# Plotar a matriz\n",
    "plt.figure(figsize=(16,5))  \n",
    "sns.heatmap(corr_matrix_df, \n",
    "            xticklabels=corr_matrix_df.columns.values,\n",
    "            yticklabels=corr_matrix_df.columns.values,  cmap=\"coolwarm\", annot=True)"
   ]
  },
  {
   "cell_type": "code",
   "execution_count": 91,
   "metadata": {},
   "outputs": [
    {
     "ename": "AnalysisException",
     "evalue": "Column 'value' does not exist. Did you mean one of the following? [DELAY, TAXI_IN, AIR_TIME, DISTANCE, DIVERTED, FL_MONTH, TAXI_OUT, NAS_DELAY, CARRIER_DELAY, WEATHER_DELAY, SECURITY_DELAY, CRS_ELAPSED_TIME, ACTUAL_ELAPSED_TIME, LATE_AIRCRAFT_DELAY];\n'Aggregate [avg('value) AS mean#45185]\n+- Project [TAXI_OUT#8226, TAXI_IN#8229, DIVERTED#8235, CRS_ELAPSED_TIME#8236, ACTUAL_ELAPSED_TIME#8237, AIR_TIME#8238, DISTANCE#8239, CARRIER_DELAY#18645, WEATHER_DELAY#18646, NAS_DELAY#18647, SECURITY_DELAY#18648, LATE_AIRCRAFT_DELAY#18649, DELAY#8389, FL_MONTH#8418]\n   +- Filter atleastnnonnulls(4, DELAY#8389, CRS_ELAPSED_TIME#8236, AIR_TIME#8238, ACTUAL_ELAPSED_TIME#8237)\n      +- Project [OP_CARRIER#8219, ORIGIN#8221, DEST#8222, TAXI_OUT#8226, TAXI_IN#8229, DIVERTED#8235, CRS_ELAPSED_TIME#8236, ACTUAL_ELAPSED_TIME#8237, AIR_TIME#8238, DISTANCE#8239, coalesce(nanvl(CARRIER_DELAY#8240, cast(null as double)), cast(0.0 as double)) AS CARRIER_DELAY#18645, coalesce(nanvl(WEATHER_DELAY#8241, cast(null as double)), cast(0.0 as double)) AS WEATHER_DELAY#18646, coalesce(nanvl(NAS_DELAY#8242, cast(null as double)), cast(0.0 as double)) AS NAS_DELAY#18647, coalesce(nanvl(SECURITY_DELAY#8243, cast(null as double)), cast(0.0 as double)) AS SECURITY_DELAY#18648, coalesce(nanvl(LATE_AIRCRAFT_DELAY#8244, cast(null as double)), cast(0.0 as double)) AS LATE_AIRCRAFT_DELAY#18649, DELAY#8389, FL_MONTH#8418, DEP_PERIOD#8448, ARR_PERIOD#8479, DISTANCE_TYPE#8513]\n         +- Project [OP_CARRIER#8219, ORIGIN#8221, DEST#8222, TAXI_OUT#8226, TAXI_IN#8229, DIVERTED#8235, CRS_ELAPSED_TIME#8236, ACTUAL_ELAPSED_TIME#8237, AIR_TIME#8238, DISTANCE#8239, CARRIER_DELAY#8240, WEATHER_DELAY#8241, NAS_DELAY#8242, SECURITY_DELAY#8243, LATE_AIRCRAFT_DELAY#8244, DELAY#8389, FL_MONTH#8418, DEP_PERIOD#8448, ARR_PERIOD#8479, DISTANCE_TYPE#8513]\n            +- Filter (CANCELLED#8233 = cast(0 as double))\n               +- Project [FL_DATE#8218, OP_CARRIER#8219, OP_CARRIER_FL_NUM#8220, ORIGIN#8221, DEST#8222, CRS_DEP_TIME#8223, DEP_TIME#8224, DEP_DELAY#8225, TAXI_OUT#8226, WHEELS_OFF#8227, WHEELS_ON#8228, TAXI_IN#8229, CRS_ARR_TIME#8230, ARR_TIME#8231, ARR_DELAY#8232, CANCELLED#8233, CANCELLATION_CODE#8234, DIVERTED#8235, CRS_ELAPSED_TIME#8236, ACTUAL_ELAPSED_TIME#8237, AIR_TIME#8238, DISTANCE#8239, CARRIER_DELAY#8240, WEATHER_DELAY#8241, ... 8 more fields]\n                  +- Project [FL_DATE#8218, OP_CARRIER#8219, OP_CARRIER_FL_NUM#8220, ORIGIN#8221, DEST#8222, CRS_DEP_TIME#8223, DEP_TIME#8224, DEP_DELAY#8225, TAXI_OUT#8226, WHEELS_OFF#8227, WHEELS_ON#8228, TAXI_IN#8229, CRS_ARR_TIME#8230, ARR_TIME#8231, ARR_DELAY#8232, CANCELLED#8233, CANCELLATION_CODE#8234, DIVERTED#8235, CRS_ELAPSED_TIME#8236, ACTUAL_ELAPSED_TIME#8237, AIR_TIME#8238, DISTANCE#8239, CARRIER_DELAY#8240, WEATHER_DELAY#8241, ... 7 more fields]\n                     +- Project [FL_DATE#8218, OP_CARRIER#8219, OP_CARRIER_FL_NUM#8220, ORIGIN#8221, DEST#8222, CRS_DEP_TIME#8223, DEP_TIME#8224, DEP_DELAY#8225, TAXI_OUT#8226, WHEELS_OFF#8227, WHEELS_ON#8228, TAXI_IN#8229, CRS_ARR_TIME#8230, ARR_TIME#8231, ARR_DELAY#8232, CANCELLED#8233, CANCELLATION_CODE#8234, DIVERTED#8235, CRS_ELAPSED_TIME#8236, ACTUAL_ELAPSED_TIME#8237, AIR_TIME#8238, DISTANCE#8239, CARRIER_DELAY#8240, WEATHER_DELAY#8241, ... 6 more fields]\n                        +- Project [FL_DATE#8218, OP_CARRIER#8219, OP_CARRIER_FL_NUM#8220, ORIGIN#8221, DEST#8222, CRS_DEP_TIME#8223, DEP_TIME#8224, DEP_DELAY#8225, TAXI_OUT#8226, WHEELS_OFF#8227, WHEELS_ON#8228, TAXI_IN#8229, CRS_ARR_TIME#8230, ARR_TIME#8231, ARR_DELAY#8232, CANCELLED#8233, CANCELLATION_CODE#8234, DIVERTED#8235, CRS_ELAPSED_TIME#8236, ACTUAL_ELAPSED_TIME#8237, AIR_TIME#8238, DISTANCE#8239, CARRIER_DELAY#8240, WEATHER_DELAY#8241, ... 5 more fields]\n                           +- Project [FL_DATE#8218, OP_CARRIER#8219, OP_CARRIER_FL_NUM#8220, ORIGIN#8221, DEST#8222, CRS_DEP_TIME#8223, DEP_TIME#8224, DEP_DELAY#8225, TAXI_OUT#8226, WHEELS_OFF#8227, WHEELS_ON#8228, TAXI_IN#8229, CRS_ARR_TIME#8230, ARR_TIME#8231, ARR_DELAY#8232, CANCELLED#8233, CANCELLATION_CODE#8234, DIVERTED#8235, CRS_ELAPSED_TIME#8236, ACTUAL_ELAPSED_TIME#8237, AIR_TIME#8238, DISTANCE#8239, CARRIER_DELAY#8240, WEATHER_DELAY#8241, ... 4 more fields]\n                              +- Project [FL_DATE#8218, OP_CARRIER#8219, OP_CARRIER_FL_NUM#8220, ORIGIN#8221, DEST#8222, CRS_DEP_TIME#8223, DEP_TIME#8224, DEP_DELAY#8225, TAXI_OUT#8226, WHEELS_OFF#8227, WHEELS_ON#8228, TAXI_IN#8229, CRS_ARR_TIME#8230, ARR_TIME#8231, ARR_DELAY#8232, CANCELLED#8233, CANCELLATION_CODE#8234, DIVERTED#8235, CRS_ELAPSED_TIME#8236, ACTUAL_ELAPSED_TIME#8237, AIR_TIME#8238, DISTANCE#8239, CARRIER_DELAY#8240, WEATHER_DELAY#8241, ... 3 more fields]\n                                 +- Relation [FL_DATE#8218,OP_CARRIER#8219,OP_CARRIER_FL_NUM#8220,ORIGIN#8221,DEST#8222,CRS_DEP_TIME#8223,DEP_TIME#8224,DEP_DELAY#8225,TAXI_OUT#8226,WHEELS_OFF#8227,WHEELS_ON#8228,TAXI_IN#8229,CRS_ARR_TIME#8230,ARR_TIME#8231,ARR_DELAY#8232,CANCELLED#8233,CANCELLATION_CODE#8234,DIVERTED#8235,CRS_ELAPSED_TIME#8236,ACTUAL_ELAPSED_TIME#8237,AIR_TIME#8238,DISTANCE#8239,CARRIER_DELAY#8240,WEATHER_DELAY#8241,... 4 more fields] csv\n",
     "output_type": "error",
     "traceback": [
      "\u001b[0;31m---------------------------------------------------------------------------\u001b[0m",
      "\u001b[0;31mAnalysisException\u001b[0m                         Traceback (most recent call last)",
      "Cell \u001b[0;32mIn[91], line 3\u001b[0m\n\u001b[1;32m      1\u001b[0m \u001b[38;5;66;03m#Verificar outliers\u001b[39;00m\n\u001b[1;32m      2\u001b[0m \u001b[38;5;66;03m# Calcule a média e o desvio padrão\u001b[39;00m\n\u001b[0;32m----> 3\u001b[0m mean_value \u001b[38;5;241m=\u001b[39m \u001b[43mdf_numericas\u001b[49m\u001b[38;5;241;43m.\u001b[39;49m\u001b[43magg\u001b[49m\u001b[43m(\u001b[49m\u001b[43mmean\u001b[49m\u001b[43m(\u001b[49m\u001b[38;5;124;43m\"\u001b[39;49m\u001b[38;5;124;43mvalue\u001b[39;49m\u001b[38;5;124;43m\"\u001b[39;49m\u001b[43m)\u001b[49m\u001b[38;5;241;43m.\u001b[39;49m\u001b[43malias\u001b[49m\u001b[43m(\u001b[49m\u001b[38;5;124;43m\"\u001b[39;49m\u001b[38;5;124;43mmean\u001b[39;49m\u001b[38;5;124;43m\"\u001b[39;49m\u001b[43m)\u001b[49m\u001b[43m)\u001b[49m\u001b[38;5;241m.\u001b[39mcollect()[\u001b[38;5;241m0\u001b[39m][\u001b[38;5;124m\"\u001b[39m\u001b[38;5;124mmean\u001b[39m\u001b[38;5;124m\"\u001b[39m]\n\u001b[1;32m      4\u001b[0m stddev_value \u001b[38;5;241m=\u001b[39m df_numericas\u001b[38;5;241m.\u001b[39magg(stddev(\u001b[38;5;124m\"\u001b[39m\u001b[38;5;124mvalue\u001b[39m\u001b[38;5;124m\"\u001b[39m)\u001b[38;5;241m.\u001b[39malias(\u001b[38;5;124m\"\u001b[39m\u001b[38;5;124mstddev\u001b[39m\u001b[38;5;124m\"\u001b[39m))\u001b[38;5;241m.\u001b[39mcollect()[\u001b[38;5;241m0\u001b[39m][\u001b[38;5;124m\"\u001b[39m\u001b[38;5;124mstddev\u001b[39m\u001b[38;5;124m\"\u001b[39m]\n\u001b[1;32m      6\u001b[0m \u001b[38;5;66;03m# Defina um limite para identificar outliers (por exemplo, 3 desvios padrão da média)\u001b[39;00m\n",
      "File \u001b[0;32m/opt/conda/lib/python3.10/site-packages/pyspark/sql/dataframe.py:2205\u001b[0m, in \u001b[0;36mDataFrame.agg\u001b[0;34m(self, *exprs)\u001b[0m\n\u001b[1;32m   2191\u001b[0m \u001b[38;5;28;01mdef\u001b[39;00m \u001b[38;5;21magg\u001b[39m(\u001b[38;5;28mself\u001b[39m, \u001b[38;5;241m*\u001b[39mexprs: Union[Column, Dict[\u001b[38;5;28mstr\u001b[39m, \u001b[38;5;28mstr\u001b[39m]]) \u001b[38;5;241m-\u001b[39m\u001b[38;5;241m>\u001b[39m \u001b[38;5;124m\"\u001b[39m\u001b[38;5;124mDataFrame\u001b[39m\u001b[38;5;124m\"\u001b[39m:\n\u001b[1;32m   2192\u001b[0m \u001b[38;5;250m    \u001b[39m\u001b[38;5;124;03m\"\"\"Aggregate on the entire :class:`DataFrame` without groups\u001b[39;00m\n\u001b[1;32m   2193\u001b[0m \u001b[38;5;124;03m    (shorthand for ``df.groupBy().agg()``).\u001b[39;00m\n\u001b[1;32m   2194\u001b[0m \n\u001b[0;32m   (...)\u001b[0m\n\u001b[1;32m   2203\u001b[0m \u001b[38;5;124;03m    [Row(min(age)=2)]\u001b[39;00m\n\u001b[1;32m   2204\u001b[0m \u001b[38;5;124;03m    \"\"\"\u001b[39;00m\n\u001b[0;32m-> 2205\u001b[0m     \u001b[38;5;28;01mreturn\u001b[39;00m \u001b[38;5;28;43mself\u001b[39;49m\u001b[38;5;241;43m.\u001b[39;49m\u001b[43mgroupBy\u001b[49m\u001b[43m(\u001b[49m\u001b[43m)\u001b[49m\u001b[38;5;241;43m.\u001b[39;49m\u001b[43magg\u001b[49m\u001b[43m(\u001b[49m\u001b[38;5;241;43m*\u001b[39;49m\u001b[43mexprs\u001b[49m\u001b[43m)\u001b[49m\n",
      "File \u001b[0;32m/opt/conda/lib/python3.10/site-packages/pyspark/sql/group.py:137\u001b[0m, in \u001b[0;36mGroupedData.agg\u001b[0;34m(self, *exprs)\u001b[0m\n\u001b[1;32m    135\u001b[0m     \u001b[38;5;28;01massert\u001b[39;00m \u001b[38;5;28mall\u001b[39m(\u001b[38;5;28misinstance\u001b[39m(c, Column) \u001b[38;5;28;01mfor\u001b[39;00m c \u001b[38;5;129;01min\u001b[39;00m exprs), \u001b[38;5;124m\"\u001b[39m\u001b[38;5;124mall exprs should be Column\u001b[39m\u001b[38;5;124m\"\u001b[39m\n\u001b[1;32m    136\u001b[0m     exprs \u001b[38;5;241m=\u001b[39m cast(Tuple[Column, \u001b[38;5;241m.\u001b[39m\u001b[38;5;241m.\u001b[39m\u001b[38;5;241m.\u001b[39m], exprs)\n\u001b[0;32m--> 137\u001b[0m     jdf \u001b[38;5;241m=\u001b[39m \u001b[38;5;28;43mself\u001b[39;49m\u001b[38;5;241;43m.\u001b[39;49m\u001b[43m_jgd\u001b[49m\u001b[38;5;241;43m.\u001b[39;49m\u001b[43magg\u001b[49m\u001b[43m(\u001b[49m\u001b[43mexprs\u001b[49m\u001b[43m[\u001b[49m\u001b[38;5;241;43m0\u001b[39;49m\u001b[43m]\u001b[49m\u001b[38;5;241;43m.\u001b[39;49m\u001b[43m_jc\u001b[49m\u001b[43m,\u001b[49m\u001b[43m \u001b[49m\u001b[43m_to_seq\u001b[49m\u001b[43m(\u001b[49m\u001b[38;5;28;43mself\u001b[39;49m\u001b[38;5;241;43m.\u001b[39;49m\u001b[43msession\u001b[49m\u001b[38;5;241;43m.\u001b[39;49m\u001b[43m_sc\u001b[49m\u001b[43m,\u001b[49m\u001b[43m \u001b[49m\u001b[43m[\u001b[49m\u001b[43mc\u001b[49m\u001b[38;5;241;43m.\u001b[39;49m\u001b[43m_jc\u001b[49m\u001b[43m \u001b[49m\u001b[38;5;28;43;01mfor\u001b[39;49;00m\u001b[43m \u001b[49m\u001b[43mc\u001b[49m\u001b[43m \u001b[49m\u001b[38;5;129;43;01min\u001b[39;49;00m\u001b[43m \u001b[49m\u001b[43mexprs\u001b[49m\u001b[43m[\u001b[49m\u001b[38;5;241;43m1\u001b[39;49m\u001b[43m:\u001b[49m\u001b[43m]\u001b[49m\u001b[43m]\u001b[49m\u001b[43m)\u001b[49m\u001b[43m)\u001b[49m\n\u001b[1;32m    138\u001b[0m \u001b[38;5;28;01mreturn\u001b[39;00m DataFrame(jdf, \u001b[38;5;28mself\u001b[39m\u001b[38;5;241m.\u001b[39msession)\n",
      "File \u001b[0;32m/opt/conda/lib/python3.10/site-packages/py4j/java_gateway.py:1321\u001b[0m, in \u001b[0;36mJavaMember.__call__\u001b[0;34m(self, *args)\u001b[0m\n\u001b[1;32m   1315\u001b[0m command \u001b[38;5;241m=\u001b[39m proto\u001b[38;5;241m.\u001b[39mCALL_COMMAND_NAME \u001b[38;5;241m+\u001b[39m\\\n\u001b[1;32m   1316\u001b[0m     \u001b[38;5;28mself\u001b[39m\u001b[38;5;241m.\u001b[39mcommand_header \u001b[38;5;241m+\u001b[39m\\\n\u001b[1;32m   1317\u001b[0m     args_command \u001b[38;5;241m+\u001b[39m\\\n\u001b[1;32m   1318\u001b[0m     proto\u001b[38;5;241m.\u001b[39mEND_COMMAND_PART\n\u001b[1;32m   1320\u001b[0m answer \u001b[38;5;241m=\u001b[39m \u001b[38;5;28mself\u001b[39m\u001b[38;5;241m.\u001b[39mgateway_client\u001b[38;5;241m.\u001b[39msend_command(command)\n\u001b[0;32m-> 1321\u001b[0m return_value \u001b[38;5;241m=\u001b[39m \u001b[43mget_return_value\u001b[49m\u001b[43m(\u001b[49m\n\u001b[1;32m   1322\u001b[0m \u001b[43m    \u001b[49m\u001b[43manswer\u001b[49m\u001b[43m,\u001b[49m\u001b[43m \u001b[49m\u001b[38;5;28;43mself\u001b[39;49m\u001b[38;5;241;43m.\u001b[39;49m\u001b[43mgateway_client\u001b[49m\u001b[43m,\u001b[49m\u001b[43m \u001b[49m\u001b[38;5;28;43mself\u001b[39;49m\u001b[38;5;241;43m.\u001b[39;49m\u001b[43mtarget_id\u001b[49m\u001b[43m,\u001b[49m\u001b[43m \u001b[49m\u001b[38;5;28;43mself\u001b[39;49m\u001b[38;5;241;43m.\u001b[39;49m\u001b[43mname\u001b[49m\u001b[43m)\u001b[49m\n\u001b[1;32m   1324\u001b[0m \u001b[38;5;28;01mfor\u001b[39;00m temp_arg \u001b[38;5;129;01min\u001b[39;00m temp_args:\n\u001b[1;32m   1325\u001b[0m     temp_arg\u001b[38;5;241m.\u001b[39m_detach()\n",
      "File \u001b[0;32m/opt/conda/lib/python3.10/site-packages/pyspark/sql/utils.py:196\u001b[0m, in \u001b[0;36mcapture_sql_exception.<locals>.deco\u001b[0;34m(*a, **kw)\u001b[0m\n\u001b[1;32m    192\u001b[0m converted \u001b[38;5;241m=\u001b[39m convert_exception(e\u001b[38;5;241m.\u001b[39mjava_exception)\n\u001b[1;32m    193\u001b[0m \u001b[38;5;28;01mif\u001b[39;00m \u001b[38;5;129;01mnot\u001b[39;00m \u001b[38;5;28misinstance\u001b[39m(converted, UnknownException):\n\u001b[1;32m    194\u001b[0m     \u001b[38;5;66;03m# Hide where the exception came from that shows a non-Pythonic\u001b[39;00m\n\u001b[1;32m    195\u001b[0m     \u001b[38;5;66;03m# JVM exception message.\u001b[39;00m\n\u001b[0;32m--> 196\u001b[0m     \u001b[38;5;28;01mraise\u001b[39;00m converted \u001b[38;5;28;01mfrom\u001b[39;00m \u001b[38;5;28mNone\u001b[39m\n\u001b[1;32m    197\u001b[0m \u001b[38;5;28;01melse\u001b[39;00m:\n\u001b[1;32m    198\u001b[0m     \u001b[38;5;28;01mraise\u001b[39;00m\n",
      "\u001b[0;31mAnalysisException\u001b[0m: Column 'value' does not exist. Did you mean one of the following? [DELAY, TAXI_IN, AIR_TIME, DISTANCE, DIVERTED, FL_MONTH, TAXI_OUT, NAS_DELAY, CARRIER_DELAY, WEATHER_DELAY, SECURITY_DELAY, CRS_ELAPSED_TIME, ACTUAL_ELAPSED_TIME, LATE_AIRCRAFT_DELAY];\n'Aggregate [avg('value) AS mean#45185]\n+- Project [TAXI_OUT#8226, TAXI_IN#8229, DIVERTED#8235, CRS_ELAPSED_TIME#8236, ACTUAL_ELAPSED_TIME#8237, AIR_TIME#8238, DISTANCE#8239, CARRIER_DELAY#18645, WEATHER_DELAY#18646, NAS_DELAY#18647, SECURITY_DELAY#18648, LATE_AIRCRAFT_DELAY#18649, DELAY#8389, FL_MONTH#8418]\n   +- Filter atleastnnonnulls(4, DELAY#8389, CRS_ELAPSED_TIME#8236, AIR_TIME#8238, ACTUAL_ELAPSED_TIME#8237)\n      +- Project [OP_CARRIER#8219, ORIGIN#8221, DEST#8222, TAXI_OUT#8226, TAXI_IN#8229, DIVERTED#8235, CRS_ELAPSED_TIME#8236, ACTUAL_ELAPSED_TIME#8237, AIR_TIME#8238, DISTANCE#8239, coalesce(nanvl(CARRIER_DELAY#8240, cast(null as double)), cast(0.0 as double)) AS CARRIER_DELAY#18645, coalesce(nanvl(WEATHER_DELAY#8241, cast(null as double)), cast(0.0 as double)) AS WEATHER_DELAY#18646, coalesce(nanvl(NAS_DELAY#8242, cast(null as double)), cast(0.0 as double)) AS NAS_DELAY#18647, coalesce(nanvl(SECURITY_DELAY#8243, cast(null as double)), cast(0.0 as double)) AS SECURITY_DELAY#18648, coalesce(nanvl(LATE_AIRCRAFT_DELAY#8244, cast(null as double)), cast(0.0 as double)) AS LATE_AIRCRAFT_DELAY#18649, DELAY#8389, FL_MONTH#8418, DEP_PERIOD#8448, ARR_PERIOD#8479, DISTANCE_TYPE#8513]\n         +- Project [OP_CARRIER#8219, ORIGIN#8221, DEST#8222, TAXI_OUT#8226, TAXI_IN#8229, DIVERTED#8235, CRS_ELAPSED_TIME#8236, ACTUAL_ELAPSED_TIME#8237, AIR_TIME#8238, DISTANCE#8239, CARRIER_DELAY#8240, WEATHER_DELAY#8241, NAS_DELAY#8242, SECURITY_DELAY#8243, LATE_AIRCRAFT_DELAY#8244, DELAY#8389, FL_MONTH#8418, DEP_PERIOD#8448, ARR_PERIOD#8479, DISTANCE_TYPE#8513]\n            +- Filter (CANCELLED#8233 = cast(0 as double))\n               +- Project [FL_DATE#8218, OP_CARRIER#8219, OP_CARRIER_FL_NUM#8220, ORIGIN#8221, DEST#8222, CRS_DEP_TIME#8223, DEP_TIME#8224, DEP_DELAY#8225, TAXI_OUT#8226, WHEELS_OFF#8227, WHEELS_ON#8228, TAXI_IN#8229, CRS_ARR_TIME#8230, ARR_TIME#8231, ARR_DELAY#8232, CANCELLED#8233, CANCELLATION_CODE#8234, DIVERTED#8235, CRS_ELAPSED_TIME#8236, ACTUAL_ELAPSED_TIME#8237, AIR_TIME#8238, DISTANCE#8239, CARRIER_DELAY#8240, WEATHER_DELAY#8241, ... 8 more fields]\n                  +- Project [FL_DATE#8218, OP_CARRIER#8219, OP_CARRIER_FL_NUM#8220, ORIGIN#8221, DEST#8222, CRS_DEP_TIME#8223, DEP_TIME#8224, DEP_DELAY#8225, TAXI_OUT#8226, WHEELS_OFF#8227, WHEELS_ON#8228, TAXI_IN#8229, CRS_ARR_TIME#8230, ARR_TIME#8231, ARR_DELAY#8232, CANCELLED#8233, CANCELLATION_CODE#8234, DIVERTED#8235, CRS_ELAPSED_TIME#8236, ACTUAL_ELAPSED_TIME#8237, AIR_TIME#8238, DISTANCE#8239, CARRIER_DELAY#8240, WEATHER_DELAY#8241, ... 7 more fields]\n                     +- Project [FL_DATE#8218, OP_CARRIER#8219, OP_CARRIER_FL_NUM#8220, ORIGIN#8221, DEST#8222, CRS_DEP_TIME#8223, DEP_TIME#8224, DEP_DELAY#8225, TAXI_OUT#8226, WHEELS_OFF#8227, WHEELS_ON#8228, TAXI_IN#8229, CRS_ARR_TIME#8230, ARR_TIME#8231, ARR_DELAY#8232, CANCELLED#8233, CANCELLATION_CODE#8234, DIVERTED#8235, CRS_ELAPSED_TIME#8236, ACTUAL_ELAPSED_TIME#8237, AIR_TIME#8238, DISTANCE#8239, CARRIER_DELAY#8240, WEATHER_DELAY#8241, ... 6 more fields]\n                        +- Project [FL_DATE#8218, OP_CARRIER#8219, OP_CARRIER_FL_NUM#8220, ORIGIN#8221, DEST#8222, CRS_DEP_TIME#8223, DEP_TIME#8224, DEP_DELAY#8225, TAXI_OUT#8226, WHEELS_OFF#8227, WHEELS_ON#8228, TAXI_IN#8229, CRS_ARR_TIME#8230, ARR_TIME#8231, ARR_DELAY#8232, CANCELLED#8233, CANCELLATION_CODE#8234, DIVERTED#8235, CRS_ELAPSED_TIME#8236, ACTUAL_ELAPSED_TIME#8237, AIR_TIME#8238, DISTANCE#8239, CARRIER_DELAY#8240, WEATHER_DELAY#8241, ... 5 more fields]\n                           +- Project [FL_DATE#8218, OP_CARRIER#8219, OP_CARRIER_FL_NUM#8220, ORIGIN#8221, DEST#8222, CRS_DEP_TIME#8223, DEP_TIME#8224, DEP_DELAY#8225, TAXI_OUT#8226, WHEELS_OFF#8227, WHEELS_ON#8228, TAXI_IN#8229, CRS_ARR_TIME#8230, ARR_TIME#8231, ARR_DELAY#8232, CANCELLED#8233, CANCELLATION_CODE#8234, DIVERTED#8235, CRS_ELAPSED_TIME#8236, ACTUAL_ELAPSED_TIME#8237, AIR_TIME#8238, DISTANCE#8239, CARRIER_DELAY#8240, WEATHER_DELAY#8241, ... 4 more fields]\n                              +- Project [FL_DATE#8218, OP_CARRIER#8219, OP_CARRIER_FL_NUM#8220, ORIGIN#8221, DEST#8222, CRS_DEP_TIME#8223, DEP_TIME#8224, DEP_DELAY#8225, TAXI_OUT#8226, WHEELS_OFF#8227, WHEELS_ON#8228, TAXI_IN#8229, CRS_ARR_TIME#8230, ARR_TIME#8231, ARR_DELAY#8232, CANCELLED#8233, CANCELLATION_CODE#8234, DIVERTED#8235, CRS_ELAPSED_TIME#8236, ACTUAL_ELAPSED_TIME#8237, AIR_TIME#8238, DISTANCE#8239, CARRIER_DELAY#8240, WEATHER_DELAY#8241, ... 3 more fields]\n                                 +- Relation [FL_DATE#8218,OP_CARRIER#8219,OP_CARRIER_FL_NUM#8220,ORIGIN#8221,DEST#8222,CRS_DEP_TIME#8223,DEP_TIME#8224,DEP_DELAY#8225,TAXI_OUT#8226,WHEELS_OFF#8227,WHEELS_ON#8228,TAXI_IN#8229,CRS_ARR_TIME#8230,ARR_TIME#8231,ARR_DELAY#8232,CANCELLED#8233,CANCELLATION_CODE#8234,DIVERTED#8235,CRS_ELAPSED_TIME#8236,ACTUAL_ELAPSED_TIME#8237,AIR_TIME#8238,DISTANCE#8239,CARRIER_DELAY#8240,WEATHER_DELAY#8241,... 4 more fields] csv\n"
     ]
    }
   ],
   "source": [
    "\n",
    "#Verificar outliers\n",
    "# Calcule a média e o desvio padrão\n",
    "mean_value = df_numericas.agg(mean(\"value\").alias(\"mean\")).collect()[0][\"mean\"]\n",
    "stddev_value = df_numericas.agg(stddev(\"value\").alias(\"stddev\")).collect()[0][\"stddev\"]\n",
    "\n",
    "# Defina um limite para identificar outliers (por exemplo, 3 desvios padrão da média)\n",
    "lower_limit = mean_value - 3 * stddev_value\n",
    "upper_limit = mean_value + 3 * stddev_value\n",
    "\n",
    "# Identifique outliers\n",
    "outliers = df_numericas.filter((col(\"value\") < lower_limit) | (col(\"value\") > upper_limit))\n",
    "\n",
    "# Contagem de outliers\n",
    "num_outliers = outliers.count()\n",
    "\n",
    "# Mostra o resultado\n",
    "print(f\"Número de outliers: {num_outliers}\")\n",
    "outliers.show()"
   ]
  },
  {
   "cell_type": "markdown",
   "metadata": {},
   "source": [
    "## Modelagem"
   ]
  },
  {
   "cell_type": "markdown",
   "metadata": {},
   "source": [
    "### Separação entre Treino e Teste"
   ]
  },
  {
   "cell_type": "code",
   "execution_count": 94,
   "metadata": {},
   "outputs": [],
   "source": [
    "# criar df de treino e teste\n",
    "train_df, test_df = df.randomSplit( [0.8, 0.2], seed=42)"
   ]
  },
  {
   "cell_type": "code",
   "execution_count": 95,
   "metadata": {},
   "outputs": [],
   "source": [
    "# criar df para tunar os hiperparametros\n",
    "toy_df = test_df.sample(False, 0.01, seed=42)"
   ]
  },
  {
   "cell_type": "code",
   "execution_count": 96,
   "metadata": {},
   "outputs": [
    {
     "name": "stdout",
     "output_type": "stream",
     "text": [
      "Train set count:  4803297\n",
      "Train set count:  1202083\n",
      "Train set count:  12116\n"
     ]
    }
   ],
   "source": [
    "print(\"Train set count: \", train_df.count())\n",
    "print(\"Train set count: \", test_df.count())\n",
    "print(\"Train set count: \", toy_df.count())"
   ]
  },
  {
   "cell_type": "markdown",
   "metadata": {},
   "source": [
    "### One Hot Encoding"
   ]
  },
  {
   "cell_type": "code",
   "execution_count": null,
   "metadata": {},
   "outputs": [],
   "source": [
    "#Preparar para converter as colunas categóricas pelo one hot encoding (coloque o FL_MONTH como categórica)\n",
    "cat_features = ['OP_CARRIER', 'ORIGIN', 'DEST', 'DEP_PERIOD', 'ARR_PERIOD', 'DISTANCE_TYPE', 'FL_MONTH' ]\n",
    "\n",
    "indexOutputCols = [x + 'Index' for x in cat_features]\n",
    "oheOutputCols = [x + 'OHE' for x in cat_features]\n",
    "stringIndexer = StringIndexer(inputCols=cat_features,\n",
    "                             outputCols=indexOutputCols,\n",
    "                             handleInvalid=\"skip\")\n",
    "\n",
    "oheEncoder = OneHotEncoder(inputCols=indexOutputCols,\n",
    "                          outputCols=oheOutputCols)"
   ]
  },
  {
   "cell_type": "markdown",
   "metadata": {},
   "source": [
    "### Normalização"
   ]
  },
  {
   "cell_type": "code",
   "execution_count": null,
   "metadata": {},
   "outputs": [],
   "source": [
    "#Preparar para converter as colunas númericas\n",
    "num_features = ['TAXI_OUT', 'TAXI_IN', 'DIVERTED', 'CRS_ELAPSED_TIME', 'ACTUAL_ELAPSED_TIME',\n",
    "                'AIR_TIME', 'DISTANCE', 'CARRIER_DELAY', 'WEATHER_DELAY',\n",
    "                'NAS_DELAY', 'SECURITY_DELAY', ' LATE_AIRCRAFT_DELAY', 'DELAY']\n",
    "\n",
    "numVecAssembler = VectorAssembler(inputCols = num_features, outputCol = 'features')\n",
    "\n",
    "stadScaler = StandardScaler(inputCol = 'features', outputCol = 'features_scaled')"
   ]
  },
  {
   "cell_type": "markdown",
   "metadata": {},
   "source": [
    "### Juntando os Vetores de One Hot Encoding e Normalização"
   ]
  },
  {
   "cell_type": "code",
   "execution_count": null,
   "metadata": {},
   "outputs": [],
   "source": [
    "assemblerInputs = oheOutputCols + ['features_scaled']\n",
    "\n",
    "VecAssembler = VectorAssembler(inputCols = assemblerInputs, outputCol = 'features_vector')"
   ]
  },
  {
   "cell_type": "code",
   "execution_count": null,
   "metadata": {},
   "outputs": [],
   "source": [
    "stages = [stringIndexer, oheEncoder, numVecAssembler, stadScaler, VecAssembler]"
   ]
  },
  {
   "cell_type": "markdown",
   "metadata": {},
   "source": [
    "### Criação do Pipeline de Transformação do Dados"
   ]
  },
  {
   "cell_type": "code",
   "execution_count": null,
   "metadata": {},
   "outputs": [],
   "source": [
    "# Criacao do pipeline de transformacao\n",
    "\n",
    "transform_pipeline = Pipeline(stages=stages)\n",
    "\n",
    "#aplicacao do pipeline nos dados treino - ajuste da transformacao\n",
    "fitted_transformer = transform_pipeline.fit(train_df)\n",
    "\n",
    "#aplicacao da transformacao nos dados de treino\n",
    "transformed_train_df = fitted_transformer.transform(train_df)\n",
    "\n",
    "transformed_train_df.limit(10).toPandas()"
   ]
  },
  {
   "cell_type": "code",
   "execution_count": 93,
   "metadata": {},
   "outputs": [
    {
     "data": {
      "text/plain": [
       "DataFrame[OP_CARRIER: string, ORIGIN: string, DEST: string, TAXI_OUT: double, TAXI_IN: double, DIVERTED: double, CRS_ELAPSED_TIME: double, ACTUAL_ELAPSED_TIME: double, AIR_TIME: double, DISTANCE: double, CARRIER_DELAY: double, WEATHER_DELAY: double, NAS_DELAY: double, SECURITY_DELAY: double, LATE_AIRCRAFT_DELAY: double, DELAY: int, FL_MONTH: int, DEP_PERIOD: string, ARR_PERIOD: string, DISTANCE_TYPE: string]"
      ]
     },
     "execution_count": 93,
     "metadata": {},
     "output_type": "execute_result"
    }
   ],
   "source": [
    "# como cancelar o cache\n",
    "df.unpersist()"
   ]
  },
  {
   "cell_type": "code",
   "execution_count": null,
   "metadata": {},
   "outputs": [],
   "source": []
  }
 ],
 "metadata": {
  "colab": {
   "provenance": []
  },
  "hide_input": false,
  "kernelspec": {
   "display_name": "Python 3 (ipykernel)",
   "language": "python",
   "name": "python3"
  },
  "language_info": {
   "codemirror_mode": {
    "name": "ipython",
    "version": 3
   },
   "file_extension": ".py",
   "mimetype": "text/x-python",
   "name": "python",
   "nbconvert_exporter": "python",
   "pygments_lexer": "ipython3",
   "version": "3.10.8"
  },
  "toc": {
   "base_numbering": 1,
   "nav_menu": {},
   "number_sections": true,
   "sideBar": true,
   "skip_h1_title": false,
   "title_cell": "Table of Contents",
   "title_sidebar": "Contents",
   "toc_cell": false,
   "toc_position": {},
   "toc_section_display": true,
   "toc_window_display": false
  },
  "varInspector": {
   "cols": {
    "lenName": 16,
    "lenType": 16,
    "lenVar": 40
   },
   "kernels_config": {
    "python": {
     "delete_cmd_postfix": "",
     "delete_cmd_prefix": "del ",
     "library": "var_list.py",
     "varRefreshCmd": "print(var_dic_list())"
    },
    "r": {
     "delete_cmd_postfix": ") ",
     "delete_cmd_prefix": "rm(",
     "library": "var_list.r",
     "varRefreshCmd": "cat(var_dic_list()) "
    }
   },
   "types_to_exclude": [
    "module",
    "function",
    "builtin_function_or_method",
    "instance",
    "_Feature"
   ],
   "window_display": false
  }
 },
 "nbformat": 4,
 "nbformat_minor": 4
}
