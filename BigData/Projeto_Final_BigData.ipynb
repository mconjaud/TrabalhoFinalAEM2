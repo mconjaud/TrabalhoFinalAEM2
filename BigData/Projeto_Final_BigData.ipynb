{
 "cells": [
  {
   "cell_type": "markdown",
   "metadata": {
    "id": "s5JWGDg1Tt6s"
   },
   "source": [
    "INSPER - Big Data e Computação em Nuvem\n",
    "\n",
    "# Big Data e Computação em Nuvem - Projeto Final: Análise de Atraso de Voos\n",
    "\n",
    "**Integrantes**:\n",
    "\n",
    "- Flávio Barbosa Shirahige\n",
    "- Hélio Pereira de Oliveira\n",
    "- Michel Maurice Conjaud Neto"
   ]
  },
  {
   "cell_type": "markdown",
   "metadata": {
    "jp-MarkdownHeadingCollapsed": true,
    "tags": []
   },
   "source": [
    "# 1. Introdução\n",
    "\n",
    "A aviação é em uma das maiores indústrias da ecomonia global. Apesar do seu potencial de faturamento, há desafios logísticos na alocação de aeronaves que impactam a margem do negócio nessa indústria. Desta forma, o cumprimento da programação de voos acaba se tornando um diferencial para uma empresa.\n",
    "\n",
    "No entanto, sabemos que há fatores que impactam o cumprimento desta programação e estão além das decisões de uma companhia, como as condições climáticas. Portanto, ter um modelo que preveja se um voo atrasará ou não em determinado aeroporto se torna vital para a obtenção de uma margem significativa. \n",
    "\n",
    "O objetivo deste projeto é criar um modelo que preveja se um voo tem potencial para atrasar para que seja possível ter uma melhor acurácia na programação de voos e minimizar as perdas em decorrência da logítica. "
   ]
  },
  {
   "cell_type": "markdown",
   "metadata": {},
   "source": [
    "# 2. Importando as bibliotecas e dados e criando a sessão do Spark"
   ]
  },
  {
   "cell_type": "code",
   "execution_count": 1,
   "metadata": {},
   "outputs": [],
   "source": [
    "#Importando as bibliotecas necessárias\n",
    "import seaborn as sns\n",
    "import pyspark.sql.functions as f\n",
    "from pyspark.sql.types import StringType\n",
    "from matplotlib import pyplot as plt\n",
    "import pandas as pd\n",
    "import numpy as np\n",
    "import matplotlib.pyplot as plt\n",
    "from pyspark.sql import SparkSession, Row\n",
    "from pyspark.sql.functions import col, sum, when, stddev, mean, count, isnan\n",
    "from pyspark.ml.feature import VectorAssembler, StandardScaler\n",
    "from pyspark.ml import Pipeline\n",
    "from pyspark.ml.classification import LogisticRegression, RandomForestClassifier, GBTClassifier\n",
    "from pyspark.ml.feature import OneHotEncoder, StringIndexer\n",
    "from pyspark.ml.evaluation import BinaryClassificationEvaluator, MulticlassClassificationEvaluator\n",
    "from pyspark.ml.stat import Correlation\n",
    "from sklearn.metrics import auc, roc_curve\n",
    "from pyspark.ml.tuning import ParamGridBuilder, CrossValidator\n",
    "from sklearn.metrics import classification_report, confusion_matrix"
   ]
  },
  {
   "cell_type": "code",
   "execution_count": 2,
   "metadata": {
    "ExecuteTime": {
     "end_time": "2021-12-04T17:04:04.026505Z",
     "start_time": "2021-12-04T17:03:59.683551Z"
    },
    "id": "kN0zM7uDTt6y"
   },
   "outputs": [],
   "source": [
    "# Criar a sessao do Spark\n",
    "spark = SparkSession \\\n",
    "            .builder \\\n",
    "            .master(\"local[4]\") \\\n",
    "            .appName(\"nyc_<mudar-nome>\") \\\n",
    "            .config(\"spark.jars.packages\", \"org.apache.hadoop:hadoop-azure:3.3.4,com.microsoft.azure:azure-storage:8.6.6\") \\\n",
    "            .config(\"spark.driver.memory\", \"4g\") \\\n",
    "            .config(\"spark.executor.memory\", \"5g\")\\\n",
    "            .getOrCreate()"
   ]
  },
  {
   "cell_type": "code",
   "execution_count": 3,
   "metadata": {
    "id": "BtlPQBMUev9f"
   },
   "outputs": [],
   "source": [
    "STORAGE_ACCOUNT = 'dlspadseastusprod'\n",
    "CONTAINER = 'big-data-comp-nuvem'\n",
    "FOLDER = 'airline-delay'\n",
    "TOKEN = 'lSuH4ZI9BhOFEhCF/7ZQbrpPBIhgtLcPDfXjJ8lMxQZjaADW4p6tcmiZGDX9u05o7FqSE2t9d2RD+ASt0YFG8g=='\n",
    "\n",
    "spark.conf.set(\"fs.azure.account.key.\" + STORAGE_ACCOUNT + \".blob.core.windows.net\", TOKEN)"
   ]
  },
  {
   "cell_type": "markdown",
   "metadata": {},
   "source": [
    "Abaixo, vamos importar os dados de voos nos EUA de 2012 para não onerar o processamento das informações, dado a limitação de recursos disponíveis."
   ]
  },
  {
   "cell_type": "code",
   "execution_count": 4,
   "metadata": {
    "id": "pfBLgWVPk1Xe",
    "outputId": "ea7abda6-e0df-4f07-fe30-6cef0b26e389"
   },
   "outputs": [],
   "source": [
    "# Importar os dados de 2012\n",
    "df = spark.read.csv(\"wasbs://{}@{}.blob.core.windows.net/{}/2012.csv\".format(CONTAINER, STORAGE_ACCOUNT, FOLDER), header=True, inferSchema=True)"
   ]
  },
  {
   "cell_type": "code",
   "execution_count": 6,
   "metadata": {},
   "outputs": [
    {
     "name": "stdout",
     "output_type": "stream",
     "text": [
      "root\n",
      " |-- FL_DATE: timestamp (nullable = true)\n",
      " |-- OP_CARRIER: string (nullable = true)\n",
      " |-- OP_CARRIER_FL_NUM: integer (nullable = true)\n",
      " |-- ORIGIN: string (nullable = true)\n",
      " |-- DEST: string (nullable = true)\n",
      " |-- CRS_DEP_TIME: double (nullable = true)\n",
      " |-- DEP_TIME: double (nullable = true)\n",
      " |-- DEP_DELAY: double (nullable = true)\n",
      " |-- TAXI_OUT: double (nullable = true)\n",
      " |-- WHEELS_OFF: double (nullable = true)\n",
      " |-- WHEELS_ON: double (nullable = true)\n",
      " |-- TAXI_IN: double (nullable = true)\n",
      " |-- CRS_ARR_TIME: double (nullable = true)\n",
      " |-- ARR_TIME: double (nullable = true)\n",
      " |-- ARR_DELAY: double (nullable = true)\n",
      " |-- CANCELLED: double (nullable = true)\n",
      " |-- CANCELLATION_CODE: string (nullable = true)\n",
      " |-- DIVERTED: double (nullable = true)\n",
      " |-- CRS_ELAPSED_TIME: double (nullable = true)\n",
      " |-- ACTUAL_ELAPSED_TIME: double (nullable = true)\n",
      " |-- AIR_TIME: double (nullable = true)\n",
      " |-- DISTANCE: double (nullable = true)\n",
      " |-- CARRIER_DELAY: double (nullable = true)\n",
      " |-- WEATHER_DELAY: double (nullable = true)\n",
      " |-- NAS_DELAY: double (nullable = true)\n",
      " |-- SECURITY_DELAY: double (nullable = true)\n",
      " |-- LATE_AIRCRAFT_DELAY: double (nullable = true)\n",
      " |-- Unnamed: 27: string (nullable = true)\n",
      "\n"
     ]
    }
   ],
   "source": [
    "#Visualizar a estrutura dos dados importados\n",
    "df.printSchema()"
   ]
  },
  {
   "cell_type": "markdown",
   "metadata": {},
   "source": [
    "Nota-se que dados importados estão no formato adequado para a modelagem. As únicas exceções são CRS_DEP_TIME, DEP_TIME, WHEELS_OFF, WHEELS_ON, CRS_ARR_TIME e ARR_TIME, pois são variáveis que medem o horário (timestamp), mas estão em formato numérico (double). O tratamento destas variáveis será feito na próxima etapa."
   ]
  },
  {
   "cell_type": "markdown",
   "metadata": {},
   "source": [
    "# 3. Feature Engineering"
   ]
  },
  {
   "cell_type": "markdown",
   "metadata": {},
   "source": [
    "Inicialmente vamos excluir a coluna \"Unnamed: 27\",que não será utilizada por não está no dicionário de dados"
   ]
  },
  {
   "cell_type": "code",
   "execution_count": 7,
   "metadata": {},
   "outputs": [
    {
     "data": {
      "text/plain": [
       "DataFrame[FL_DATE: timestamp, OP_CARRIER: string, OP_CARRIER_FL_NUM: int, ORIGIN: string, DEST: string, CRS_DEP_TIME: double, DEP_TIME: double, DEP_DELAY: double, TAXI_OUT: double, WHEELS_OFF: double, WHEELS_ON: double, TAXI_IN: double, CRS_ARR_TIME: double, ARR_TIME: double, ARR_DELAY: double, CANCELLED: double, CANCELLATION_CODE: string, DIVERTED: double, CRS_ELAPSED_TIME: double, ACTUAL_ELAPSED_TIME: double, AIR_TIME: double, DISTANCE: double, CARRIER_DELAY: double, WEATHER_DELAY: double, NAS_DELAY: double, SECURITY_DELAY: double, LATE_AIRCRAFT_DELAY: double, Unnamed: 27: string]"
      ]
     },
     "execution_count": 7,
     "metadata": {},
     "output_type": "execute_result"
    }
   ],
   "source": [
    "# Colocar em cache, pois os códigos de contagem são lentos\n",
    "df.cache()"
   ]
  },
  {
   "cell_type": "code",
   "execution_count": 8,
   "metadata": {},
   "outputs": [
    {
     "name": "stdout",
     "output_type": "stream",
     "text": [
      "root\n",
      " |-- FL_DATE: timestamp (nullable = true)\n",
      " |-- OP_CARRIER: string (nullable = true)\n",
      " |-- OP_CARRIER_FL_NUM: integer (nullable = true)\n",
      " |-- ORIGIN: string (nullable = true)\n",
      " |-- DEST: string (nullable = true)\n",
      " |-- CRS_DEP_TIME: double (nullable = true)\n",
      " |-- DEP_TIME: double (nullable = true)\n",
      " |-- DEP_DELAY: double (nullable = true)\n",
      " |-- TAXI_OUT: double (nullable = true)\n",
      " |-- WHEELS_OFF: double (nullable = true)\n",
      " |-- WHEELS_ON: double (nullable = true)\n",
      " |-- TAXI_IN: double (nullable = true)\n",
      " |-- CRS_ARR_TIME: double (nullable = true)\n",
      " |-- ARR_TIME: double (nullable = true)\n",
      " |-- ARR_DELAY: double (nullable = true)\n",
      " |-- CANCELLED: double (nullable = true)\n",
      " |-- CANCELLATION_CODE: string (nullable = true)\n",
      " |-- DIVERTED: double (nullable = true)\n",
      " |-- CRS_ELAPSED_TIME: double (nullable = true)\n",
      " |-- ACTUAL_ELAPSED_TIME: double (nullable = true)\n",
      " |-- AIR_TIME: double (nullable = true)\n",
      " |-- DISTANCE: double (nullable = true)\n",
      " |-- CARRIER_DELAY: double (nullable = true)\n",
      " |-- WEATHER_DELAY: double (nullable = true)\n",
      " |-- NAS_DELAY: double (nullable = true)\n",
      " |-- SECURITY_DELAY: double (nullable = true)\n",
      " |-- LATE_AIRCRAFT_DELAY: double (nullable = true)\n",
      "\n"
     ]
    }
   ],
   "source": [
    "#Remover a coluna Unnamed\n",
    "df = df.drop(\"Unnamed: 27\")\n",
    "df.printSchema()"
   ]
  },
  {
   "cell_type": "code",
   "execution_count": 9,
   "metadata": {},
   "outputs": [
    {
     "name": "stdout",
     "output_type": "stream",
     "text": [
      "O total de linhas do dataframe é:  6096762\n"
     ]
    }
   ],
   "source": [
    "# numero de linhas\n",
    "total_rows = df.count()\n",
    "print(\"O total de linhas do dataframe é: \", total_rows)"
   ]
  },
  {
   "cell_type": "markdown",
   "metadata": {},
   "source": [
    "## 3.2 Definição e Criação da Variável Resposta\n",
    "\n",
    "Como o objetivo é ter um input para a programação de voos, qualquer informação sobre atraso de voos na decolagem ou na aterrissagem importa. Logo, o atraso será definido a partir da soma das coluna DEP_DELAY (atraso na decolagem) e ARR_DELAY (atraso na aterrissagem), sem tolerência de atraso (DEP_DELAY + ARR_DELAY > 0)."
   ]
  },
  {
   "cell_type": "code",
   "execution_count": 10,
   "metadata": {},
   "outputs": [],
   "source": [
    "#Criar a variável reposta a partir da soma das colunas ARR_DELAY DEP_DELAY\n",
    "df = df.withColumn(\"DELAY\", \n",
    "                   when(df['ARR_DELAY'] +  df['DEP_DELAY'] > 0, 1)\n",
    "                   .otherwise(0))"
   ]
  },
  {
   "cell_type": "markdown",
   "metadata": {},
   "source": [
    "## 3.3 Análise de Variáveis do Dataset\n",
    "\n",
    "Nessa etapa vamos analisar os missing values."
   ]
  },
  {
   "cell_type": "code",
   "execution_count": 11,
   "metadata": {},
   "outputs": [
    {
     "data": {
      "text/plain": [
       "{'FL_DATE': 0,\n",
       " 'OP_CARRIER': 0,\n",
       " 'OP_CARRIER_FL_NUM': 0,\n",
       " 'ORIGIN': 0,\n",
       " 'DEST': 0,\n",
       " 'CRS_DEP_TIME': 1,\n",
       " 'DEP_TIME': 75723,\n",
       " 'DEP_DELAY': 75723,\n",
       " 'TAXI_OUT': 77977,\n",
       " 'WHEELS_OFF': 77977,\n",
       " 'WHEELS_ON': 80894,\n",
       " 'TAXI_IN': 80894,\n",
       " 'CRS_ARR_TIME': 2,\n",
       " 'ARR_TIME': 80894,\n",
       " 'ARR_DELAY': 91381,\n",
       " 'CANCELLED': 0,\n",
       " 'CANCELLATION_CODE': 6017900,\n",
       " 'DIVERTED': 0,\n",
       " 'CRS_ELAPSED_TIME': 1,\n",
       " 'ACTUAL_ELAPSED_TIME': 91381,\n",
       " 'AIR_TIME': 91381,\n",
       " 'DISTANCE': 0,\n",
       " 'CARRIER_DELAY': 5081604,\n",
       " 'WEATHER_DELAY': 5081604,\n",
       " 'NAS_DELAY': 5081604,\n",
       " 'SECURITY_DELAY': 5081604,\n",
       " 'LATE_AIRCRAFT_DELAY': 5081604,\n",
       " 'DELAY': 0}"
      ]
     },
     "execution_count": 11,
     "metadata": {},
     "output_type": "execute_result"
    }
   ],
   "source": [
    "#Verificando os missing values\n",
    "{col:df.filter(df[col].isNull()).count() for col in df.columns}"
   ]
  },
  {
   "cell_type": "markdown",
   "metadata": {},
   "source": [
    "As variáveis de atraso têm um valor de missing values elevado. Vamos analisar a distribuição destes dados."
   ]
  },
  {
   "cell_type": "code",
   "execution_count": 12,
   "metadata": {},
   "outputs": [
    {
     "data": {
      "image/png": "[encoded data removed]",
      "text/plain": [
       "<Figure size 640x480 with 1 Axes>"
      ]
     },
     "metadata": {},
     "output_type": "display_data"
    }
   ],
   "source": [
    "# Cria um dataframe com os dados da coluna CARRIER_DELAY\n",
    "df_carrier_delay = df.select(df['CARRIER_DELAY']).toPandas()\n",
    "\n",
    "# Plota histograma das distâncias com 20 bins para verificar a distribuição dos voos\n",
    "df_carrier_delay.plot.hist(bins=20, edgecolor='black')\n",
    "plt.title('Histograma')\n",
    "plt.xlabel('Minutos')\n",
    "plt.ylabel('Frequência')\n",
    "plt.show()"
   ]
  },
  {
   "cell_type": "code",
   "execution_count": 13,
   "metadata": {},
   "outputs": [
    {
     "data": {
      "text/html": [
       "<div>\n",
       "<style scoped>\n",
       "    .dataframe tbody tr th:only-of-type {\n",
       "        vertical-align: middle;\n",
       "    }\n",
       "\n",
       "    .dataframe tbody tr th {\n",
       "        vertical-align: top;\n",
       "    }\n",
       "\n",
       "    .dataframe thead th {\n",
       "        text-align: right;\n",
       "    }\n",
       "</style>\n",
       "<table border=\"1\" class=\"dataframe\">\n",
       "  <thead>\n",
       "    <tr style=\"text-align: right;\">\n",
       "      <th></th>\n",
       "      <th>summary</th>\n",
       "      <th>CARRIER_DELAY</th>\n",
       "    </tr>\n",
       "  </thead>\n",
       "  <tbody>\n",
       "    <tr>\n",
       "      <th>0</th>\n",
       "      <td>count</td>\n",
       "      <td>1015158</td>\n",
       "    </tr>\n",
       "    <tr>\n",
       "      <th>1</th>\n",
       "      <td>mean</td>\n",
       "      <td>17.89421548172797</td>\n",
       "    </tr>\n",
       "    <tr>\n",
       "      <th>2</th>\n",
       "      <td>stddev</td>\n",
       "      <td>45.56229030399185</td>\n",
       "    </tr>\n",
       "    <tr>\n",
       "      <th>3</th>\n",
       "      <td>min</td>\n",
       "      <td>0.0</td>\n",
       "    </tr>\n",
       "    <tr>\n",
       "      <th>4</th>\n",
       "      <td>max</td>\n",
       "      <td>1823.0</td>\n",
       "    </tr>\n",
       "  </tbody>\n",
       "</table>\n",
       "</div>"
      ],
      "text/plain": [
       "  summary      CARRIER_DELAY\n",
       "0   count            1015158\n",
       "1    mean  17.89421548172797\n",
       "2  stddev  45.56229030399185\n",
       "3     min                0.0\n",
       "4     max             1823.0"
      ]
     },
     "execution_count": 13,
     "metadata": {},
     "output_type": "execute_result"
    }
   ],
   "source": [
    "df.select('CARRIER_DELAY').describe().toPandas()"
   ]
  },
  {
   "cell_type": "code",
   "execution_count": 14,
   "metadata": {},
   "outputs": [
    {
     "data": {
      "text/html": [
       "<div>\n",
       "<style scoped>\n",
       "    .dataframe tbody tr th:only-of-type {\n",
       "        vertical-align: middle;\n",
       "    }\n",
       "\n",
       "    .dataframe tbody tr th {\n",
       "        vertical-align: top;\n",
       "    }\n",
       "\n",
       "    .dataframe thead th {\n",
       "        text-align: right;\n",
       "    }\n",
       "</style>\n",
       "<table border=\"1\" class=\"dataframe\">\n",
       "  <thead>\n",
       "    <tr style=\"text-align: right;\">\n",
       "      <th></th>\n",
       "      <th>summary</th>\n",
       "      <th>WEATHER_DELAY</th>\n",
       "    </tr>\n",
       "  </thead>\n",
       "  <tbody>\n",
       "    <tr>\n",
       "      <th>0</th>\n",
       "      <td>count</td>\n",
       "      <td>1015158</td>\n",
       "    </tr>\n",
       "    <tr>\n",
       "      <th>1</th>\n",
       "      <td>mean</td>\n",
       "      <td>2.2457686389704854</td>\n",
       "    </tr>\n",
       "    <tr>\n",
       "      <th>2</th>\n",
       "      <td>stddev</td>\n",
       "      <td>17.272722643396154</td>\n",
       "    </tr>\n",
       "    <tr>\n",
       "      <th>3</th>\n",
       "      <td>min</td>\n",
       "      <td>0.0</td>\n",
       "    </tr>\n",
       "    <tr>\n",
       "      <th>4</th>\n",
       "      <td>max</td>\n",
       "      <td>1615.0</td>\n",
       "    </tr>\n",
       "  </tbody>\n",
       "</table>\n",
       "</div>"
      ],
      "text/plain": [
       "  summary       WEATHER_DELAY\n",
       "0   count             1015158\n",
       "1    mean  2.2457686389704854\n",
       "2  stddev  17.272722643396154\n",
       "3     min                 0.0\n",
       "4     max              1615.0"
      ]
     },
     "execution_count": 14,
     "metadata": {},
     "output_type": "execute_result"
    }
   ],
   "source": [
    "df.select('WEATHER_DELAY').describe().toPandas()"
   ]
  },
  {
   "cell_type": "code",
   "execution_count": 15,
   "metadata": {},
   "outputs": [
    {
     "data": {
      "text/html": [
       "<div>\n",
       "<style scoped>\n",
       "    .dataframe tbody tr th:only-of-type {\n",
       "        vertical-align: middle;\n",
       "    }\n",
       "\n",
       "    .dataframe tbody tr th {\n",
       "        vertical-align: top;\n",
       "    }\n",
       "\n",
       "    .dataframe thead th {\n",
       "        text-align: right;\n",
       "    }\n",
       "</style>\n",
       "<table border=\"1\" class=\"dataframe\">\n",
       "  <thead>\n",
       "    <tr style=\"text-align: right;\">\n",
       "      <th></th>\n",
       "      <th>summary</th>\n",
       "      <th>NAS_DELAY</th>\n",
       "    </tr>\n",
       "  </thead>\n",
       "  <tbody>\n",
       "    <tr>\n",
       "      <th>0</th>\n",
       "      <td>count</td>\n",
       "      <td>1015158</td>\n",
       "    </tr>\n",
       "    <tr>\n",
       "      <th>1</th>\n",
       "      <td>mean</td>\n",
       "      <td>12.637266317164421</td>\n",
       "    </tr>\n",
       "    <tr>\n",
       "      <th>2</th>\n",
       "      <td>stddev</td>\n",
       "      <td>25.90985229314727</td>\n",
       "    </tr>\n",
       "    <tr>\n",
       "      <th>3</th>\n",
       "      <td>min</td>\n",
       "      <td>0.0</td>\n",
       "    </tr>\n",
       "    <tr>\n",
       "      <th>4</th>\n",
       "      <td>max</td>\n",
       "      <td>1207.0</td>\n",
       "    </tr>\n",
       "  </tbody>\n",
       "</table>\n",
       "</div>"
      ],
      "text/plain": [
       "  summary           NAS_DELAY\n",
       "0   count             1015158\n",
       "1    mean  12.637266317164421\n",
       "2  stddev   25.90985229314727\n",
       "3     min                 0.0\n",
       "4     max              1207.0"
      ]
     },
     "execution_count": 15,
     "metadata": {},
     "output_type": "execute_result"
    }
   ],
   "source": [
    "df.select('NAS_DELAY').describe().toPandas()"
   ]
  },
  {
   "cell_type": "code",
   "execution_count": 16,
   "metadata": {},
   "outputs": [
    {
     "data": {
      "text/html": [
       "<div>\n",
       "<style scoped>\n",
       "    .dataframe tbody tr th:only-of-type {\n",
       "        vertical-align: middle;\n",
       "    }\n",
       "\n",
       "    .dataframe tbody tr th {\n",
       "        vertical-align: top;\n",
       "    }\n",
       "\n",
       "    .dataframe thead th {\n",
       "        text-align: right;\n",
       "    }\n",
       "</style>\n",
       "<table border=\"1\" class=\"dataframe\">\n",
       "  <thead>\n",
       "    <tr style=\"text-align: right;\">\n",
       "      <th></th>\n",
       "      <th>summary</th>\n",
       "      <th>SECURITY_DELAY</th>\n",
       "    </tr>\n",
       "  </thead>\n",
       "  <tbody>\n",
       "    <tr>\n",
       "      <th>0</th>\n",
       "      <td>count</td>\n",
       "      <td>1015158</td>\n",
       "    </tr>\n",
       "    <tr>\n",
       "      <th>1</th>\n",
       "      <td>mean</td>\n",
       "      <td>0.07196121194927292</td>\n",
       "    </tr>\n",
       "    <tr>\n",
       "      <th>2</th>\n",
       "      <td>stddev</td>\n",
       "      <td>2.110994781167227</td>\n",
       "    </tr>\n",
       "    <tr>\n",
       "      <th>3</th>\n",
       "      <td>min</td>\n",
       "      <td>0.0</td>\n",
       "    </tr>\n",
       "    <tr>\n",
       "      <th>4</th>\n",
       "      <td>max</td>\n",
       "      <td>717.0</td>\n",
       "    </tr>\n",
       "  </tbody>\n",
       "</table>\n",
       "</div>"
      ],
      "text/plain": [
       "  summary       SECURITY_DELAY\n",
       "0   count              1015158\n",
       "1    mean  0.07196121194927292\n",
       "2  stddev    2.110994781167227\n",
       "3     min                  0.0\n",
       "4     max                717.0"
      ]
     },
     "execution_count": 16,
     "metadata": {},
     "output_type": "execute_result"
    }
   ],
   "source": [
    "df.select('SECURITY_DELAY').describe().toPandas()"
   ]
  },
  {
   "cell_type": "code",
   "execution_count": 17,
   "metadata": {},
   "outputs": [
    {
     "data": {
      "text/html": [
       "<div>\n",
       "<style scoped>\n",
       "    .dataframe tbody tr th:only-of-type {\n",
       "        vertical-align: middle;\n",
       "    }\n",
       "\n",
       "    .dataframe tbody tr th {\n",
       "        vertical-align: top;\n",
       "    }\n",
       "\n",
       "    .dataframe thead th {\n",
       "        text-align: right;\n",
       "    }\n",
       "</style>\n",
       "<table border=\"1\" class=\"dataframe\">\n",
       "  <thead>\n",
       "    <tr style=\"text-align: right;\">\n",
       "      <th></th>\n",
       "      <th>summary</th>\n",
       "      <th>LATE_AIRCRAFT_DELAY</th>\n",
       "    </tr>\n",
       "  </thead>\n",
       "  <tbody>\n",
       "    <tr>\n",
       "      <th>0</th>\n",
       "      <td>count</td>\n",
       "      <td>1015158</td>\n",
       "    </tr>\n",
       "    <tr>\n",
       "      <th>1</th>\n",
       "      <td>mean</td>\n",
       "      <td>23.217619326252663</td>\n",
       "    </tr>\n",
       "    <tr>\n",
       "      <th>2</th>\n",
       "      <td>stddev</td>\n",
       "      <td>41.40641306888853</td>\n",
       "    </tr>\n",
       "    <tr>\n",
       "      <th>3</th>\n",
       "      <td>min</td>\n",
       "      <td>0.0</td>\n",
       "    </tr>\n",
       "    <tr>\n",
       "      <th>4</th>\n",
       "      <td>max</td>\n",
       "      <td>1201.0</td>\n",
       "    </tr>\n",
       "  </tbody>\n",
       "</table>\n",
       "</div>"
      ],
      "text/plain": [
       "  summary LATE_AIRCRAFT_DELAY\n",
       "0   count             1015158\n",
       "1    mean  23.217619326252663\n",
       "2  stddev   41.40641306888853\n",
       "3     min                 0.0\n",
       "4     max              1201.0"
      ]
     },
     "execution_count": 17,
     "metadata": {},
     "output_type": "execute_result"
    }
   ],
   "source": [
    "df.select('LATE_AIRCRAFT_DELAY').describe().toPandas()"
   ]
  },
  {
   "cell_type": "code",
   "execution_count": 18,
   "metadata": {},
   "outputs": [
    {
     "data": {
      "text/html": [
       "<div>\n",
       "<style scoped>\n",
       "    .dataframe tbody tr th:only-of-type {\n",
       "        vertical-align: middle;\n",
       "    }\n",
       "\n",
       "    .dataframe tbody tr th {\n",
       "        vertical-align: top;\n",
       "    }\n",
       "\n",
       "    .dataframe thead th {\n",
       "        text-align: right;\n",
       "    }\n",
       "</style>\n",
       "<table border=\"1\" class=\"dataframe\">\n",
       "  <thead>\n",
       "    <tr style=\"text-align: right;\">\n",
       "      <th></th>\n",
       "      <th>summary</th>\n",
       "      <th>CANCELLATION_CODE</th>\n",
       "    </tr>\n",
       "  </thead>\n",
       "  <tbody>\n",
       "    <tr>\n",
       "      <th>0</th>\n",
       "      <td>count</td>\n",
       "      <td>78862</td>\n",
       "    </tr>\n",
       "    <tr>\n",
       "      <th>1</th>\n",
       "      <td>mean</td>\n",
       "      <td>None</td>\n",
       "    </tr>\n",
       "    <tr>\n",
       "      <th>2</th>\n",
       "      <td>stddev</td>\n",
       "      <td>None</td>\n",
       "    </tr>\n",
       "    <tr>\n",
       "      <th>3</th>\n",
       "      <td>min</td>\n",
       "      <td>A</td>\n",
       "    </tr>\n",
       "    <tr>\n",
       "      <th>4</th>\n",
       "      <td>max</td>\n",
       "      <td>D</td>\n",
       "    </tr>\n",
       "  </tbody>\n",
       "</table>\n",
       "</div>"
      ],
      "text/plain": [
       "  summary CANCELLATION_CODE\n",
       "0   count             78862\n",
       "1    mean              None\n",
       "2  stddev              None\n",
       "3     min                 A\n",
       "4     max                 D"
      ]
     },
     "execution_count": 18,
     "metadata": {},
     "output_type": "execute_result"
    }
   ],
   "source": [
    "df.select('CANCELLATION_CODE').describe().toPandas()"
   ]
  },
  {
   "cell_type": "markdown",
   "metadata": {},
   "source": [
    "Os missing values das colunas CARRIER_DELAY, WEATHER_DELAY, NAS_DELAY, SECURITY_DELAY, VLATE_AIRCRAFT_DELAY possivelmente são zero minutos de atraso. Logo, vamos preencher os missing values dessas colunas com ZERO. No entanto, verifica-se que há valores muito altos de atraso. Como algumas normas internacionais estabelacem que um voo cima de 3 horas de atraso pode ser cancelado pela companhia aérea, vamos excluir essas informações do dataset.\n",
    "\n",
    "No mais, verificamos que a coluna CANCELLATION_CODE possui um número extremamente elevado de missing values. Logo, vamos excluí-la."
   ]
  },
  {
   "cell_type": "markdown",
   "metadata": {},
   "source": [
    "## 3.4 Criação de novas colunas\n",
    "\n",
    "Serão criadas novas colunas que a serão utilizadas na etapa de modelagem, a saber:\n",
    "\n",
    " - MONTH: coluna com o mês do voo;\n",
    " - GENERAL_DELAY: informação se o voo tem um atraso acima de 180 minutos em qualquer um dos quesitos (CARRIER_DELAY, WEATHER_DELAY, NAS_DELAY, SECURITY_DELAY, VLATE_AIRCRAFT_DELAY);\n",
    " - DEP_PERIOD: é uma variável com o período que o voo saiu (manha, tarde, noite, madrugada);\n",
    " - ARR_PERIOD: é uma variável com o período que o voo chegou (manha, tarde, noite, madrugada);\n",
    " - DISTANCE_TYPE: é coluna com o tipo de distância entre os aeroportos dos voos (perto, médio e distante)."
   ]
  },
  {
   "cell_type": "code",
   "execution_count": 19,
   "metadata": {},
   "outputs": [],
   "source": [
    "# Criar uma variável com o mês do voo\n",
    "df = df.withColumn('FL_MONTH', f.month(df.FL_DATE))"
   ]
  },
  {
   "cell_type": "code",
   "execution_count": 20,
   "metadata": {},
   "outputs": [],
   "source": [
    "# Criando filtro dos Outliers com atraso > 180 minutos (Critério Europeu)\n",
    "df = df.withColumn(\"GENERAL_DELAY\", \n",
    "                   when((df['CARRIER_DELAY'] > 180) | (df['WEATHER_DELAY'] > 180) | (df['NAS_DELAY'] > 180) | (df['SECURITY_DELAY'] > 180) |\n",
    "                        (df['LATE_AIRCRAFT_DELAY'] > 180) ,1)\n",
    "                   .otherwise(0))"
   ]
  },
  {
   "cell_type": "code",
   "execution_count": 21,
   "metadata": {},
   "outputs": [],
   "source": [
    "# Criar uma variável o período que o voo saiu (manha, tarde, noite, madrugada)\n",
    "df = df.withColumn(\"DEP_PERIOD\", \n",
    "                   when((df['DEP_TIME'] >= 0) & (df['DEP_TIME'] < 600), \"Madrugada\")\n",
    "                   .when((df['DEP_TIME'] >= 600) & (df['DEP_TIME'] < 1200), \"Manha\")\n",
    "                   .when((df['DEP_TIME'] >= 1200) & (df['DEP_TIME'] < 1800), \"Tarde\")\n",
    "                   .when((df['DEP_TIME'] >= 1800) & (df['DEP_TIME'] <= 2400), \"Noite\")\n",
    "                   .otherwise(\"Nao Identificado\"))"
   ]
  },
  {
   "cell_type": "code",
   "execution_count": 22,
   "metadata": {},
   "outputs": [],
   "source": [
    "# Criar uma variável o período que o voo chegou (manha, tarde, noite, madrugada)\n",
    "df = df.withColumn(\"ARR_PERIOD\", \n",
    "                   when((df['ARR_TIME'] >= 0) & (df['ARR_TIME'] < 600), \"Madrugada\")\n",
    "                   .when((df['ARR_TIME'] >= 600) & (df['ARR_TIME'] < 1200), \"Manha\")\n",
    "                   .when((df['ARR_TIME'] >= 1200) & (df['ARR_TIME'] < 1800), \"Tarde\")\n",
    "                   .when((df['ARR_TIME'] >= 1800) & (df['ARR_TIME'] <= 2400), \"Noite\")\n",
    "                   .otherwise(\"Nao Identificado\"))"
   ]
  },
  {
   "cell_type": "code",
   "execution_count": 23,
   "metadata": {},
   "outputs": [
    {
     "data": {
      "image/png": "[encoded data removed]",
      "text/plain": [
       "<Figure size 640x480 with 1 Axes>"
      ]
     },
     "metadata": {},
     "output_type": "display_data"
    }
   ],
   "source": [
    "# Cria um dataframe com os dados da coluna DISTANCE\n",
    "df_distance = df.select(df['DISTANCE']).toPandas()\n",
    "\n",
    "# Plota histograma das distâncias com 10 bins para verificar a distribuição dos voos\n",
    "df_distance.plot.hist(bins=10, edgecolor='black')\n",
    "plt.title('Histograma')\n",
    "plt.xlabel('Distância')\n",
    "plt.ylabel('Frequência')\n",
    "plt.show()"
   ]
  },
  {
   "cell_type": "markdown",
   "metadata": {},
   "source": [
    "A partir do histograma acima, vamos definir o seguinte critério para classificar as distâncias:\n",
    "\n",
    "- próximo: abaixo de 500 milhas\n",
    "- médio: entre 500 e 1000 milhas\n",
    "- distante: acima de 1000 milhas"
   ]
  },
  {
   "cell_type": "code",
   "execution_count": 24,
   "metadata": {},
   "outputs": [],
   "source": [
    "#Criar coluna \"Tipo de Distância\" com o critério acima\n",
    "df = df.withColumn(\"DISTANCE_TYPE\", \n",
    "                   when(df['DISTANCE'] > 1000, \"distant\")\n",
    "                   .when(df['DISTANCE'] > 500, \"medium\")\n",
    "                   .otherwise(\"near\"))"
   ]
  },
  {
   "cell_type": "markdown",
   "metadata": {},
   "source": [
    "## 3.5 Tratamento final dos dados: exclusão de linhas e dolunas do dataset e preenchendo os missing values\n",
    "\n",
    "Primeiramente, vamos filtrar os voos cancelados, uma vez que não há atraso em relação a eles."
   ]
  },
  {
   "cell_type": "code",
   "execution_count": 25,
   "metadata": {},
   "outputs": [],
   "source": [
    "df = df.filter(df['GENERAL_DELAY'] == 0)"
   ]
  },
  {
   "cell_type": "markdown",
   "metadata": {},
   "source": [
    "A próxima etapa é excluir as linhas com missing values das colunas 'AIR_TIME', 'ACTUAL_ELAPSED_TIME', pois representam menos de 1%."
   ]
  },
  {
   "cell_type": "code",
   "execution_count": 26,
   "metadata": {},
   "outputs": [],
   "source": [
    "#tratar os missing values (inicialmente coloquei para excluir todas as linhas que tem missing values, pois representam menos de 1% )\n",
    "df = df.na.drop(subset=['AIR_TIME', 'ACTUAL_ELAPSED_TIME'])"
   ]
  },
  {
   "cell_type": "markdown",
   "metadata": {},
   "source": [
    "Agora, vamos remover as colunas que não serão utilizadas:\n",
    "\n",
    " - FL_DATE: coluna de data. Será excluída, pois vamos usar a coluna MONTH para verificar alguma sazonalidade\n",
    " - OP_CARRIER_FL_NUM: ID do voo;\n",
    " - CRS_DEP_TIME, DEP_TIME, DEP_DELAY, WHEELS_OFF, ARR_TIME, ARR_DELAY, WHEELS_ON e CRS_ARR_TIME: informação do horário planejado do voo. Esta informação já está em DELAY;\n",
    " - CANCELLED: foram filtrados os valores, restando apenas ZERO nessa coluna;\n",
    " - CANCELLATION_CODE: não possui valores;\n",
    " - GENERAL_DELAY: há apenas 1 valor (0)."
   ]
  },
  {
   "cell_type": "code",
   "execution_count": 27,
   "metadata": {},
   "outputs": [],
   "source": [
    "#Removendo colunas que não serão utilizadas\n",
    "df = df.drop('FL_DATE', 'CRS_DEP_TIME', 'DEP_TIME', 'WHEELS_OFF', 'WHEELS_ON',\n",
    "                   'CRS_ARR_TIME', 'ARR_TIME', 'OP_CARRIER_FL_NUM', 'ARR_DELAY', \n",
    "                  'DEP_DELAY', 'CANCELLED', 'CANCELLATION_CODE', 'GENERAL_DELAY')"
   ]
  },
  {
   "cell_type": "markdown",
   "metadata": {},
   "source": [
    "Por fim, vamos preencher os missing values das colunas abaixo com ZERO:\n",
    "\n",
    "- CARRIER_DELAY\n",
    "- WEATHER_DELAY\n",
    "- NAS_DELAY\n",
    "- SECURITY_DELAY\n",
    "- LATE_AIRCRAFT_DELAY"
   ]
  },
  {
   "cell_type": "code",
   "execution_count": 28,
   "metadata": {},
   "outputs": [],
   "source": [
    "df = df.na.fill(0, subset=[\"CARRIER_DELAY\", \"WEATHER_DELAY\", \"NAS_DELAY\", \"SECURITY_DELAY\", \"LATE_AIRCRAFT_DELAY\"])"
   ]
  },
  {
   "cell_type": "markdown",
   "metadata": {},
   "source": [
    "Abaixo, vamos confirmar se todos os missign values foram tratados."
   ]
  },
  {
   "cell_type": "code",
   "execution_count": 29,
   "metadata": {},
   "outputs": [
    {
     "data": {
      "text/plain": [
       "{'OP_CARRIER': 0,\n",
       " 'ORIGIN': 0,\n",
       " 'DEST': 0,\n",
       " 'TAXI_OUT': 0,\n",
       " 'TAXI_IN': 0,\n",
       " 'DIVERTED': 0,\n",
       " 'CRS_ELAPSED_TIME': 0,\n",
       " 'ACTUAL_ELAPSED_TIME': 0,\n",
       " 'AIR_TIME': 0,\n",
       " 'DISTANCE': 0,\n",
       " 'CARRIER_DELAY': 0,\n",
       " 'WEATHER_DELAY': 0,\n",
       " 'NAS_DELAY': 0,\n",
       " 'SECURITY_DELAY': 0,\n",
       " 'LATE_AIRCRAFT_DELAY': 0,\n",
       " 'DELAY': 0,\n",
       " 'FL_MONTH': 0,\n",
       " 'DEP_PERIOD': 0,\n",
       " 'ARR_PERIOD': 0,\n",
       " 'DISTANCE_TYPE': 0}"
      ]
     },
     "execution_count": 29,
     "metadata": {},
     "output_type": "execute_result"
    }
   ],
   "source": [
    "#Verificando se as linhas com missing values foram excluiídas\n",
    "{col:df.filter(df[col].isNull()).count() for col in df.columns}"
   ]
  },
  {
   "cell_type": "markdown",
   "metadata": {},
   "source": [
    "Por último, vamos confirmar se não há valores negativos atípicos."
   ]
  },
  {
   "cell_type": "code",
   "execution_count": 30,
   "metadata": {},
   "outputs": [
    {
     "data": {
      "text/plain": [
       "{'OP_CARRIER': 0,\n",
       " 'ORIGIN': 0,\n",
       " 'DEST': 0,\n",
       " 'TAXI_OUT': 0,\n",
       " 'TAXI_IN': 0,\n",
       " 'DIVERTED': 0,\n",
       " 'CRS_ELAPSED_TIME': 0,\n",
       " 'ACTUAL_ELAPSED_TIME': 0,\n",
       " 'AIR_TIME': 0,\n",
       " 'DISTANCE': 0,\n",
       " 'CARRIER_DELAY': 0,\n",
       " 'WEATHER_DELAY': 0,\n",
       " 'NAS_DELAY': 0,\n",
       " 'SECURITY_DELAY': 0,\n",
       " 'LATE_AIRCRAFT_DELAY': 0,\n",
       " 'DELAY': 0,\n",
       " 'FL_MONTH': 0,\n",
       " 'DEP_PERIOD': 0,\n",
       " 'ARR_PERIOD': 0,\n",
       " 'DISTANCE_TYPE': 0}"
      ]
     },
     "execution_count": 30,
     "metadata": {},
     "output_type": "execute_result"
    }
   ],
   "source": [
    "# Verificar se há valores negativos\n",
    "def conta_negativo(coluna):\n",
    "    try: \n",
    "        return df.filter((df[coluna]<0)).count()\n",
    "    except:\n",
    "        return \"Variável não numérica\"\n",
    "\n",
    "{col:conta_negativo(col) for col in df.columns}"
   ]
  },
  {
   "cell_type": "markdown",
   "metadata": {},
   "source": [
    "# 4. Analise Gráfica do Dataset"
   ]
  },
  {
   "cell_type": "markdown",
   "metadata": {},
   "source": [
    "Primeiramente, vamos ver os voos atrasados ao longo do meses de 2012:"
   ]
  },
  {
   "cell_type": "code",
   "execution_count": 31,
   "metadata": {},
   "outputs": [],
   "source": [
    "df_month = df.filter((df['DELAY']==1)).groupBy(\"FL_MONTH\").count().toPandas()\n",
    "df_month = df_month.sort_values('FL_MONTH')"
   ]
  },
  {
   "cell_type": "markdown",
   "metadata": {},
   "source": [
    "# Gráfico de atrasos vs. total de voos ao longo dos meses"
   ]
  },
  {
   "cell_type": "code",
   "execution_count": 32,
   "metadata": {},
   "outputs": [
    {
     "data": {
      "text/plain": [
       "<AxesSubplot: xlabel='FL_MONTH'>"
      ]
     },
     "execution_count": 32,
     "metadata": {},
     "output_type": "execute_result"
    },
    {
     "data": {
      "image/png": "[encoded data removed]",
      "text/plain": [
       "<Figure size 1500x500 with 1 Axes>"
      ]
     },
     "metadata": {},
     "output_type": "display_data"
    }
   ],
   "source": [
    "df_month.set_index(\"FL_MONTH\").plot(figsize=(15,5))"
   ]
  },
  {
   "cell_type": "markdown",
   "metadata": {},
   "source": [
    "Há um pico de atrasos de voos no verão."
   ]
  },
  {
   "cell_type": "markdown",
   "metadata": {},
   "source": [
    "# ORIGIN aeroportos com maior numero de atrasos (em %)"
   ]
  },
  {
   "cell_type": "code",
   "execution_count": 33,
   "metadata": {},
   "outputs": [],
   "source": [
    "\n",
    "#Total de voos por ORIGIN\n",
    "flights_by_origin = df.groupBy(\"ORIGIN\").count()\n",
    "#Total de voos atrasados por ORIGIN\n",
    "delayed_flights_by_origin = df.filter((df['DELAY']==1)).groupBy(\"ORIGIN\").count()\n",
    "# Alias the count columns to avoid naming conflicts\n",
    "flights_by_origin = flights_by_origin.withColumnRenamed(\"count\", \"total_count\")\n",
    "delayed_flights_by_origin = delayed_flights_by_origin.withColumnRenamed(\"count\", \"delayed_count\")\n",
    "#Realizando um filtro para contar apenas os aeroporto que possuem mais que 1000 voos em atraso\n",
    "delayed_flights_by_origin = delayed_flights_by_origin.filter(delayed_flights_by_origin[\"delayed_count\"] > 1000)\n",
    "#Relação entre Voos atrasado e Voos no tempo por ORIGIN\n",
    "# Join the DataFrames to get the total and delayed flights in the same DataFrame\n",
    "flights_relation_by_origin = flights_by_origin.join(delayed_flights_by_origin, \n",
    "                                                          \"ORIGIN\", \"left_outer\")\n",
    "#Nome das colunas do DF flights_relation_by_origin ['ORIGIN','total_count','delayed_count','Percentage_Delayed']\n",
    "# Calculate the percentage of delayed flights\n",
    "flights_relation_by_origin = flights_relation_by_origin.withColumn(\"Percentage_Delayed\", \n",
    "                                                                   (flights_relation_by_origin[\"delayed_count\"] \n",
    "                                                                    / flights_relation_by_origin[\"total_count\"]) * 100)\n",
    "# Ordenas por porcentagem de voos atrasados baseado no aeroporto de Origem\n",
    "flights_relation_by_origin = flights_relation_by_origin.orderBy(\"total_count\", ascending=False)"
   ]
  },
  {
   "cell_type": "code",
   "execution_count": 34,
   "metadata": {},
   "outputs": [
    {
     "ename": "NameError",
     "evalue": "name 'percentage_graph' is not defined",
     "output_type": "error",
     "traceback": [
      "\u001b[0;31m---------------------------------------------------------------------------\u001b[0m",
      "\u001b[0;31mNameError\u001b[0m                                 Traceback (most recent call last)",
      "Cell \u001b[0;32mIn[34], line 2\u001b[0m\n\u001b[1;32m      1\u001b[0m \u001b[38;5;66;03m# Sort the DataFrame by total count in descending order and select the top 20\u001b[39;00m\n\u001b[0;32m----> 2\u001b[0m top_20_graph \u001b[38;5;241m=\u001b[39m \u001b[43mpercentage_graph\u001b[49m\u001b[38;5;241m.\u001b[39msort_values(by\u001b[38;5;241m=\u001b[39m\u001b[38;5;124m\"\u001b[39m\u001b[38;5;124mtotal_count\u001b[39m\u001b[38;5;124m\"\u001b[39m, ascending\u001b[38;5;241m=\u001b[39m\u001b[38;5;28;01mFalse\u001b[39;00m)\u001b[38;5;241m.\u001b[39mhead(\u001b[38;5;241m5\u001b[39m)\n\u001b[1;32m      4\u001b[0m \u001b[38;5;66;03m# Create the bar chart\u001b[39;00m\n\u001b[1;32m      5\u001b[0m fig, ax \u001b[38;5;241m=\u001b[39m plt\u001b[38;5;241m.\u001b[39msubplots()\n",
      "\u001b[0;31mNameError\u001b[0m: name 'percentage_graph' is not defined"
     ]
    }
   ],
   "source": [
    "# Sort the DataFrame by total count in descending order and select the top 20\n",
    "top_20_graph = percentage_graph.sort_values(by=\"total_count\", ascending=False).head(5)\n",
    "\n",
    "# Create the bar chart\n",
    "fig, ax = plt.subplots()\n",
    "bar_width = 0.35\n",
    "\n",
    "ax.bar(percentage_graph[\"ORIGIN\"] + \"-\", percentage_graph[\"Percentage_Delayed\"], bar_width, color='red', label='Delayed')\n",
    "ax.bar(percentage_graph[\"ORIGIN\"] + \"-\", 100 - percentage_graph[\"Percentage_Delayed\"], bar_width, bottom=percentage_graph[\"Percentage_Delayed\"], color='green', label='NOT DELAYED')\n",
    "\n",
    "ax.set_xlabel('Origin')\n",
    "ax.set_ylabel('Percentage of Flights')\n",
    "ax.set_title('Porcentagem de Voos com Atraso por Origem (Top 10)')\n",
    "ax.legend()\n",
    "\n",
    "plt.show()"
   ]
  },
  {
   "cell_type": "code",
   "execution_count": 35,
   "metadata": {},
   "outputs": [
    {
     "name": "stdout",
     "output_type": "stream",
     "text": [
      "+------+-----------+-------------+------------------+\n",
      "|ORIGIN|total_count|delayed_count|Percentage_Delayed|\n",
      "+------+-----------+-------------+------------------+\n",
      "|   ATL|     387820|       123605|31.871744623794545|\n",
      "|   ORD|     302383|       126450|41.817827060383685|\n",
      "|   DFW|     265899|       118766| 44.66583176318828|\n",
      "|   DEN|     232420|       104336| 44.89114534033216|\n",
      "|   LAX|     219152|        91082| 41.56110827188436|\n",
      "|   PHX|     181394|        67380|37.145660826708706|\n",
      "|   IAH|     173927|        79453| 45.68180903482496|\n",
      "|   SFO|     165703|        77580|46.818705756685155|\n",
      "|   LAS|     140467|        57263|40.766158599528715|\n",
      "|   CLT|     134318|        43730| 32.55706606709451|\n",
      "|   MCO|     118514|        41156| 34.72669895539767|\n",
      "|   EWR|     114778|        50427| 43.93437766819425|\n",
      "|   SLC|     109295|        31274|28.614300745688276|\n",
      "|   MSP|     109242|        29820|27.297193387158785|\n",
      "|   BWI|     101065|        42997|42.543907386335526|\n",
      "|   BOS|     101001|        32442|32.120474054712325|\n",
      "|   SEA|      98910|        33708| 34.07946618137701|\n",
      "|   LGA|      95078|        29515|31.042933170659882|\n",
      "|   JFK|      94557|        30788| 32.56025466120964|\n",
      "|   DTW|      90579|        28725|31.712648627165237|\n",
      "+------+-----------+-------------+------------------+\n",
      "only showing top 20 rows\n",
      "\n"
     ]
    }
   ],
   "source": [
    "flights_relation_by_origin.show()"
   ]
  },
  {
   "cell_type": "markdown",
   "metadata": {},
   "source": [
    "# DEST aeroportos com maior numero de atrasos (em %)"
   ]
  },
  {
   "cell_type": "code",
   "execution_count": 36,
   "metadata": {},
   "outputs": [],
   "source": [
    "#Total de voos por DEST\n",
    "flights_by_dest = df.groupBy(\"DEST\").count()\n",
    "#Total de voos atrasados por ORIGIN\n",
    "delayed_flights_by_dest = df.filter((df['DELAY']==1)).groupBy(\"DEST\").count()\n",
    "# Alias the count columns to avoid naming conflicts\n",
    "flights_by_dest = flights_by_dest.withColumnRenamed(\"count\", \"total_count\")\n",
    "delayed_flights_by_dest = delayed_flights_by_dest.withColumnRenamed(\"count\", \"delayed_count\")\n",
    "#Realizando um filtro para contar apenas os aeroporto que possuem mais que 1000 voos em atraso\n",
    "delayed_flights_by_dest = delayed_flights_by_dest.filter(delayed_flights_by_dest[\"delayed_count\"] > 1000)\n",
    "#Relação entre Voos atrasado e Voos no tempo por ORIGIN\n",
    "# Join the DataFrames to get the total and delayed flights in the same DataFrame\n",
    "flights_relation_by_dest = flights_by_dest.join(delayed_flights_by_dest, \n",
    "                                                          \"DEST\", \"left_outer\")\n",
    "# Calculate the percentage of delayed flights\n",
    "flights_relation_by_dest = flights_relation_by_dest.withColumn(\"Percentage_Delayed\", \n",
    "                                                                   (flights_relation_by_dest[\"delayed_count\"] \n",
    "                                                                    / flights_relation_by_dest[\"total_count\"]) * 100)\n",
    "# Ordenas por porcentagem de voos atrasados baseado no aeroporto de Origem\n",
    "flights_relation_by_dest = flights_relation_by_dest.orderBy(\"total_count\", ascending=False)"
   ]
  },
  {
   "cell_type": "code",
   "execution_count": 37,
   "metadata": {},
   "outputs": [
    {
     "name": "stdout",
     "output_type": "stream",
     "text": [
      "+----+-----------+-------------+------------------+\n",
      "|DEST|total_count|delayed_count|Percentage_Delayed|\n",
      "+----+-----------+-------------+------------------+\n",
      "| ATL|     386119|       118164| 30.60300062933966|\n",
      "| ORD|     300692|       100603|33.457158820321126|\n",
      "| DFW|     264272|        83556|31.617424471756372|\n",
      "| DEN|     232081|        86064| 37.08360443121151|\n",
      "| LAX|     219193|        85767| 39.12853056438846|\n",
      "| PHX|     181082|        58855| 32.50184999061199|\n",
      "| IAH|     173260|        65872| 38.01916195313402|\n",
      "| SFO|     164813|        76348|46.324015702644814|\n",
      "| LAS|     140836|        52224| 37.08142804396603|\n",
      "| CLT|     134075|        38471| 28.69364161849711|\n",
      "| MCO|     118657|        43408| 36.58275533681115|\n",
      "| EWR|     115057|        53023| 46.08411483004076|\n",
      "| SLC|     109206|        30677| 28.09094738384338|\n",
      "| MSP|     109048|        29940|27.455799281050545|\n",
      "| BWI|     101105|        38937|38.511448494139756|\n",
      "| BOS|     101103|        35043|  34.6606925610516|\n",
      "| SEA|      98992|        33461|  33.8017213512203|\n",
      "| LGA|      94936|        33313|  35.0899553383332|\n",
      "| JFK|      94435|        32074|  33.9641022925822|\n",
      "| DTW|      90462|        27797|30.727819415887335|\n",
      "+----+-----------+-------------+------------------+\n",
      "only showing top 20 rows\n",
      "\n"
     ]
    }
   ],
   "source": [
    "flights_relation_by_dest.show()"
   ]
  },
  {
   "cell_type": "markdown",
   "metadata": {},
   "source": [
    "# Grafico dois eixos % por aeroporto vs total de voos por aeroporto"
   ]
  },
  {
   "cell_type": "code",
   "execution_count": 38,
   "metadata": {},
   "outputs": [],
   "source": [
    "# Calcule a porcentagem de voos com atraso para cada aeroporto\n",
    "total_voos = df.groupBy(\"ORIGIN\", \"DEST\").count()\n",
    "voos_com_atraso = df.filter(df[\"DELAY\"]==1).groupBy(\"ORIGIN\").count()\n",
    "# Order the DataFrame by count in descending order\n",
    "total_voos = total_voos.orderBy(\"count\", ascending=False)\n",
    "# Sum the counts of the top 20 origin-destination pairs\n",
    "sum_top_20_counts = total_voos.limit(20).agg({\"count\": \"sum\"})"
   ]
  },
  {
   "cell_type": "code",
   "execution_count": 39,
   "metadata": {},
   "outputs": [
    {
     "name": "stdout",
     "output_type": "stream",
     "text": [
      "+------+----+-----+\n",
      "|ORIGIN|DEST|count|\n",
      "+------+----+-----+\n",
      "|   SFO| LAX|17044|\n",
      "|   LAX| SFO|16701|\n",
      "|   OGG| HNL|12723|\n",
      "|   HNL| OGG|12675|\n",
      "|   JFK| LAX|11609|\n",
      "|   LAX| JFK|11562|\n",
      "|   LAX| LAS|10928|\n",
      "|   LAS| LAX|10627|\n",
      "|   ATL| LGA|10523|\n",
      "|   LGA| ATL|10518|\n",
      "|   LAX| SAN| 9938|\n",
      "|   SAN| LAX| 9905|\n",
      "|   PHX| LAX| 9753|\n",
      "|   LAX| PHX| 9747|\n",
      "|   ATL| MCO| 9031|\n",
      "|   MCO| ATL| 8977|\n",
      "|   LGA| ORD| 8916|\n",
      "|   ORD| LGA| 8774|\n",
      "|   HNL| LIH| 8694|\n",
      "|   LIH| HNL| 8611|\n",
      "+------+----+-----+\n",
      "only showing top 20 rows\n",
      "\n"
     ]
    }
   ],
   "source": [
    "total_voos.show()"
   ]
  },
  {
   "cell_type": "code",
   "execution_count": 40,
   "metadata": {},
   "outputs": [
    {
     "name": "stdout",
     "output_type": "stream",
     "text": [
      "2137815\n"
     ]
    }
   ],
   "source": [
    "df_test = df.filter((df['DELAY']==1)).count()\n",
    "print(df_test)"
   ]
  },
  {
   "cell_type": "code",
   "execution_count": 41,
   "metadata": {},
   "outputs": [
    {
     "name": "stdout",
     "output_type": "stream",
     "text": [
      "2137815\n"
     ]
    }
   ],
   "source": [
    "df_test = df.filter((df['DELAY']==1)).count()\n",
    "print(df_test)"
   ]
  },
  {
   "cell_type": "code",
   "execution_count": 42,
   "metadata": {},
   "outputs": [
    {
     "name": "stdout",
     "output_type": "stream",
     "text": [
      "+----------+\n",
      "|sum(count)|\n",
      "+----------+\n",
      "|    217256|\n",
      "+----------+\n",
      "\n"
     ]
    }
   ],
   "source": [
    "sum_top_20_counts.show()"
   ]
  },
  {
   "cell_type": "markdown",
   "metadata": {},
   "source": [
    "## Matriz de Correlação"
   ]
  },
  {
   "cell_type": "code",
   "execution_count": 43,
   "metadata": {},
   "outputs": [
    {
     "name": "stdout",
     "output_type": "stream",
     "text": [
      "root\n",
      " |-- TAXI_OUT: double (nullable = true)\n",
      " |-- TAXI_IN: double (nullable = true)\n",
      " |-- DIVERTED: double (nullable = true)\n",
      " |-- CRS_ELAPSED_TIME: double (nullable = true)\n",
      " |-- ACTUAL_ELAPSED_TIME: double (nullable = true)\n",
      " |-- AIR_TIME: double (nullable = true)\n",
      " |-- DISTANCE: double (nullable = true)\n",
      " |-- CARRIER_DELAY: double (nullable = false)\n",
      " |-- WEATHER_DELAY: double (nullable = false)\n",
      " |-- NAS_DELAY: double (nullable = false)\n",
      " |-- SECURITY_DELAY: double (nullable = false)\n",
      " |-- LATE_AIRCRAFT_DELAY: double (nullable = false)\n",
      " |-- DELAY: integer (nullable = false)\n",
      " |-- FL_MONTH: integer (nullable = true)\n",
      "\n"
     ]
    }
   ],
   "source": [
    "# verificar quais são as colunas numéricas\n",
    "colunas_numericas = [coluna for coluna, tipo in df.dtypes if tipo in ['int', 'double']]\n",
    "# Selecionar apenas colunas numéricas\n",
    "df_numericas = df.select(*colunas_numericas)\n",
    "df_numericas.printSchema()"
   ]
  },
  {
   "cell_type": "code",
   "execution_count": 44,
   "metadata": {},
   "outputs": [
    {
     "data": {
      "text/plain": [
       "<AxesSubplot: >"
      ]
     },
     "execution_count": 44,
     "metadata": {},
     "output_type": "execute_result"
    },
    {
     "data": {
      "image/png": "[encoded data removed]",
      "text/plain": [
       "<Figure size 1600x500 with 2 Axes>"
      ]
     },
     "metadata": {},
     "output_type": "display_data"
    }
   ],
   "source": [
    "# converter para um coluna vetor \n",
    "vector_col = \"corr_features\"\n",
    "assembler = VectorAssembler(inputCols=df_numericas.columns, outputCol=vector_col)\n",
    "df_vector = assembler.transform(df_numericas).select(vector_col)\n",
    "\n",
    "# Obter a matriz de correlação\n",
    "matrix = Correlation.corr(df_vector, vector_col).collect()[0][0].toArray()\n",
    "corr_matrix = matrix.tolist() \n",
    "\n",
    "# Colocar as correlações das variáveis num dataframe em pandas\n",
    "corr_matrix_df = pd.DataFrame(data=corr_matrix, columns = df_numericas.columns, index=df_numericas.columns)\n",
    "\n",
    "# Plotar a matriz\n",
    "plt.figure(figsize=(16,5))  \n",
    "sns.heatmap(corr_matrix_df, \n",
    "            xticklabels=corr_matrix_df.columns.values,\n",
    "            yticklabels=corr_matrix_df.columns.values,  cmap=\"coolwarm\", annot=True)"
   ]
  },
  {
   "cell_type": "markdown",
   "metadata": {},
   "source": [
    "# 5. Modelagem"
   ]
  },
  {
   "cell_type": "markdown",
   "metadata": {},
   "source": [
    "## 5.1 Separação entre Treino e Teste"
   ]
  },
  {
   "cell_type": "code",
   "execution_count": 45,
   "metadata": {},
   "outputs": [],
   "source": [
    "# criar df de treino e teste\n",
    "train_df, test_df = df.randomSplit( [0.8, 0.2], seed=42)"
   ]
  },
  {
   "cell_type": "code",
   "execution_count": 46,
   "metadata": {},
   "outputs": [],
   "source": [
    "# criar df para tunar os hiperparametros\n",
    "toy_df = test_df.sample(False, 0.01, seed=42)"
   ]
  },
  {
   "cell_type": "code",
   "execution_count": 47,
   "metadata": {},
   "outputs": [
    {
     "name": "stdout",
     "output_type": "stream",
     "text": [
      "Train set count:  4779318\n",
      "Train set count:  1195976\n",
      "Train set count:  12055\n"
     ]
    }
   ],
   "source": [
    "print(\"Train set count: \", train_df.count())\n",
    "print(\"Train set count: \", test_df.count())\n",
    "print(\"Train set count: \", toy_df.count())"
   ]
  },
  {
   "cell_type": "markdown",
   "metadata": {},
   "source": [
    "## 5.2 Tratamento das Variáveis Categóricas: One Hot Encoding"
   ]
  },
  {
   "cell_type": "code",
   "execution_count": 48,
   "metadata": {},
   "outputs": [],
   "source": [
    "#Preparar para converter as colunas categóricas pelo one hot encoding (coloque o FL_MONTH como categórica)\n",
    "cat_features = ['OP_CARRIER', 'ORIGIN', 'DEST', 'DEP_PERIOD', 'ARR_PERIOD', 'DISTANCE_TYPE', 'FL_MONTH']\n",
    "\n",
    "indexOutputCols = [x + 'Index' for x in cat_features]\n",
    "oheOutputCols = [x + 'OHE' for x in cat_features]\n",
    "stringIndexer = StringIndexer(inputCols=cat_features,\n",
    "                             outputCols=indexOutputCols,\n",
    "                             handleInvalid=\"skip\")\n",
    "\n",
    "oheEncoder = OneHotEncoder(inputCols=indexOutputCols,\n",
    "                          outputCols=oheOutputCols)"
   ]
  },
  {
   "cell_type": "markdown",
   "metadata": {},
   "source": [
    "## 5.3 Tratamento das Variáveis Numéricas: Normalização"
   ]
  },
  {
   "cell_type": "code",
   "execution_count": 49,
   "metadata": {},
   "outputs": [],
   "source": [
    "#Preparar para converter as colunas númericas\n",
    "num_features = ['TAXI_OUT', 'TAXI_IN', 'DIVERTED', 'CRS_ELAPSED_TIME', 'ACTUAL_ELAPSED_TIME',\n",
    "                'AIR_TIME', 'DISTANCE', 'CARRIER_DELAY', 'WEATHER_DELAY',\n",
    "                'NAS_DELAY', 'SECURITY_DELAY', 'LATE_AIRCRAFT_DELAY']\n",
    "\n",
    "numVecAssembler = VectorAssembler(inputCols = num_features, outputCol = 'features')\n",
    "\n",
    "stadScaler = StandardScaler(inputCol = 'features', outputCol = 'features_scaled')"
   ]
  },
  {
   "cell_type": "markdown",
   "metadata": {},
   "source": [
    "## 5.4 Juntando os Vetores de One Hot Encoding e Normalização"
   ]
  },
  {
   "cell_type": "code",
   "execution_count": 50,
   "metadata": {},
   "outputs": [],
   "source": [
    "assemblerInputs = oheOutputCols + ['features_scaled']\n",
    "\n",
    "VecAssembler = VectorAssembler(inputCols = assemblerInputs, outputCol = 'features_vector')"
   ]
  },
  {
   "cell_type": "code",
   "execution_count": 51,
   "metadata": {},
   "outputs": [],
   "source": [
    "stages = [stringIndexer, oheEncoder, numVecAssembler, stadScaler, VecAssembler]"
   ]
  },
  {
   "cell_type": "markdown",
   "metadata": {},
   "source": [
    "## 5.5 Criação do Pipeline de Transformação do Dados"
   ]
  },
  {
   "cell_type": "code",
   "execution_count": 52,
   "metadata": {},
   "outputs": [
    {
     "data": {
      "text/html": [
       "<div>\n",
       "<style scoped>\n",
       "    .dataframe tbody tr th:only-of-type {\n",
       "        vertical-align: middle;\n",
       "    }\n",
       "\n",
       "    .dataframe tbody tr th {\n",
       "        vertical-align: top;\n",
       "    }\n",
       "\n",
       "    .dataframe thead th {\n",
       "        text-align: right;\n",
       "    }\n",
       "</style>\n",
       "<table border=\"1\" class=\"dataframe\">\n",
       "  <thead>\n",
       "    <tr style=\"text-align: right;\">\n",
       "      <th></th>\n",
       "      <th>OP_CARRIER</th>\n",
       "      <th>ORIGIN</th>\n",
       "      <th>DEST</th>\n",
       "      <th>TAXI_OUT</th>\n",
       "      <th>TAXI_IN</th>\n",
       "      <th>DIVERTED</th>\n",
       "      <th>CRS_ELAPSED_TIME</th>\n",
       "      <th>ACTUAL_ELAPSED_TIME</th>\n",
       "      <th>AIR_TIME</th>\n",
       "      <th>DISTANCE</th>\n",
       "      <th>...</th>\n",
       "      <th>OP_CARRIEROHE</th>\n",
       "      <th>ORIGINOHE</th>\n",
       "      <th>DESTOHE</th>\n",
       "      <th>DEP_PERIODOHE</th>\n",
       "      <th>ARR_PERIODOHE</th>\n",
       "      <th>DISTANCE_TYPEOHE</th>\n",
       "      <th>FL_MONTHOHE</th>\n",
       "      <th>features</th>\n",
       "      <th>features_scaled</th>\n",
       "      <th>features_vector</th>\n",
       "    </tr>\n",
       "  </thead>\n",
       "  <tbody>\n",
       "    <tr>\n",
       "      <th>0</th>\n",
       "      <td>AA</td>\n",
       "      <td>ABQ</td>\n",
       "      <td>DFW</td>\n",
       "      <td>5.0</td>\n",
       "      <td>3.0</td>\n",
       "      <td>0.0</td>\n",
       "      <td>100.0</td>\n",
       "      <td>81.0</td>\n",
       "      <td>73.0</td>\n",
       "      <td>569.0</td>\n",
       "      <td>...</td>\n",
       "      <td>(0.0, 0.0, 0.0, 0.0, 0.0, 1.0, 0.0, 0.0, 0.0, ...</td>\n",
       "      <td>(0.0, 0.0, 0.0, 0.0, 0.0, 0.0, 0.0, 0.0, 0.0, ...</td>\n",
       "      <td>(0.0, 0.0, 1.0, 0.0, 0.0, 0.0, 0.0, 0.0, 0.0, ...</td>\n",
       "      <td>(1.0, 0.0, 0.0)</td>\n",
       "      <td>(1.0, 0.0, 0.0)</td>\n",
       "      <td>(0.0, 1.0)</td>\n",
       "      <td>(0.0, 0.0, 0.0, 0.0, 0.0, 0.0, 0.0, 0.0, 0.0, ...</td>\n",
       "      <td>(5.0, 3.0, 0.0, 100.0, 81.0, 73.0, 569.0, 0.0,...</td>\n",
       "      <td>(0.5993661005164417, 0.6374333053965965, 0.0, ...</td>\n",
       "      <td>(0.0, 0.0, 0.0, 0.0, 0.0, 1.0, 0.0, 0.0, 0.0, ...</td>\n",
       "    </tr>\n",
       "    <tr>\n",
       "      <th>1</th>\n",
       "      <td>AA</td>\n",
       "      <td>ABQ</td>\n",
       "      <td>DFW</td>\n",
       "      <td>5.0</td>\n",
       "      <td>10.0</td>\n",
       "      <td>0.0</td>\n",
       "      <td>100.0</td>\n",
       "      <td>87.0</td>\n",
       "      <td>72.0</td>\n",
       "      <td>569.0</td>\n",
       "      <td>...</td>\n",
       "      <td>(0.0, 0.0, 0.0, 0.0, 0.0, 1.0, 0.0, 0.0, 0.0, ...</td>\n",
       "      <td>(0.0, 0.0, 0.0, 0.0, 0.0, 0.0, 0.0, 0.0, 0.0, ...</td>\n",
       "      <td>(0.0, 0.0, 1.0, 0.0, 0.0, 0.0, 0.0, 0.0, 0.0, ...</td>\n",
       "      <td>(1.0, 0.0, 0.0)</td>\n",
       "      <td>(1.0, 0.0, 0.0)</td>\n",
       "      <td>(0.0, 1.0)</td>\n",
       "      <td>(0.0, 0.0, 0.0, 0.0, 0.0, 0.0, 0.0, 0.0, 0.0, ...</td>\n",
       "      <td>(5.0, 10.0, 0.0, 100.0, 87.0, 72.0, 569.0, 0.0...</td>\n",
       "      <td>(0.5993661005164417, 2.1247776846553217, 0.0, ...</td>\n",
       "      <td>(0.0, 0.0, 0.0, 0.0, 0.0, 1.0, 0.0, 0.0, 0.0, ...</td>\n",
       "    </tr>\n",
       "    <tr>\n",
       "      <th>2</th>\n",
       "      <td>AA</td>\n",
       "      <td>ABQ</td>\n",
       "      <td>DFW</td>\n",
       "      <td>6.0</td>\n",
       "      <td>4.0</td>\n",
       "      <td>0.0</td>\n",
       "      <td>105.0</td>\n",
       "      <td>82.0</td>\n",
       "      <td>72.0</td>\n",
       "      <td>569.0</td>\n",
       "      <td>...</td>\n",
       "      <td>(0.0, 0.0, 0.0, 0.0, 0.0, 1.0, 0.0, 0.0, 0.0, ...</td>\n",
       "      <td>(0.0, 0.0, 0.0, 0.0, 0.0, 0.0, 0.0, 0.0, 0.0, ...</td>\n",
       "      <td>(0.0, 0.0, 1.0, 0.0, 0.0, 0.0, 0.0, 0.0, 0.0, ...</td>\n",
       "      <td>(0.0, 1.0, 0.0)</td>\n",
       "      <td>(0.0, 1.0, 0.0)</td>\n",
       "      <td>(0.0, 1.0)</td>\n",
       "      <td>(0.0, 0.0, 0.0, 0.0, 0.0, 0.0, 0.0, 0.0, 0.0, ...</td>\n",
       "      <td>(6.0, 4.0, 0.0, 105.0, 82.0, 72.0, 569.0, 0.0,...</td>\n",
       "      <td>(0.71923932061973, 0.8499110738621286, 0.0, 1....</td>\n",
       "      <td>(0.0, 0.0, 0.0, 0.0, 0.0, 1.0, 0.0, 0.0, 0.0, ...</td>\n",
       "    </tr>\n",
       "    <tr>\n",
       "      <th>3</th>\n",
       "      <td>AA</td>\n",
       "      <td>ABQ</td>\n",
       "      <td>DFW</td>\n",
       "      <td>6.0</td>\n",
       "      <td>5.0</td>\n",
       "      <td>0.0</td>\n",
       "      <td>100.0</td>\n",
       "      <td>85.0</td>\n",
       "      <td>74.0</td>\n",
       "      <td>569.0</td>\n",
       "      <td>...</td>\n",
       "      <td>(0.0, 0.0, 0.0, 0.0, 0.0, 1.0, 0.0, 0.0, 0.0, ...</td>\n",
       "      <td>(0.0, 0.0, 0.0, 0.0, 0.0, 0.0, 0.0, 0.0, 0.0, ...</td>\n",
       "      <td>(0.0, 0.0, 1.0, 0.0, 0.0, 0.0, 0.0, 0.0, 0.0, ...</td>\n",
       "      <td>(0.0, 1.0, 0.0)</td>\n",
       "      <td>(0.0, 1.0, 0.0)</td>\n",
       "      <td>(0.0, 1.0)</td>\n",
       "      <td>(0.0, 0.0, 0.0, 0.0, 0.0, 0.0, 0.0, 0.0, 0.0, ...</td>\n",
       "      <td>(6.0, 5.0, 0.0, 100.0, 85.0, 74.0, 569.0, 0.0,...</td>\n",
       "      <td>(0.71923932061973, 1.0623888423276608, 0.0, 1....</td>\n",
       "      <td>(0.0, 0.0, 0.0, 0.0, 0.0, 1.0, 0.0, 0.0, 0.0, ...</td>\n",
       "    </tr>\n",
       "    <tr>\n",
       "      <th>4</th>\n",
       "      <td>AA</td>\n",
       "      <td>ABQ</td>\n",
       "      <td>DFW</td>\n",
       "      <td>6.0</td>\n",
       "      <td>6.0</td>\n",
       "      <td>0.0</td>\n",
       "      <td>100.0</td>\n",
       "      <td>95.0</td>\n",
       "      <td>83.0</td>\n",
       "      <td>569.0</td>\n",
       "      <td>...</td>\n",
       "      <td>(0.0, 0.0, 0.0, 0.0, 0.0, 1.0, 0.0, 0.0, 0.0, ...</td>\n",
       "      <td>(0.0, 0.0, 0.0, 0.0, 0.0, 0.0, 0.0, 0.0, 0.0, ...</td>\n",
       "      <td>(0.0, 0.0, 1.0, 0.0, 0.0, 0.0, 0.0, 0.0, 0.0, ...</td>\n",
       "      <td>(1.0, 0.0, 0.0)</td>\n",
       "      <td>(1.0, 0.0, 0.0)</td>\n",
       "      <td>(0.0, 1.0)</td>\n",
       "      <td>(0.0, 0.0, 0.0, 0.0, 0.0, 0.0, 0.0, 0.0, 0.0, ...</td>\n",
       "      <td>[6.0, 6.0, 0.0, 100.0, 95.0, 83.0, 569.0, 0.0,...</td>\n",
       "      <td>[0.71923932061973, 1.274866610793193, 0.0, 1.3...</td>\n",
       "      <td>(0.0, 0.0, 0.0, 0.0, 0.0, 1.0, 0.0, 0.0, 0.0, ...</td>\n",
       "    </tr>\n",
       "  </tbody>\n",
       "</table>\n",
       "<p>5 rows × 37 columns</p>\n",
       "</div>"
      ],
      "text/plain": [
       "  OP_CARRIER ORIGIN DEST  TAXI_OUT  TAXI_IN  DIVERTED  CRS_ELAPSED_TIME  \\\n",
       "0         AA    ABQ  DFW       5.0      3.0       0.0             100.0   \n",
       "1         AA    ABQ  DFW       5.0     10.0       0.0             100.0   \n",
       "2         AA    ABQ  DFW       6.0      4.0       0.0             105.0   \n",
       "3         AA    ABQ  DFW       6.0      5.0       0.0             100.0   \n",
       "4         AA    ABQ  DFW       6.0      6.0       0.0             100.0   \n",
       "\n",
       "   ACTUAL_ELAPSED_TIME  AIR_TIME  DISTANCE  ...  \\\n",
       "0                 81.0      73.0     569.0  ...   \n",
       "1                 87.0      72.0     569.0  ...   \n",
       "2                 82.0      72.0     569.0  ...   \n",
       "3                 85.0      74.0     569.0  ...   \n",
       "4                 95.0      83.0     569.0  ...   \n",
       "\n",
       "                                       OP_CARRIEROHE  \\\n",
       "0  (0.0, 0.0, 0.0, 0.0, 0.0, 1.0, 0.0, 0.0, 0.0, ...   \n",
       "1  (0.0, 0.0, 0.0, 0.0, 0.0, 1.0, 0.0, 0.0, 0.0, ...   \n",
       "2  (0.0, 0.0, 0.0, 0.0, 0.0, 1.0, 0.0, 0.0, 0.0, ...   \n",
       "3  (0.0, 0.0, 0.0, 0.0, 0.0, 1.0, 0.0, 0.0, 0.0, ...   \n",
       "4  (0.0, 0.0, 0.0, 0.0, 0.0, 1.0, 0.0, 0.0, 0.0, ...   \n",
       "\n",
       "                                           ORIGINOHE  \\\n",
       "0  (0.0, 0.0, 0.0, 0.0, 0.0, 0.0, 0.0, 0.0, 0.0, ...   \n",
       "1  (0.0, 0.0, 0.0, 0.0, 0.0, 0.0, 0.0, 0.0, 0.0, ...   \n",
       "2  (0.0, 0.0, 0.0, 0.0, 0.0, 0.0, 0.0, 0.0, 0.0, ...   \n",
       "3  (0.0, 0.0, 0.0, 0.0, 0.0, 0.0, 0.0, 0.0, 0.0, ...   \n",
       "4  (0.0, 0.0, 0.0, 0.0, 0.0, 0.0, 0.0, 0.0, 0.0, ...   \n",
       "\n",
       "                                             DESTOHE    DEP_PERIODOHE  \\\n",
       "0  (0.0, 0.0, 1.0, 0.0, 0.0, 0.0, 0.0, 0.0, 0.0, ...  (1.0, 0.0, 0.0)   \n",
       "1  (0.0, 0.0, 1.0, 0.0, 0.0, 0.0, 0.0, 0.0, 0.0, ...  (1.0, 0.0, 0.0)   \n",
       "2  (0.0, 0.0, 1.0, 0.0, 0.0, 0.0, 0.0, 0.0, 0.0, ...  (0.0, 1.0, 0.0)   \n",
       "3  (0.0, 0.0, 1.0, 0.0, 0.0, 0.0, 0.0, 0.0, 0.0, ...  (0.0, 1.0, 0.0)   \n",
       "4  (0.0, 0.0, 1.0, 0.0, 0.0, 0.0, 0.0, 0.0, 0.0, ...  (1.0, 0.0, 0.0)   \n",
       "\n",
       "     ARR_PERIODOHE  DISTANCE_TYPEOHE  \\\n",
       "0  (1.0, 0.0, 0.0)        (0.0, 1.0)   \n",
       "1  (1.0, 0.0, 0.0)        (0.0, 1.0)   \n",
       "2  (0.0, 1.0, 0.0)        (0.0, 1.0)   \n",
       "3  (0.0, 1.0, 0.0)        (0.0, 1.0)   \n",
       "4  (1.0, 0.0, 0.0)        (0.0, 1.0)   \n",
       "\n",
       "                                         FL_MONTHOHE  \\\n",
       "0  (0.0, 0.0, 0.0, 0.0, 0.0, 0.0, 0.0, 0.0, 0.0, ...   \n",
       "1  (0.0, 0.0, 0.0, 0.0, 0.0, 0.0, 0.0, 0.0, 0.0, ...   \n",
       "2  (0.0, 0.0, 0.0, 0.0, 0.0, 0.0, 0.0, 0.0, 0.0, ...   \n",
       "3  (0.0, 0.0, 0.0, 0.0, 0.0, 0.0, 0.0, 0.0, 0.0, ...   \n",
       "4  (0.0, 0.0, 0.0, 0.0, 0.0, 0.0, 0.0, 0.0, 0.0, ...   \n",
       "\n",
       "                                            features  \\\n",
       "0  (5.0, 3.0, 0.0, 100.0, 81.0, 73.0, 569.0, 0.0,...   \n",
       "1  (5.0, 10.0, 0.0, 100.0, 87.0, 72.0, 569.0, 0.0...   \n",
       "2  (6.0, 4.0, 0.0, 105.0, 82.0, 72.0, 569.0, 0.0,...   \n",
       "3  (6.0, 5.0, 0.0, 100.0, 85.0, 74.0, 569.0, 0.0,...   \n",
       "4  [6.0, 6.0, 0.0, 100.0, 95.0, 83.0, 569.0, 0.0,...   \n",
       "\n",
       "                                     features_scaled  \\\n",
       "0  (0.5993661005164417, 0.6374333053965965, 0.0, ...   \n",
       "1  (0.5993661005164417, 2.1247776846553217, 0.0, ...   \n",
       "2  (0.71923932061973, 0.8499110738621286, 0.0, 1....   \n",
       "3  (0.71923932061973, 1.0623888423276608, 0.0, 1....   \n",
       "4  [0.71923932061973, 1.274866610793193, 0.0, 1.3...   \n",
       "\n",
       "                                     features_vector  \n",
       "0  (0.0, 0.0, 0.0, 0.0, 0.0, 1.0, 0.0, 0.0, 0.0, ...  \n",
       "1  (0.0, 0.0, 0.0, 0.0, 0.0, 1.0, 0.0, 0.0, 0.0, ...  \n",
       "2  (0.0, 0.0, 0.0, 0.0, 0.0, 1.0, 0.0, 0.0, 0.0, ...  \n",
       "3  (0.0, 0.0, 0.0, 0.0, 0.0, 1.0, 0.0, 0.0, 0.0, ...  \n",
       "4  (0.0, 0.0, 0.0, 0.0, 0.0, 1.0, 0.0, 0.0, 0.0, ...  \n",
       "\n",
       "[5 rows x 37 columns]"
      ]
     },
     "execution_count": 52,
     "metadata": {},
     "output_type": "execute_result"
    }
   ],
   "source": [
    "# Criacao do pipeline de transformacao\n",
    "transform_pipeline = Pipeline(stages=stages)\n",
    "\n",
    "#aplicacao do pipeline nos dados treino - ajuste da transformacao\n",
    "fitted_transformer = transform_pipeline.fit(train_df)\n",
    "\n",
    "#aplicacao da transformacao nos dados de treino\n",
    "transformed_train_df = fitted_transformer.transform(train_df)\n",
    "\n",
    "transformed_train_df.limit(5).toPandas()"
   ]
  },
  {
   "cell_type": "markdown",
   "metadata": {},
   "source": [
    "## 5.2 Regressão Logísitica"
   ]
  },
  {
   "cell_type": "markdown",
   "metadata": {},
   "source": [
    "### 5.2.1 Treinamento do Modelo"
   ]
  },
  {
   "cell_type": "code",
   "execution_count": 53,
   "metadata": {},
   "outputs": [],
   "source": [
    "log_reg = LogisticRegression(featuresCol='features_vector', labelCol='DELAY') \n",
    "\n",
    "pipe_stages_log_reg = stages + [log_reg]\n",
    "pipe_log_reg  = Pipeline(stages=pipe_stages_log_reg )"
   ]
  },
  {
   "cell_type": "code",
   "execution_count": 54,
   "metadata": {},
   "outputs": [],
   "source": [
    "fitted_pipe_log_reg = pipe_log_reg.fit(train_df)"
   ]
  },
  {
   "cell_type": "code",
   "execution_count": 55,
   "metadata": {},
   "outputs": [],
   "source": [
    "pred_log_reg = fitted_pipe_log_reg.transform(test_df)"
   ]
  },
  {
   "cell_type": "markdown",
   "metadata": {},
   "source": [
    "### 5.2.2 Avaliação do Modelo"
   ]
  },
  {
   "cell_type": "code",
   "execution_count": 56,
   "metadata": {},
   "outputs": [
    {
     "name": "stdout",
     "output_type": "stream",
     "text": [
      "Acurácia da Regressão Logística: 0.8264271189388416\n",
      "              precision    recall  f1-score   support\n",
      "\n",
      "           0       0.80      0.97      0.88    767186\n",
      "           1       0.91      0.57      0.70    428790\n",
      "\n",
      "    accuracy                           0.83   1195976\n",
      "   macro avg       0.86      0.77      0.79   1195976\n",
      "weighted avg       0.84      0.83      0.81   1195976\n",
      "\n"
     ]
    }
   ],
   "source": [
    "# Crie um avaliador de classificação multiclasse\n",
    "evaluator = MulticlassClassificationEvaluator(labelCol=\"DELAY\", predictionCol=\"prediction\", metricName=\"accuracy\")\n",
    "\n",
    "# Avalie o modelo e obtenha a matriz de confusão\n",
    "accuracy_log = evaluator.evaluate(pred_log_reg)\n",
    "print(f\"Acurácia da Regressão Logística: {accuracy_log}\")\n",
    "\n",
    "# Matriz de confusão\n",
    "y_true_log = pred_log_reg.select(['DELAY']).collect()\n",
    "y_pred_log = pred_log_reg.select(['prediction']).collect()\n",
    "\n",
    "print(classification_report(y_true_log, y_pred_log))"
   ]
  },
  {
   "cell_type": "code",
   "execution_count": 57,
   "metadata": {},
   "outputs": [
    {
     "data": {
      "text/html": [
       "<div>\n",
       "<style scoped>\n",
       "    .dataframe tbody tr th:only-of-type {\n",
       "        vertical-align: middle;\n",
       "    }\n",
       "\n",
       "    .dataframe tbody tr th {\n",
       "        vertical-align: top;\n",
       "    }\n",
       "\n",
       "    .dataframe thead th {\n",
       "        text-align: right;\n",
       "    }\n",
       "</style>\n",
       "<table border=\"1\" class=\"dataframe\">\n",
       "  <thead>\n",
       "    <tr style=\"text-align: right;\">\n",
       "      <th></th>\n",
       "      <th>DELAY</th>\n",
       "      <th>prediction</th>\n",
       "      <th>probability</th>\n",
       "    </tr>\n",
       "  </thead>\n",
       "  <tbody>\n",
       "    <tr>\n",
       "      <th>0</th>\n",
       "      <td>0</td>\n",
       "      <td>0.0</td>\n",
       "      <td>[0.9349190257357293, 0.06508097426427073]</td>\n",
       "    </tr>\n",
       "    <tr>\n",
       "      <th>1</th>\n",
       "      <td>0</td>\n",
       "      <td>0.0</td>\n",
       "      <td>[0.9487541029638428, 0.05124589703615723]</td>\n",
       "    </tr>\n",
       "    <tr>\n",
       "      <th>2</th>\n",
       "      <td>0</td>\n",
       "      <td>0.0</td>\n",
       "      <td>[0.7577562567252812, 0.24224374327471876]</td>\n",
       "    </tr>\n",
       "    <tr>\n",
       "      <th>3</th>\n",
       "      <td>0</td>\n",
       "      <td>0.0</td>\n",
       "      <td>[0.9111314879139608, 0.08886851208603919]</td>\n",
       "    </tr>\n",
       "    <tr>\n",
       "      <th>4</th>\n",
       "      <td>0</td>\n",
       "      <td>0.0</td>\n",
       "      <td>[0.9261097432136534, 0.07389025678634664]</td>\n",
       "    </tr>\n",
       "  </tbody>\n",
       "</table>\n",
       "</div>"
      ],
      "text/plain": [
       "   DELAY  prediction                                probability\n",
       "0      0         0.0  [0.9349190257357293, 0.06508097426427073]\n",
       "1      0         0.0  [0.9487541029638428, 0.05124589703615723]\n",
       "2      0         0.0  [0.7577562567252812, 0.24224374327471876]\n",
       "3      0         0.0  [0.9111314879139608, 0.08886851208603919]\n",
       "4      0         0.0  [0.9261097432136534, 0.07389025678634664]"
      ]
     },
     "execution_count": 57,
     "metadata": {},
     "output_type": "execute_result"
    }
   ],
   "source": [
    "pred_log_reg_pd = pred_log_reg.select('DELAY', 'prediction', 'probability').toPandas()\n",
    "pred_log_reg_pd.head()"
   ]
  },
  {
   "cell_type": "code",
   "execution_count": 58,
   "metadata": {},
   "outputs": [
    {
     "data": {
      "text/html": [
       "<div>\n",
       "<style scoped>\n",
       "    .dataframe tbody tr th:only-of-type {\n",
       "        vertical-align: middle;\n",
       "    }\n",
       "\n",
       "    .dataframe tbody tr th {\n",
       "        vertical-align: top;\n",
       "    }\n",
       "\n",
       "    .dataframe thead th {\n",
       "        text-align: right;\n",
       "    }\n",
       "</style>\n",
       "<table border=\"1\" class=\"dataframe\">\n",
       "  <thead>\n",
       "    <tr style=\"text-align: right;\">\n",
       "      <th></th>\n",
       "      <th>DELAY</th>\n",
       "      <th>prediction</th>\n",
       "      <th>probability</th>\n",
       "      <th>encoded_DELAY</th>\n",
       "    </tr>\n",
       "  </thead>\n",
       "  <tbody>\n",
       "    <tr>\n",
       "      <th>0</th>\n",
       "      <td>0</td>\n",
       "      <td>0.0</td>\n",
       "      <td>[0.9349190257357293, 0.06508097426427073]</td>\n",
       "      <td>[1.0, 0.0]</td>\n",
       "    </tr>\n",
       "    <tr>\n",
       "      <th>1</th>\n",
       "      <td>0</td>\n",
       "      <td>0.0</td>\n",
       "      <td>[0.9487541029638428, 0.05124589703615723]</td>\n",
       "      <td>[1.0, 0.0]</td>\n",
       "    </tr>\n",
       "    <tr>\n",
       "      <th>2</th>\n",
       "      <td>0</td>\n",
       "      <td>0.0</td>\n",
       "      <td>[0.7577562567252812, 0.24224374327471876]</td>\n",
       "      <td>[1.0, 0.0]</td>\n",
       "    </tr>\n",
       "    <tr>\n",
       "      <th>3</th>\n",
       "      <td>0</td>\n",
       "      <td>0.0</td>\n",
       "      <td>[0.9111314879139608, 0.08886851208603919]</td>\n",
       "      <td>[1.0, 0.0]</td>\n",
       "    </tr>\n",
       "    <tr>\n",
       "      <th>4</th>\n",
       "      <td>0</td>\n",
       "      <td>0.0</td>\n",
       "      <td>[0.9261097432136534, 0.07389025678634664]</td>\n",
       "      <td>[1.0, 0.0]</td>\n",
       "    </tr>\n",
       "  </tbody>\n",
       "</table>\n",
       "</div>"
      ],
      "text/plain": [
       "   DELAY  prediction                                probability encoded_DELAY\n",
       "0      0         0.0  [0.9349190257357293, 0.06508097426427073]    [1.0, 0.0]\n",
       "1      0         0.0  [0.9487541029638428, 0.05124589703615723]    [1.0, 0.0]\n",
       "2      0         0.0  [0.7577562567252812, 0.24224374327471876]    [1.0, 0.0]\n",
       "3      0         0.0  [0.9111314879139608, 0.08886851208603919]    [1.0, 0.0]\n",
       "4      0         0.0  [0.9261097432136534, 0.07389025678634664]    [1.0, 0.0]"
      ]
     },
     "execution_count": 58,
     "metadata": {},
     "output_type": "execute_result"
    }
   ],
   "source": [
    "pred_log_reg_pd['probability'] = pred_log_reg_pd['probability'].map(lambda x: list(x))\n",
    "pred_log_reg_pd['encoded_DELAY'] = pred_log_reg_pd['DELAY'].map(lambda x: np.eye(2)[int(x)])\n",
    "pred_log_reg_pd.head()"
   ]
  },
  {
   "cell_type": "code",
   "execution_count": 59,
   "metadata": {},
   "outputs": [],
   "source": [
    "y_pred_log_reg = np.array(pred_log_reg_pd['probability'].tolist())\n",
    "y_true_log_reg = np.array(pred_log_reg_pd['encoded_DELAY'].tolist())"
   ]
  },
  {
   "cell_type": "code",
   "execution_count": 60,
   "metadata": {},
   "outputs": [
    {
     "name": "stdout",
     "output_type": "stream",
     "text": [
      "AUC Regressão Logística: 0.857\n"
     ]
    }
   ],
   "source": [
    "fpr_log, tpr_log, threshold = roc_curve(y_score=y_pred_log_reg[:,0], y_true=y_true_log_reg[:,0])\n",
    "auc_log = auc(fpr_log, tpr_log)\n",
    "\n",
    "print('AUC Regressão Logística: {:.3f}'.format(auc_log))"
   ]
  },
  {
   "cell_type": "code",
   "execution_count": 61,
   "metadata": {},
   "outputs": [
    {
     "name": "stderr",
     "output_type": "stream",
     "text": [
      "/tmp/ipykernel_9343/1784820852.py:2: UserWarning: color is redundantly defined by the 'color' keyword argument and the fmt string \"k--\" (-> color='k'). The keyword argument will take precedence.\n",
      "  plt.plot([0,1], [0,1], 'k--', color='orange')\n"
     ]
    },
    {
     "data": {
      "image/png": "[encoded data removed]",
      "text/plain": [
       "<Figure size 640x480 with 1 Axes>"
      ]
     },
     "metadata": {},
     "output_type": "display_data"
    }
   ],
   "source": [
    "plt.figure()\n",
    "plt.plot([0,1], [0,1], 'k--', color='orange')\n",
    "plt.plot(fpr_log, tpr_log, label='auc = {:.3f}'.format(auc_log))\n",
    "plt.xlabel('Taxa de Falso Positivo')\n",
    "plt.ylabel('Taxa de Positivos Verdadeiro')\n",
    "plt.title('Regressão Logística - Curva ROC')\n",
    "plt.legend(loc='lower right')\n",
    "plt.grid()\n",
    "plt.show()"
   ]
  },
  {
   "cell_type": "markdown",
   "metadata": {},
   "source": [
    "## 5.3 Floresta Aleatória"
   ]
  },
  {
   "cell_type": "markdown",
   "metadata": {},
   "source": [
    "### 5.3.1 Treinamento do Modelo - 50 Árvores"
   ]
  },
  {
   "cell_type": "code",
   "execution_count": 62,
   "metadata": {},
   "outputs": [],
   "source": [
    "# Floresta aleatoria com 50 arvores\n",
    "rf = RandomForestClassifier(labelCol='DELAY', featuresCol='features_vector', \n",
    "                            numTrees=50, maxDepth = 10, \n",
    "                            maxBins=20, subsamplingRate=0.6,\n",
    "                            minInfoGain= 1e-05,\n",
    "                            featureSubsetStrategy='all',\n",
    "                                minInstancesPerNode=2)\n",
    "\n",
    "pipe_stages_rf = stages + [rf]\n",
    "pipe_rf  = Pipeline(stages=pipe_stages_rf )\n",
    "fitted_pipe_rf = pipe_rf.fit(train_df)\n",
    "pred_rf = fitted_pipe_rf.transform(test_df)"
   ]
  },
  {
   "cell_type": "markdown",
   "metadata": {},
   "source": [
    "### 5.3.2 Avaliação do Modelo - 50 Árvores"
   ]
  },
  {
   "cell_type": "code",
   "execution_count": null,
   "metadata": {},
   "outputs": [],
   "source": []
  },
  {
   "cell_type": "code",
   "execution_count": 63,
   "metadata": {},
   "outputs": [
    {
     "name": "stdout",
     "output_type": "stream",
     "text": [
      "Acurácia da Floresta Aleatória (50 árvores): 0.8086408088456625\n",
      "              precision    recall  f1-score   support\n",
      "\n",
      "           0       0.78      0.99      0.87    767186\n",
      "           1       0.96      0.49      0.65    428790\n",
      "\n",
      "    accuracy                           0.81   1195976\n",
      "   macro avg       0.87      0.74      0.76   1195976\n",
      "weighted avg       0.84      0.81      0.79   1195976\n",
      "\n"
     ]
    }
   ],
   "source": [
    "# Crie um avaliador de classificação multiclasse\n",
    "evaluator_rf = MulticlassClassificationEvaluator(labelCol=\"DELAY\", predictionCol=\"prediction\", metricName=\"accuracy\")\n",
    "\n",
    "# Avalie o modelo e obtenha a matriz de confusão\n",
    "accuracy_rf = evaluator_rf.evaluate(pred_rf)\n",
    "print(f\"Acurácia da Floresta Aleatória (50 árvores): {accuracy_rf}\")\n",
    "\n",
    "# Matriz de confusão\n",
    "y_true_rf = pred_rf.select(['DELAY']).collect()\n",
    "y_pred_rf = pred_rf.select(['prediction']).collect()\n",
    "\n",
    "print(classification_report(y_true_rf, y_pred_rf))"
   ]
  },
  {
   "cell_type": "code",
   "execution_count": 64,
   "metadata": {},
   "outputs": [
    {
     "name": "stdout",
     "output_type": "stream",
     "text": [
      "AUC Floresta Aleatória: 0.805\n"
     ]
    }
   ],
   "source": [
    "pred_rf_pd = pred_rf.select('DELAY', 'prediction', 'probability').toPandas()\n",
    "pred_rf_pd['probability'] = pred_rf_pd['probability'].map(lambda x: list(x))\n",
    "pred_rf_pd['encoded_DELAY'] = pred_rf_pd['DELAY'].map(lambda x: np.eye(2)[int(x)])\n",
    "\n",
    "y_pred_rf = np.array(pred_rf_pd['probability'].tolist())\n",
    "y_true_rf = np.array(pred_rf_pd['encoded_DELAY'].tolist())\n",
    "\n",
    "fpr_rf, tpr_rf, threshold_rf = roc_curve(y_score=y_pred_rf[:,0], y_true=y_true_rf[:,0])\n",
    "auc_rf = auc(fpr_rf, tpr_rf)\n",
    "print('AUC Floresta Aleatória: {:.3f}'.format(auc_rf))\n"
   ]
  },
  {
   "cell_type": "code",
   "execution_count": 65,
   "metadata": {},
   "outputs": [
    {
     "name": "stderr",
     "output_type": "stream",
     "text": [
      "/tmp/ipykernel_9343/3232007868.py:2: UserWarning: color is redundantly defined by the 'color' keyword argument and the fmt string \"k--\" (-> color='k'). The keyword argument will take precedence.\n",
      "  plt.plot([0,1], [0,1], 'k--', color='orange')\n"
     ]
    },
    {
     "data": {
      "image/png": "[encoded data removed]",
      "text/plain": [
       "<Figure size 640x480 with 1 Axes>"
      ]
     },
     "metadata": {},
     "output_type": "display_data"
    }
   ],
   "source": [
    "plt.figure()\n",
    "plt.plot([0,1], [0,1], 'k--', color='orange')\n",
    "plt.plot(fpr_rf, tpr_rf, label='auc = {:.3f}'.format(auc_rf))\n",
    "#plt.plot(fpr_log, tpr_log)\n",
    "plt.xlabel('Taxa de Falso Positivo')\n",
    "plt.ylabel('Taxa de Positivos Verdadeiro')\n",
    "plt.title('Floresta Aleatória - Curva ROC')\n",
    "plt.legend(loc='lower right')\n",
    "plt.grid()\n",
    "plt.show()"
   ]
  },
  {
   "cell_type": "markdown",
   "metadata": {},
   "source": [
    "## 5.4 Floresta Aleatória Tunada"
   ]
  },
  {
   "cell_type": "markdown",
   "metadata": {},
   "source": [
    "### 5.4.1 Obtenção dos melhores hiperparâmetros da Floresta Aleatória"
   ]
  },
  {
   "cell_type": "code",
   "execution_count": 66,
   "metadata": {},
   "outputs": [],
   "source": [
    "# profundidade da árvore de 10 e 20 e testando com 50 e 100 árvores\n",
    "\n",
    "paramGrid = ParamGridBuilder().addGrid(rf.maxDepth, [10,20]).addGrid(rf.numTrees, [50,100]).build()\n",
    "\n",
    "cv = CrossValidator(estimator=pipe_rf, \n",
    "                    evaluator=BinaryClassificationEvaluator(labelCol='DELAY', metricName='areaUnderROC'),\n",
    "                    estimatorParamMaps=paramGrid,\n",
    "                    numFolds=5, parallelism=2) #número de folds = 5\n",
    "\n"
   ]
  },
  {
   "cell_type": "code",
   "execution_count": 67,
   "metadata": {},
   "outputs": [],
   "source": [
    "bestModel_rf = cv.fit(toy_df) #obtencao do melhor modelo"
   ]
  },
  {
   "cell_type": "code",
   "execution_count": 68,
   "metadata": {},
   "outputs": [
    {
     "data": {
      "text/html": [
       "<div>\n",
       "<style scoped>\n",
       "    .dataframe tbody tr th:only-of-type {\n",
       "        vertical-align: middle;\n",
       "    }\n",
       "\n",
       "    .dataframe tbody tr th {\n",
       "        vertical-align: top;\n",
       "    }\n",
       "\n",
       "    .dataframe thead th {\n",
       "        text-align: right;\n",
       "    }\n",
       "</style>\n",
       "<table border=\"1\" class=\"dataframe\">\n",
       "  <thead>\n",
       "    <tr style=\"text-align: right;\">\n",
       "      <th></th>\n",
       "      <th>areaUnderROC</th>\n",
       "      <th>Number of Trees</th>\n",
       "      <th>Max Depth</th>\n",
       "    </tr>\n",
       "  </thead>\n",
       "  <tbody>\n",
       "    <tr>\n",
       "      <th>3</th>\n",
       "      <td>0.814377</td>\n",
       "      <td>100</td>\n",
       "      <td>20</td>\n",
       "    </tr>\n",
       "    <tr>\n",
       "      <th>1</th>\n",
       "      <td>0.810461</td>\n",
       "      <td>50</td>\n",
       "      <td>20</td>\n",
       "    </tr>\n",
       "    <tr>\n",
       "      <th>2</th>\n",
       "      <td>0.810382</td>\n",
       "      <td>100</td>\n",
       "      <td>10</td>\n",
       "    </tr>\n",
       "    <tr>\n",
       "      <th>0</th>\n",
       "      <td>0.809340</td>\n",
       "      <td>50</td>\n",
       "      <td>10</td>\n",
       "    </tr>\n",
       "  </tbody>\n",
       "</table>\n",
       "</div>"
      ],
      "text/plain": [
       "   areaUnderROC  Number of Trees  Max Depth\n",
       "3      0.814377              100         20\n",
       "1      0.810461               50         20\n",
       "2      0.810382              100         10\n",
       "0      0.809340               50         10"
      ]
     },
     "execution_count": 68,
     "metadata": {},
     "output_type": "execute_result"
    }
   ],
   "source": [
    "bestModel_rf.avgMetrics\n",
    "\n",
    "m_depth = [10, 20]\n",
    "n_trees = [50, 100]\n",
    "num_trees = [n for n in n_trees for m in m_depth]\n",
    "max_depth = [m for n in n_trees for m in m_depth]\n",
    "\n",
    "roc_auc_df = pd.DataFrame({'areaUnderROC':bestModel_rf.avgMetrics,\n",
    "                        'Number of Trees': num_trees, \n",
    "                        'Max Depth': max_depth})\n",
    "\n",
    "roc_auc_df.sort_values(by='areaUnderROC', ascending=False)"
   ]
  },
  {
   "cell_type": "code",
   "execution_count": 69,
   "metadata": {},
   "outputs": [],
   "source": [
    "max_roc_auc = roc_auc_df['areaUnderROC'].max()\n",
    "linha_max_roc_auc = roc_auc_df.loc[roc_auc_df['areaUnderROC'] == max_roc_auc]\n",
    "depth = linha_max_roc_auc['Max Depth'].values[0]\n",
    "tree = linha_max_roc_auc['Number of Trees'].values[0]"
   ]
  },
  {
   "cell_type": "markdown",
   "metadata": {},
   "source": [
    "### 5.4.2 Treinamento do Modelo - Floresta Ótima"
   ]
  },
  {
   "cell_type": "code",
   "execution_count": null,
   "metadata": {},
   "outputs": [],
   "source": [
    "rf_best = RandomForestClassifier(labelCol='DELAY', featuresCol='features_vector',\n",
    "                                 numTrees=tree, maxDepth = depth,\n",
    "                                 maxBins=20, subsamplingRate=0.6,\n",
    "                                 minInfoGain= 1e-05,\n",
    "                                 featureSubsetStrategy='all',\n",
    "                                 minInstancesPerNode=2)\n",
    "\n",
    "pipe_stages_rf_best = stages + [rf_best]\n",
    "pipe_rf_best  = Pipeline(stages=pipe_stages_rf_best )\n",
    "fitted_pipe_rf_best = pipe_rf_best.fit(train_df)\n",
    "pred_rf_best = fitted_pipe_rf_best.transform(test_df)\n"
   ]
  },
  {
   "cell_type": "markdown",
   "metadata": {},
   "source": [
    "### 5.4.3 Avaliação do Modelo - Florestá Ótima"
   ]
  },
  {
   "cell_type": "code",
   "execution_count": null,
   "metadata": {},
   "outputs": [],
   "source": [
    "# Crie um avaliador de classificação multiclasse\n",
    "evaluator_rf_best = MulticlassClassificationEvaluator(labelCol=\"DELAY\", predictionCol=\"prediction\", metricName=\"accuracy\")\n",
    "\n",
    "# Avalie o modelo e obtenha a matriz de confusão\n",
    "accuracy_rf_best = evaluator_rf.evaluate(pred_rf_best)\n",
    "print(f\"Acurácia da Floresta Aleatória Ótima (50 árvores): {accuracy_rf_best}\")\n",
    "\n",
    "# Matriz de confusão\n",
    "true_rf_best = pred_rf_best.select(['DELAY']).collect()\n",
    "pred_rf_best = pred_rf_best.select(['prediction']).collect()\n",
    "\n",
    "print(classification_report(true_rf_best, pred_rf_best))"
   ]
  },
  {
   "cell_type": "code",
   "execution_count": null,
   "metadata": {},
   "outputs": [],
   "source": [
    "pred_rf_best_pd = pred_rf_best.select('DELAY', 'prediction', 'probability').toPandas()\n",
    "pred_rf_best_pd['probability'] = pred_rf_best_pd['probability'].map(lambda x: list(x))\n",
    "pred_rf_best_pd['encoded_DELAY'] = pred_rf_best_pd['DELAY'].map(lambda x: np.eye(2)[int(x)])\n",
    "\n",
    "y_pred_rf_best = np.array(pred_rf_best_pd['probability'].tolist())\n",
    "y_true_rf_best = np.array(pred_rf_best_pd['encoded_DELAY'].tolist())\n",
    "\n",
    "fpr_rf_best, tpr_rf_best, threshold_rf_best = roc_curve(y_score=y_pred_rf_best[:,0], y_true=y_true_rf_best[:,0])\n",
    "auc_rf_best = auc(fpr_rf_best, tpr_rf_best)\n",
    "print('AUC Floresta Aleatória Ótima: {:.3f}'.format(auc_rf_best))"
   ]
  },
  {
   "cell_type": "code",
   "execution_count": null,
   "metadata": {},
   "outputs": [],
   "source": [
    "plt.figure()\n",
    "plt.plot([0,1], [0,1], 'k--', color='orange')\n",
    "plt.plot(fpr_rf_best, tpr_rf_best, label='auc = {:.3f}'.format(auc_rf_best))\n",
    "#plt.plot(fpr_log, tpr_log)\n",
    "plt.xlabel('Taxa de Falso Positivo')\n",
    "plt.ylabel('Taxa de Positivos Verdadeiro')\n",
    "plt.title('Floresta Aleatória Ótima - Curva ROC')\n",
    "plt.legend(loc='lower right')\n",
    "plt.grid()\n",
    "plt.show()"
   ]
  },
  {
   "cell_type": "markdown",
   "metadata": {},
   "source": [
    "## 5.5 Análise de Desempenho dos Modelos"
   ]
  },
  {
   "cell_type": "code",
   "execution_count": null,
   "metadata": {},
   "outputs": [],
   "source": [
    "plt.figure()\n",
    "plt.plot([0,1], [0,1], 'k--', color='orange')\n",
    "plt.plot(fpr_log, tpr_log, label='Regressão Logística - AUC: {:.3f}'.format(auc_log))\n",
    "plt.plot(fpr_rf, tpr_rf, label='Floresta Aleatória - AUC: {:.3f}'.format(auc_rf))\n",
    "plt.plot(fpr_rf_best, tpr_rf_best, label='Floresta Aleatória Ótima - AUC: {:.3f}'.format(auc_rf_best))\n",
    "plt.xlabel('Taxa de Falso Positivo')\n",
    "plt.ylabel('Taxa de Positivos Verdadeiro')\n",
    "plt.title('Análise Curva ROC')\n",
    "plt.legend(loc='lower right')\n",
    "plt.grid()\n",
    "plt.show()"
   ]
  },
  {
   "cell_type": "code",
   "execution_count": null,
   "metadata": {},
   "outputs": [],
   "source": [
    "# como cancelar o cache\n",
    "df.unpersist()"
   ]
  },
  {
   "cell_type": "code",
   "execution_count": null,
   "metadata": {},
   "outputs": [],
   "source": []
  }
 ],
 "metadata": {
  "colab": {
   "provenance": []
  },
  "hide_input": false,
  "kernelspec": {
   "display_name": "Python 3 (ipykernel)",
   "language": "python",
   "name": "python3"
  },
  "language_info": {
   "codemirror_mode": {
    "name": "ipython",
    "version": 3
   },
   "file_extension": ".py",
   "mimetype": "text/x-python",
   "name": "python",
   "nbconvert_exporter": "python",
   "pygments_lexer": "ipython3",
   "version": "3.10.8"
  },
  "toc": {
   "base_numbering": 1,
   "nav_menu": {},
   "number_sections": true,
   "sideBar": true,
   "skip_h1_title": false,
   "title_cell": "Table of Contents",
   "title_sidebar": "Contents",
   "toc_cell": false,
   "toc_position": {},
   "toc_section_display": true,
   "toc_window_display": false
  },
  "varInspector": {
   "cols": {
    "lenName": 16,
    "lenType": 16,
    "lenVar": 40
   },
   "kernels_config": {
    "python": {
     "delete_cmd_postfix": "",
     "delete_cmd_prefix": "del ",
     "library": "var_list.py",
     "varRefreshCmd": "print(var_dic_list())"
    },
    "r": {
     "delete_cmd_postfix": ") ",
     "delete_cmd_prefix": "rm(",
     "library": "var_list.r",
     "varRefreshCmd": "cat(var_dic_list()) "
    }
   },
   "types_to_exclude": [
    "module",
    "function",
    "builtin_function_or_method",
    "instance",
    "_Feature"
   ],
   "window_display": false
  }
 },
 "nbformat": 4,
 "nbformat_minor": 4
}
